{
 "metadata": {
  "name": "",
  "signature": "sha256:ee3cbac4800d7ea8a785a78d2aff5b59caccd9f6a719ef65ea6e407f970d3e2a"
 },
 "nbformat": 3,
 "nbformat_minor": 0,
 "worksheets": [
  {
   "cells": [
    {
     "cell_type": "heading",
     "level": 2,
     "metadata": {},
     "source": [
      "Batch Data Collection"
     ]
    },
    {
     "cell_type": "markdown",
     "metadata": {},
     "source": [
      "This notebook will download all 100k+ articles with abstracts from the PLOS api."
     ]
    },
    {
     "cell_type": "heading",
     "level": 3,
     "metadata": {},
     "source": [
      "Imports"
     ]
    },
    {
     "cell_type": "code",
     "collapsed": false,
     "input": [
      "import pandas as pd\n",
      "import numpy as np\n",
      "import settings\n",
      "import requests\n",
      "import urllib\n",
      "import time"
     ],
     "language": "python",
     "metadata": {},
     "outputs": [],
     "prompt_number": 14
    },
    {
     "cell_type": "heading",
     "level": 3,
     "metadata": {},
     "source": [
      "API Call Function"
     ]
    },
    {
     "cell_type": "code",
     "collapsed": false,
     "input": [
      "#adapted from Raymond's notebook\n",
      "\n",
      "def plos_search(q,start=0,rows=100,fl=None, extras=None):\n",
      "\n",
      "    BASE_URL = 'http://api.plos.org/search'\n",
      "    DEFAULT_FL = ('abstract','author_display',\n",
      "                  'id','journal','publication_date',\n",
      "                  'score','title_display', 'subject','subject_level')\n",
      "        #removed elements: eissn, article_type\n",
      "    \n",
      "    # fl indicates fields to return\n",
      "    # http://wiki.apache.org/solr/CommonQueryParameters#fl\n",
      "    \n",
      "    if fl is None:\n",
      "        fl_ = \",\".join(DEFAULT_FL)\n",
      "    else:\n",
      "        fl_ = \",\".join(fl)\n",
      "        \n",
      "    query = {'q':q,\n",
      "             'start':start,\n",
      "             'rows':rows,\n",
      "             'api_key':settings.PLOS_KEY,\n",
      "             'wt':'json',\n",
      "             'fl':fl_,\n",
      "             'fq': 'doc_type:full AND !article_type_facet:\"Issue Image\"'}\n",
      "    \n",
      "    if extras is not None:\n",
      "        query.update(extras)\n",
      "        \n",
      "    query_url = BASE_URL + \"?\" +urllib.urlencode(query)\n",
      "    \n",
      "    r = requests.get(query_url)\n",
      "    return r"
     ],
     "language": "python",
     "metadata": {},
     "outputs": [],
     "prompt_number": 3
    },
    {
     "cell_type": "heading",
     "level": 3,
     "metadata": {},
     "source": [
      "Finding Parameters"
     ]
    },
    {
     "cell_type": "markdown",
     "metadata": {},
     "source": [
      "Need to make sure the calls do not exceed the following:\n",
      "\n",
      "7200 requests a day, 300 per hour, 10 per minute and allow 5 seconds for your search to return results.\n",
      "\n",
      "To be safe there will be a 15 second wait between each call:\n",
      "15 sec per call\n",
      "4 calls per minute\n",
      "240 calls per hour"
     ]
    },
    {
     "cell_type": "markdown",
     "metadata": {},
     "source": [
      "Call for all articles"
     ]
    },
    {
     "cell_type": "code",
     "collapsed": false,
     "input": [
      "r = plos_search(q=\"*:*\")"
     ],
     "language": "python",
     "metadata": {},
     "outputs": [],
     "prompt_number": 4
    },
    {
     "cell_type": "markdown",
     "metadata": {},
     "source": [
      "Check the total number of articles with abstracts."
     ]
    },
    {
     "cell_type": "code",
     "collapsed": false,
     "input": [
      "tot_articles = r.json()['response']['numFound']\n",
      "tot_articles"
     ],
     "language": "python",
     "metadata": {},
     "outputs": [
      {
       "metadata": {},
       "output_type": "pyout",
       "prompt_number": 8,
       "text": [
        "118545"
       ]
      }
     ],
     "prompt_number": 8
    },
    {
     "cell_type": "markdown",
     "metadata": {},
     "source": [
      "With 118545 acticles total that means that we will have to perform 1,186 API requests at 100 articles per request.\n",
      "\n",
      "At 240 requests per hour it should take about 5 hours to get all the data needed."
     ]
    },
    {
     "cell_type": "heading",
     "level": 3,
     "metadata": {},
     "source": [
      "Looping Function"
     ]
    },
    {
     "cell_type": "markdown",
     "metadata": {},
     "source": [
      "This function will call the plos_search function every 15 seconds while incrementing the start number so that all of the articles can be pulled."
     ]
    },
    {
     "cell_type": "code",
     "collapsed": false,
     "input": [
      "def data_request(end, start=0):\n",
      "    loops = (end/100) + 1\n",
      "    for n in range(loops):\n",
      "        r = plos_search(q=\"*:*\", start=start)\n",
      "        \n",
      "        #store data before next call\n",
      "        data = r.json()['response']['docs']\n",
      "        if start == 0:\n",
      "            abstract_df = pd.DataFrame(data)\n",
      "        else:\n",
      "            abstract_df = abstract_df.append(pd.DataFrame(data))\n",
      "        \n",
      "        #increment the start for the next request\n",
      "        start+=100\n",
      "        \n",
      "        #every 10000 articles pickle the dataframe\n",
      "        if (start%10000)==0:\n",
      "            abstract_df.to_pickle('abstract_df.pkl')\n",
      "        \n",
      "        #wait 15 seconds before the next loop\n",
      "        time.sleep(15)\n",
      "        \n",
      "    #pickle when finished\n",
      "    abstract_df.to_pickle('abstract_df.pkl')\n",
      "    \n",
      "    return abstract_df\n",
      "        "
     ],
     "language": "python",
     "metadata": {},
     "outputs": [],
     "prompt_number": 23
    },
    {
     "cell_type": "markdown",
     "metadata": {},
     "source": [
      "Now we can run the function inputing the tot_articles as the end parameter."
     ]
    },
    {
     "cell_type": "raw",
     "metadata": {},
     "source": [
      "abstract_df = data_request(end)"
     ]
    },
    {
     "cell_type": "heading",
     "level": 3,
     "metadata": {},
     "source": [
      "Exploring Output"
     ]
    },
    {
     "cell_type": "code",
     "collapsed": false,
     "input": [
      "abstract_df.head()"
     ],
     "language": "python",
     "metadata": {},
     "outputs": []
    },
    {
     "cell_type": "heading",
     "level": 3,
     "metadata": {},
     "source": [
      "Cleaning Output"
     ]
    },
    {
     "cell_type": "code",
     "collapsed": false,
     "input": [],
     "language": "python",
     "metadata": {},
     "outputs": []
    }
   ],
   "metadata": {}
  }
 ]
}