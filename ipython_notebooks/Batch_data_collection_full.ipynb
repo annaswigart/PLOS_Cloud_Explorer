{
 "metadata": {
  "gist_id": "11133500",
  "name": "",
  "signature": "sha256:969f3bc5dbe48f33b1b65dc221a5a7781d453ac0fc5bef9b2c16e026f495d3cd"
 },
 "nbformat": 3,
 "nbformat_minor": 0,
 "worksheets": [
  {
   "cells": [
    {
     "cell_type": "heading",
     "level": 1,
     "metadata": {},
     "source": [
      "Batch Data Collection"
     ]
    },
    {
     "cell_type": "markdown",
     "metadata": {},
     "source": [
      "This notebook will download all 100k+ articles with abstracts from the PLOS api."
     ]
    },
    {
     "cell_type": "heading",
     "level": 3,
     "metadata": {},
     "source": [
      "Imports"
     ]
    },
    {
     "cell_type": "code",
     "collapsed": false,
     "input": [
      "import pandas as pd\n",
      "import numpy as np \n",
      "import settings\n",
      "import requests\n",
      "import urllib\n",
      "import time\n",
      "from retrying import retry\n",
      "import os"
     ],
     "language": "python",
     "metadata": {},
     "outputs": [],
     "prompt_number": 5
    },
    {
     "cell_type": "heading",
     "level": 2,
     "metadata": {},
     "source": [
      "API Call Function"
     ]
    },
    {
     "cell_type": "code",
     "collapsed": false,
     "input": [
      "#adapted from Raymond's notebook\n",
      "\n",
      "def plos_search(q,start=0,rows=100,fl=None, extras=None):\n",
      "\n",
      "    BASE_URL = 'http://api.plos.org/search'\n",
      "    DEFAULT_FL = ('abstract','author',\n",
      "                  'id','journal','publication_date',\n",
      "                  'score','title_display', 'subject','subject_level')\n",
      "        #removed elements: eissn, article_type\n",
      "    \n",
      "    # fl indicates fields to return\n",
      "    # http://wiki.apache.org/solr/CommonQueryParameters#fl\n",
      "    \n",
      "    if fl is None:\n",
      "        fl_ = \",\".join(DEFAULT_FL)\n",
      "    else:\n",
      "        fl_ = \",\".join(fl)\n",
      "        \n",
      "    query = {'q':q,\n",
      "             'start':start,\n",
      "             'rows':rows,\n",
      "             'api_key':settings.PLOS_KEY,\n",
      "             'wt':'json',\n",
      "             'fl':fl_,\n",
      "             'fq': 'doc_type:full AND !article_type_facet:\"Issue Image\"'}\n",
      "    \n",
      "    if extras is not None:\n",
      "        query.update(extras)\n",
      "        \n",
      "    query_url = BASE_URL + \"?\" +urllib.urlencode(query)\n",
      "    \n",
      "    r = requests.get(query_url)\n",
      "    return r"
     ],
     "language": "python",
     "metadata": {},
     "outputs": [],
     "prompt_number": 6
    },
    {
     "cell_type": "heading",
     "level": 2,
     "metadata": {},
     "source": [
      "Finding Parameters"
     ]
    },
    {
     "cell_type": "markdown",
     "metadata": {},
     "source": [
      "Need to make sure the calls do not exceed the following: \n",
      "\n",
      "* 7200 requests a day, 300 per hour, 10 per minute and allow 5 seconds for your search to return results.\n",
      "\n",
      "To be safe there will be a 15 second wait between each call:\n",
      "\n",
      "* 15 sec per call\n",
      "* 4 calls per minute\n",
      "* 240 calls per hour"
     ]
    },
    {
     "cell_type": "heading",
     "level": 3,
     "metadata": {},
     "source": [
      "Call for all articles"
     ]
    },
    {
     "cell_type": "code",
     "collapsed": false,
     "input": [
      "r = plos_search(q='*')"
     ],
     "language": "python",
     "metadata": {},
     "outputs": [],
     "prompt_number": 7
    },
    {
     "cell_type": "heading",
     "level": 3,
     "metadata": {},
     "source": [
      "Check the total number of articles with abstracts."
     ]
    },
    {
     "cell_type": "code",
     "collapsed": false,
     "input": [
      "tot_articles = r.json()['response']['numFound']\n",
      "tot_articles"
     ],
     "language": "python",
     "metadata": {},
     "outputs": [
      {
       "metadata": {},
       "output_type": "pyout",
       "prompt_number": 21,
       "text": [
        "119637"
       ]
      }
     ],
     "prompt_number": 21
    },
    {
     "cell_type": "markdown",
     "metadata": {},
     "source": [
      "With <s>118545</s> 119637 acticles total that means that we will have to perform 1,186 API requests at 100 articles per request.\n",
      "\n",
      "At 240 requests per hour it should take about 5 hours to get all the data needed."
     ]
    },
    {
     "cell_type": "heading",
     "level": 2,
     "metadata": {},
     "source": [
      "Looping Function"
     ]
    },
    {
     "cell_type": "markdown",
     "metadata": {},
     "source": [
      "This function will call the plos_search function every 15 seconds while incrementing the start number so that all of the articles can be pulled."
     ]
    },
    {
     "cell_type": "code",
     "collapsed": false,
     "input": [
      "@retry(wait='exponential_sleep', wait_exponential_multiplier=1000, wait_exponential_max=10000, stop='stop_after_attempt', stop_max_attempt_number=200)\n",
      "def data_request(end, start=0):\n",
      "    current_end = end - start\n",
      "    rows_per_query = 100\n",
      "    loops = (current_end/rows_per_query) + 1\n",
      "    for n in range(loops):\n",
      "        current_pickle = '../data/pickles/plos_pickle_{0}.pkl'.format(n)\n",
      "        \n",
      "        #skips rows that have already been downloaded\n",
      "        if os.path.exists(current_pickle):\n",
      "            start += rows_per_query\n",
      "            continue\n",
      "            \n",
      "        r = plos_search(q='subject:*', start=start, rows=rows_per_query)\n",
      "        \n",
      "        #increment the start for the next request\n",
      "        start += rows_per_query\n",
      "        \n",
      "        #store data before next call\n",
      "        data = r.json()['response']['docs']\n",
      "        new_df = pd.DataFrame(data)\n",
      "        \n",
      "        #every request pickle the dataframe\n",
      "        new_df.to_pickle(current_pickle)\n",
      "        \n",
      "        #prints status of job\n",
      "        print start, \" articles pickled\"\n",
      "        \n",
      "        #wait 15 seconds before the next loop\n",
      "        time.sleep(7)\n",
      "    print \"DONE!\"\n",
      "        "
     ],
     "language": "python",
     "metadata": {},
     "outputs": [],
     "prompt_number": 9
    },
    {
     "cell_type": "markdown",
     "metadata": {},
     "source": [
      "Now we can run the function inputing the tot_articles as the end parameter.\n",
      "\n",
      "**Make sure that the 'all_plos_df.pkl' does not exist in the directory before running**\n",
      "crashed at 12100, 43800, 49500, 53500"
     ]
    },
    {
     "cell_type": "code",
     "collapsed": false,
     "input": [
      "all_plos_df = data_request(end=tot_articles)"
     ],
     "language": "python",
     "metadata": {},
     "outputs": [
      {
       "output_type": "stream",
       "stream": "stdout",
       "text": [
        "100  articles pickled\n",
        "200"
       ]
      },
      {
       "output_type": "stream",
       "stream": "stdout",
       "text": [
        "  articles pickled\n",
        "300"
       ]
      },
      {
       "output_type": "stream",
       "stream": "stdout",
       "text": [
        "  articles pickled\n",
        "400"
       ]
      },
      {
       "output_type": "stream",
       "stream": "stdout",
       "text": [
        "  articles pickled\n",
        "500"
       ]
      },
      {
       "output_type": "stream",
       "stream": "stdout",
       "text": [
        "  articles pickled\n",
        "600"
       ]
      },
      {
       "output_type": "stream",
       "stream": "stdout",
       "text": [
        "  articles pickled\n",
        "700"
       ]
      },
      {
       "output_type": "stream",
       "stream": "stdout",
       "text": [
        "  articles pickled\n",
        "800"
       ]
      },
      {
       "output_type": "stream",
       "stream": "stdout",
       "text": [
        "  articles pickled\n",
        "900"
       ]
      },
      {
       "output_type": "stream",
       "stream": "stdout",
       "text": [
        "  articles pickled\n",
        "1000"
       ]
      },
      {
       "output_type": "stream",
       "stream": "stdout",
       "text": [
        "  articles pickled\n",
        "1100"
       ]
      },
      {
       "output_type": "stream",
       "stream": "stdout",
       "text": [
        "  articles pickled\n",
        "1200"
       ]
      },
      {
       "output_type": "stream",
       "stream": "stdout",
       "text": [
        "  articles pickled\n",
        "1300"
       ]
      },
      {
       "output_type": "stream",
       "stream": "stdout",
       "text": [
        "  articles pickled\n",
        "1400"
       ]
      },
      {
       "output_type": "stream",
       "stream": "stdout",
       "text": [
        "  articles pickled\n",
        "1500"
       ]
      },
      {
       "output_type": "stream",
       "stream": "stdout",
       "text": [
        "  articles pickled\n",
        "1600"
       ]
      },
      {
       "output_type": "stream",
       "stream": "stdout",
       "text": [
        "  articles pickled\n",
        "1700"
       ]
      },
      {
       "output_type": "stream",
       "stream": "stdout",
       "text": [
        "  articles pickled\n",
        "1800"
       ]
      },
      {
       "output_type": "stream",
       "stream": "stdout",
       "text": [
        "  articles pickled\n",
        "1900"
       ]
      },
      {
       "output_type": "stream",
       "stream": "stdout",
       "text": [
        "  articles pickled\n",
        "2000"
       ]
      },
      {
       "output_type": "stream",
       "stream": "stdout",
       "text": [
        "  articles pickled\n",
        "2100"
       ]
      },
      {
       "output_type": "stream",
       "stream": "stdout",
       "text": [
        "  articles pickled\n",
        "2200"
       ]
      },
      {
       "output_type": "stream",
       "stream": "stdout",
       "text": [
        "  articles pickled\n",
        "2300"
       ]
      },
      {
       "output_type": "stream",
       "stream": "stdout",
       "text": [
        "  articles pickled\n",
        "2400"
       ]
      },
      {
       "output_type": "stream",
       "stream": "stdout",
       "text": [
        "  articles pickled\n",
        "2500"
       ]
      },
      {
       "output_type": "stream",
       "stream": "stdout",
       "text": [
        "  articles pickled\n",
        "2600"
       ]
      },
      {
       "output_type": "stream",
       "stream": "stdout",
       "text": [
        "  articles pickled\n",
        "2700"
       ]
      },
      {
       "output_type": "stream",
       "stream": "stdout",
       "text": [
        "  articles pickled\n",
        "2800"
       ]
      },
      {
       "output_type": "stream",
       "stream": "stdout",
       "text": [
        "  articles pickled\n",
        "2900"
       ]
      },
      {
       "output_type": "stream",
       "stream": "stdout",
       "text": [
        "  articles pickled\n",
        "3000"
       ]
      },
      {
       "output_type": "stream",
       "stream": "stdout",
       "text": [
        "  articles pickled\n",
        "3100"
       ]
      },
      {
       "output_type": "stream",
       "stream": "stdout",
       "text": [
        "  articles pickled\n",
        "3200"
       ]
      },
      {
       "output_type": "stream",
       "stream": "stdout",
       "text": [
        "  articles pickled\n",
        "3300"
       ]
      },
      {
       "output_type": "stream",
       "stream": "stdout",
       "text": [
        "  articles pickled\n",
        "3400"
       ]
      },
      {
       "output_type": "stream",
       "stream": "stdout",
       "text": [
        "  articles pickled\n",
        "3500"
       ]
      },
      {
       "output_type": "stream",
       "stream": "stdout",
       "text": [
        "  articles pickled\n",
        "3600"
       ]
      },
      {
       "output_type": "stream",
       "stream": "stdout",
       "text": [
        "  articles pickled\n",
        "3700"
       ]
      },
      {
       "output_type": "stream",
       "stream": "stdout",
       "text": [
        "  articles pickled\n",
        "3800"
       ]
      },
      {
       "output_type": "stream",
       "stream": "stdout",
       "text": [
        "  articles pickled\n",
        "3900"
       ]
      },
      {
       "output_type": "stream",
       "stream": "stdout",
       "text": [
        "  articles pickled\n",
        "4000"
       ]
      },
      {
       "output_type": "stream",
       "stream": "stdout",
       "text": [
        "  articles pickled\n",
        "4100"
       ]
      },
      {
       "output_type": "stream",
       "stream": "stdout",
       "text": [
        "  articles pickled\n",
        "4200"
       ]
      },
      {
       "output_type": "stream",
       "stream": "stdout",
       "text": [
        "  articles pickled\n",
        "4300"
       ]
      },
      {
       "output_type": "stream",
       "stream": "stdout",
       "text": [
        "  articles pickled\n",
        "4400"
       ]
      },
      {
       "output_type": "stream",
       "stream": "stdout",
       "text": [
        "  articles pickled\n",
        "4500"
       ]
      },
      {
       "output_type": "stream",
       "stream": "stdout",
       "text": [
        "  articles pickled\n",
        "4600"
       ]
      },
      {
       "output_type": "stream",
       "stream": "stdout",
       "text": [
        "  articles pickled\n",
        "4700"
       ]
      },
      {
       "output_type": "stream",
       "stream": "stdout",
       "text": [
        "  articles pickled\n",
        "4800"
       ]
      },
      {
       "output_type": "stream",
       "stream": "stdout",
       "text": [
        "  articles pickled\n",
        "4900"
       ]
      },
      {
       "output_type": "stream",
       "stream": "stdout",
       "text": [
        "  articles pickled\n",
        "5000"
       ]
      },
      {
       "output_type": "stream",
       "stream": "stdout",
       "text": [
        "  articles pickled\n",
        "5100"
       ]
      },
      {
       "output_type": "stream",
       "stream": "stdout",
       "text": [
        "  articles pickled\n",
        "5200"
       ]
      },
      {
       "output_type": "stream",
       "stream": "stdout",
       "text": [
        "  articles pickled\n",
        "5300"
       ]
      },
      {
       "output_type": "stream",
       "stream": "stdout",
       "text": [
        "  articles pickled\n",
        "5400"
       ]
      },
      {
       "output_type": "stream",
       "stream": "stdout",
       "text": [
        "  articles pickled\n",
        "5500"
       ]
      },
      {
       "output_type": "stream",
       "stream": "stdout",
       "text": [
        "  articles pickled\n",
        "5600"
       ]
      },
      {
       "output_type": "stream",
       "stream": "stdout",
       "text": [
        "  articles pickled\n",
        "5700"
       ]
      },
      {
       "output_type": "stream",
       "stream": "stdout",
       "text": [
        "  articles pickled\n",
        "5800"
       ]
      },
      {
       "output_type": "stream",
       "stream": "stdout",
       "text": [
        "  articles pickled\n",
        "5900"
       ]
      },
      {
       "output_type": "stream",
       "stream": "stdout",
       "text": [
        "  articles pickled\n",
        "6000"
       ]
      },
      {
       "output_type": "stream",
       "stream": "stdout",
       "text": [
        "  articles pickled\n",
        "6100"
       ]
      },
      {
       "output_type": "stream",
       "stream": "stdout",
       "text": [
        "  articles pickled\n",
        "6200"
       ]
      },
      {
       "output_type": "stream",
       "stream": "stdout",
       "text": [
        "  articles pickled\n",
        "6300"
       ]
      },
      {
       "output_type": "stream",
       "stream": "stdout",
       "text": [
        "  articles pickled\n",
        "6400"
       ]
      },
      {
       "output_type": "stream",
       "stream": "stdout",
       "text": [
        "  articles pickled\n",
        "6500"
       ]
      },
      {
       "output_type": "stream",
       "stream": "stdout",
       "text": [
        "  articles pickled\n",
        "6600"
       ]
      },
      {
       "output_type": "stream",
       "stream": "stdout",
       "text": [
        "  articles pickled\n",
        "6700"
       ]
      },
      {
       "output_type": "stream",
       "stream": "stdout",
       "text": [
        "  articles pickled\n",
        "6800"
       ]
      },
      {
       "output_type": "stream",
       "stream": "stdout",
       "text": [
        "  articles pickled\n",
        "6900"
       ]
      },
      {
       "output_type": "stream",
       "stream": "stdout",
       "text": [
        "  articles pickled\n",
        "7000"
       ]
      },
      {
       "output_type": "stream",
       "stream": "stdout",
       "text": [
        "  articles pickled\n",
        "7100"
       ]
      },
      {
       "output_type": "stream",
       "stream": "stdout",
       "text": [
        "  articles pickled\n",
        "7200"
       ]
      },
      {
       "output_type": "stream",
       "stream": "stdout",
       "text": [
        "  articles pickled\n",
        "7300"
       ]
      },
      {
       "output_type": "stream",
       "stream": "stdout",
       "text": [
        "  articles pickled\n",
        "7400"
       ]
      },
      {
       "output_type": "stream",
       "stream": "stdout",
       "text": [
        "  articles pickled\n",
        "7500"
       ]
      },
      {
       "output_type": "stream",
       "stream": "stdout",
       "text": [
        "  articles pickled\n",
        "7600"
       ]
      },
      {
       "output_type": "stream",
       "stream": "stdout",
       "text": [
        "  articles pickled\n",
        "7700"
       ]
      },
      {
       "output_type": "stream",
       "stream": "stdout",
       "text": [
        "  articles pickled\n",
        "7800"
       ]
      },
      {
       "output_type": "stream",
       "stream": "stdout",
       "text": [
        "  articles pickled\n",
        "7900"
       ]
      },
      {
       "output_type": "stream",
       "stream": "stdout",
       "text": [
        "  articles pickled\n",
        "8000"
       ]
      },
      {
       "output_type": "stream",
       "stream": "stdout",
       "text": [
        "  articles pickled\n",
        "8100"
       ]
      },
      {
       "output_type": "stream",
       "stream": "stdout",
       "text": [
        "  articles pickled\n",
        "8200"
       ]
      },
      {
       "output_type": "stream",
       "stream": "stdout",
       "text": [
        "  articles pickled\n",
        "8300"
       ]
      },
      {
       "output_type": "stream",
       "stream": "stdout",
       "text": [
        "  articles pickled\n",
        "8400"
       ]
      },
      {
       "output_type": "stream",
       "stream": "stdout",
       "text": [
        "  articles pickled\n",
        "8500"
       ]
      },
      {
       "output_type": "stream",
       "stream": "stdout",
       "text": [
        "  articles pickled\n",
        "8600"
       ]
      },
      {
       "output_type": "stream",
       "stream": "stdout",
       "text": [
        "  articles pickled\n",
        "8700"
       ]
      },
      {
       "output_type": "stream",
       "stream": "stdout",
       "text": [
        "  articles pickled\n",
        "8800"
       ]
      },
      {
       "output_type": "stream",
       "stream": "stdout",
       "text": [
        "  articles pickled\n",
        "8900"
       ]
      },
      {
       "output_type": "stream",
       "stream": "stdout",
       "text": [
        "  articles pickled\n",
        "9000"
       ]
      },
      {
       "output_type": "stream",
       "stream": "stdout",
       "text": [
        "  articles pickled\n",
        "9100"
       ]
      },
      {
       "output_type": "stream",
       "stream": "stdout",
       "text": [
        "  articles pickled\n",
        "9200"
       ]
      },
      {
       "output_type": "stream",
       "stream": "stdout",
       "text": [
        "  articles pickled\n",
        "9300"
       ]
      },
      {
       "output_type": "stream",
       "stream": "stdout",
       "text": [
        "  articles pickled\n",
        "9400"
       ]
      },
      {
       "output_type": "stream",
       "stream": "stdout",
       "text": [
        "  articles pickled\n",
        "9500"
       ]
      },
      {
       "output_type": "stream",
       "stream": "stdout",
       "text": [
        "  articles pickled\n",
        "9600"
       ]
      },
      {
       "output_type": "stream",
       "stream": "stdout",
       "text": [
        "  articles pickled\n",
        "9700"
       ]
      },
      {
       "output_type": "stream",
       "stream": "stdout",
       "text": [
        "  articles pickled\n",
        "9800"
       ]
      },
      {
       "output_type": "stream",
       "stream": "stdout",
       "text": [
        "  articles pickled\n",
        "9900"
       ]
      },
      {
       "output_type": "stream",
       "stream": "stdout",
       "text": [
        "  articles pickled\n",
        "10000"
       ]
      },
      {
       "output_type": "stream",
       "stream": "stdout",
       "text": [
        "  articles pickled\n",
        "10100"
       ]
      },
      {
       "output_type": "stream",
       "stream": "stdout",
       "text": [
        "  articles pickled\n",
        "10200"
       ]
      },
      {
       "output_type": "stream",
       "stream": "stdout",
       "text": [
        "  articles pickled\n",
        "10300"
       ]
      },
      {
       "output_type": "stream",
       "stream": "stdout",
       "text": [
        "  articles pickled\n",
        "10400"
       ]
      },
      {
       "output_type": "stream",
       "stream": "stdout",
       "text": [
        "  articles pickled\n",
        "10500"
       ]
      },
      {
       "output_type": "stream",
       "stream": "stdout",
       "text": [
        "  articles pickled\n",
        "10600"
       ]
      },
      {
       "output_type": "stream",
       "stream": "stdout",
       "text": [
        "  articles pickled\n",
        "10700"
       ]
      },
      {
       "output_type": "stream",
       "stream": "stdout",
       "text": [
        "  articles pickled\n",
        "10800"
       ]
      },
      {
       "output_type": "stream",
       "stream": "stdout",
       "text": [
        "  articles pickled\n",
        "10900"
       ]
      },
      {
       "output_type": "stream",
       "stream": "stdout",
       "text": [
        "  articles pickled\n",
        "11000"
       ]
      },
      {
       "output_type": "stream",
       "stream": "stdout",
       "text": [
        "  articles pickled\n",
        "11100"
       ]
      },
      {
       "output_type": "stream",
       "stream": "stdout",
       "text": [
        "  articles pickled\n",
        "11200"
       ]
      },
      {
       "output_type": "stream",
       "stream": "stdout",
       "text": [
        "  articles pickled\n",
        "11300"
       ]
      },
      {
       "output_type": "stream",
       "stream": "stdout",
       "text": [
        "  articles pickled\n",
        "11400"
       ]
      },
      {
       "output_type": "stream",
       "stream": "stdout",
       "text": [
        "  articles pickled\n",
        "11500"
       ]
      },
      {
       "output_type": "stream",
       "stream": "stdout",
       "text": [
        "  articles pickled\n",
        "11600"
       ]
      },
      {
       "output_type": "stream",
       "stream": "stdout",
       "text": [
        "  articles pickled\n",
        "11700"
       ]
      },
      {
       "output_type": "stream",
       "stream": "stdout",
       "text": [
        "  articles pickled\n",
        "11800"
       ]
      },
      {
       "output_type": "stream",
       "stream": "stdout",
       "text": [
        "  articles pickled\n",
        "11900"
       ]
      },
      {
       "output_type": "stream",
       "stream": "stdout",
       "text": [
        "  articles pickled\n",
        "12000"
       ]
      },
      {
       "output_type": "stream",
       "stream": "stdout",
       "text": [
        "  articles pickled\n",
        "12100"
       ]
      },
      {
       "output_type": "stream",
       "stream": "stdout",
       "text": [
        "  articles pickled\n",
        "12200"
       ]
      },
      {
       "output_type": "stream",
       "stream": "stdout",
       "text": [
        "  articles pickled\n",
        "12300"
       ]
      },
      {
       "output_type": "stream",
       "stream": "stdout",
       "text": [
        "  articles pickled\n",
        "12400"
       ]
      },
      {
       "output_type": "stream",
       "stream": "stdout",
       "text": [
        "  articles pickled\n",
        "12500"
       ]
      },
      {
       "output_type": "stream",
       "stream": "stdout",
       "text": [
        "  articles pickled\n",
        "12600"
       ]
      },
      {
       "output_type": "stream",
       "stream": "stdout",
       "text": [
        "  articles pickled\n",
        "12700"
       ]
      },
      {
       "output_type": "stream",
       "stream": "stdout",
       "text": [
        "  articles pickled\n",
        "12800"
       ]
      },
      {
       "output_type": "stream",
       "stream": "stdout",
       "text": [
        "  articles pickled\n",
        "12900"
       ]
      },
      {
       "output_type": "stream",
       "stream": "stdout",
       "text": [
        "  articles pickled\n",
        "13000"
       ]
      },
      {
       "output_type": "stream",
       "stream": "stdout",
       "text": [
        "  articles pickled\n",
        "13100"
       ]
      },
      {
       "output_type": "stream",
       "stream": "stdout",
       "text": [
        "  articles pickled\n",
        "13200"
       ]
      },
      {
       "output_type": "stream",
       "stream": "stdout",
       "text": [
        "  articles pickled\n",
        "13300"
       ]
      },
      {
       "output_type": "stream",
       "stream": "stdout",
       "text": [
        "  articles pickled\n",
        "13400"
       ]
      },
      {
       "output_type": "stream",
       "stream": "stdout",
       "text": [
        "  articles pickled\n",
        "13500"
       ]
      },
      {
       "output_type": "stream",
       "stream": "stdout",
       "text": [
        "  articles pickled\n",
        "13600"
       ]
      },
      {
       "output_type": "stream",
       "stream": "stdout",
       "text": [
        "  articles pickled\n",
        "13700"
       ]
      },
      {
       "output_type": "stream",
       "stream": "stdout",
       "text": [
        "  articles pickled\n",
        "13800"
       ]
      },
      {
       "output_type": "stream",
       "stream": "stdout",
       "text": [
        "  articles pickled\n",
        "13900"
       ]
      },
      {
       "output_type": "stream",
       "stream": "stdout",
       "text": [
        "  articles pickled\n",
        "14000"
       ]
      },
      {
       "output_type": "stream",
       "stream": "stdout",
       "text": [
        "  articles pickled\n",
        "14100"
       ]
      },
      {
       "output_type": "stream",
       "stream": "stdout",
       "text": [
        "  articles pickled\n",
        "14200"
       ]
      },
      {
       "output_type": "stream",
       "stream": "stdout",
       "text": [
        "  articles pickled\n",
        "14300"
       ]
      },
      {
       "output_type": "stream",
       "stream": "stdout",
       "text": [
        "  articles pickled\n",
        "14400"
       ]
      },
      {
       "output_type": "stream",
       "stream": "stdout",
       "text": [
        "  articles pickled\n",
        "14500"
       ]
      },
      {
       "output_type": "stream",
       "stream": "stdout",
       "text": [
        "  articles pickled\n",
        "14600"
       ]
      },
      {
       "output_type": "stream",
       "stream": "stdout",
       "text": [
        "  articles pickled\n",
        "14700"
       ]
      },
      {
       "output_type": "stream",
       "stream": "stdout",
       "text": [
        "  articles pickled\n",
        "14800"
       ]
      },
      {
       "output_type": "stream",
       "stream": "stdout",
       "text": [
        "  articles pickled\n",
        "14900"
       ]
      },
      {
       "output_type": "stream",
       "stream": "stdout",
       "text": [
        "  articles pickled\n",
        "15000"
       ]
      },
      {
       "output_type": "stream",
       "stream": "stdout",
       "text": [
        "  articles pickled\n",
        "15100"
       ]
      },
      {
       "output_type": "stream",
       "stream": "stdout",
       "text": [
        "  articles pickled\n",
        "15200"
       ]
      },
      {
       "output_type": "stream",
       "stream": "stdout",
       "text": [
        "  articles pickled\n",
        "15300"
       ]
      },
      {
       "output_type": "stream",
       "stream": "stdout",
       "text": [
        "  articles pickled\n",
        "15400"
       ]
      },
      {
       "output_type": "stream",
       "stream": "stdout",
       "text": [
        "  articles pickled\n",
        "15500"
       ]
      },
      {
       "output_type": "stream",
       "stream": "stdout",
       "text": [
        "  articles pickled\n",
        "15600"
       ]
      },
      {
       "output_type": "stream",
       "stream": "stdout",
       "text": [
        "  articles pickled\n",
        "15700"
       ]
      },
      {
       "output_type": "stream",
       "stream": "stdout",
       "text": [
        "  articles pickled\n",
        "15800"
       ]
      },
      {
       "output_type": "stream",
       "stream": "stdout",
       "text": [
        "  articles pickled\n",
        "15900"
       ]
      },
      {
       "output_type": "stream",
       "stream": "stdout",
       "text": [
        "  articles pickled\n",
        "16000"
       ]
      },
      {
       "output_type": "stream",
       "stream": "stdout",
       "text": [
        "  articles pickled\n",
        "16100"
       ]
      },
      {
       "output_type": "stream",
       "stream": "stdout",
       "text": [
        "  articles pickled\n",
        "16200"
       ]
      },
      {
       "output_type": "stream",
       "stream": "stdout",
       "text": [
        "  articles pickled\n",
        "16300"
       ]
      },
      {
       "output_type": "stream",
       "stream": "stdout",
       "text": [
        "  articles pickled\n",
        "16400"
       ]
      },
      {
       "output_type": "stream",
       "stream": "stdout",
       "text": [
        "  articles pickled\n",
        "16500"
       ]
      },
      {
       "output_type": "stream",
       "stream": "stdout",
       "text": [
        "  articles pickled\n",
        "16600"
       ]
      },
      {
       "output_type": "stream",
       "stream": "stdout",
       "text": [
        "  articles pickled\n",
        "16700"
       ]
      },
      {
       "output_type": "stream",
       "stream": "stdout",
       "text": [
        "  articles pickled\n",
        "16800"
       ]
      },
      {
       "output_type": "stream",
       "stream": "stdout",
       "text": [
        "  articles pickled\n",
        "16900"
       ]
      },
      {
       "output_type": "stream",
       "stream": "stdout",
       "text": [
        "  articles pickled\n",
        "17000"
       ]
      },
      {
       "output_type": "stream",
       "stream": "stdout",
       "text": [
        "  articles pickled\n",
        "17100"
       ]
      },
      {
       "output_type": "stream",
       "stream": "stdout",
       "text": [
        "  articles pickled\n",
        "17200"
       ]
      },
      {
       "output_type": "stream",
       "stream": "stdout",
       "text": [
        "  articles pickled\n",
        "17300"
       ]
      },
      {
       "output_type": "stream",
       "stream": "stdout",
       "text": [
        "  articles pickled\n",
        "17400"
       ]
      },
      {
       "output_type": "stream",
       "stream": "stdout",
       "text": [
        "  articles pickled\n",
        "17500"
       ]
      },
      {
       "output_type": "stream",
       "stream": "stdout",
       "text": [
        "  articles pickled\n",
        "17600"
       ]
      },
      {
       "output_type": "stream",
       "stream": "stdout",
       "text": [
        "  articles pickled\n",
        "17700"
       ]
      },
      {
       "output_type": "stream",
       "stream": "stdout",
       "text": [
        "  articles pickled\n",
        "17800"
       ]
      },
      {
       "output_type": "stream",
       "stream": "stdout",
       "text": [
        "  articles pickled\n",
        "17900"
       ]
      },
      {
       "output_type": "stream",
       "stream": "stdout",
       "text": [
        "  articles pickled\n",
        "18000"
       ]
      },
      {
       "output_type": "stream",
       "stream": "stdout",
       "text": [
        "  articles pickled\n",
        "18100"
       ]
      },
      {
       "output_type": "stream",
       "stream": "stdout",
       "text": [
        "  articles pickled\n",
        "18200"
       ]
      },
      {
       "output_type": "stream",
       "stream": "stdout",
       "text": [
        "  articles pickled\n",
        "18300"
       ]
      },
      {
       "output_type": "stream",
       "stream": "stdout",
       "text": [
        "  articles pickled\n",
        "18400"
       ]
      },
      {
       "output_type": "stream",
       "stream": "stdout",
       "text": [
        "  articles pickled\n",
        "18500"
       ]
      },
      {
       "output_type": "stream",
       "stream": "stdout",
       "text": [
        "  articles pickled\n",
        "18600"
       ]
      },
      {
       "output_type": "stream",
       "stream": "stdout",
       "text": [
        "  articles pickled\n",
        "18700"
       ]
      },
      {
       "output_type": "stream",
       "stream": "stdout",
       "text": [
        "  articles pickled\n",
        "18800"
       ]
      },
      {
       "output_type": "stream",
       "stream": "stdout",
       "text": [
        "  articles pickled\n",
        "18900"
       ]
      },
      {
       "output_type": "stream",
       "stream": "stdout",
       "text": [
        "  articles pickled\n",
        "19000"
       ]
      },
      {
       "output_type": "stream",
       "stream": "stdout",
       "text": [
        "  articles pickled\n",
        "19100"
       ]
      },
      {
       "output_type": "stream",
       "stream": "stdout",
       "text": [
        "  articles pickled\n",
        "19200"
       ]
      },
      {
       "output_type": "stream",
       "stream": "stdout",
       "text": [
        "  articles pickled\n",
        "19300"
       ]
      },
      {
       "output_type": "stream",
       "stream": "stdout",
       "text": [
        "  articles pickled\n",
        "19400"
       ]
      },
      {
       "output_type": "stream",
       "stream": "stdout",
       "text": [
        "  articles pickled\n",
        "19500"
       ]
      },
      {
       "output_type": "stream",
       "stream": "stdout",
       "text": [
        "  articles pickled\n",
        "19600"
       ]
      },
      {
       "output_type": "stream",
       "stream": "stdout",
       "text": [
        "  articles pickled\n",
        "19700"
       ]
      },
      {
       "output_type": "stream",
       "stream": "stdout",
       "text": [
        "  articles pickled\n",
        "19800"
       ]
      },
      {
       "output_type": "stream",
       "stream": "stdout",
       "text": [
        "  articles pickled\n",
        "19900"
       ]
      },
      {
       "output_type": "stream",
       "stream": "stdout",
       "text": [
        "  articles pickled\n",
        "20000"
       ]
      },
      {
       "output_type": "stream",
       "stream": "stdout",
       "text": [
        "  articles pickled\n",
        "20100"
       ]
      },
      {
       "output_type": "stream",
       "stream": "stdout",
       "text": [
        "  articles pickled\n",
        "20200"
       ]
      },
      {
       "output_type": "stream",
       "stream": "stdout",
       "text": [
        "  articles pickled\n",
        "20300"
       ]
      },
      {
       "output_type": "stream",
       "stream": "stdout",
       "text": [
        "  articles pickled\n",
        "20400"
       ]
      },
      {
       "output_type": "stream",
       "stream": "stdout",
       "text": [
        "  articles pickled\n",
        "20500"
       ]
      },
      {
       "output_type": "stream",
       "stream": "stdout",
       "text": [
        "  articles pickled\n",
        "20600"
       ]
      },
      {
       "output_type": "stream",
       "stream": "stdout",
       "text": [
        "  articles pickled\n",
        "20700"
       ]
      },
      {
       "output_type": "stream",
       "stream": "stdout",
       "text": [
        "  articles pickled\n",
        "20800"
       ]
      },
      {
       "output_type": "stream",
       "stream": "stdout",
       "text": [
        "  articles pickled\n",
        "20900"
       ]
      },
      {
       "output_type": "stream",
       "stream": "stdout",
       "text": [
        "  articles pickled\n",
        "21000"
       ]
      },
      {
       "output_type": "stream",
       "stream": "stdout",
       "text": [
        "  articles pickled\n",
        "21100"
       ]
      },
      {
       "output_type": "stream",
       "stream": "stdout",
       "text": [
        "  articles pickled\n",
        "21200"
       ]
      },
      {
       "output_type": "stream",
       "stream": "stdout",
       "text": [
        "  articles pickled\n",
        "21300"
       ]
      },
      {
       "output_type": "stream",
       "stream": "stdout",
       "text": [
        "  articles pickled\n",
        "21400"
       ]
      },
      {
       "output_type": "stream",
       "stream": "stdout",
       "text": [
        "  articles pickled\n",
        "21500"
       ]
      },
      {
       "output_type": "stream",
       "stream": "stdout",
       "text": [
        "  articles pickled\n",
        "21600"
       ]
      },
      {
       "output_type": "stream",
       "stream": "stdout",
       "text": [
        "  articles pickled\n",
        "21700"
       ]
      },
      {
       "output_type": "stream",
       "stream": "stdout",
       "text": [
        "  articles pickled\n",
        "21800"
       ]
      },
      {
       "output_type": "stream",
       "stream": "stdout",
       "text": [
        "  articles pickled\n",
        "21900"
       ]
      },
      {
       "output_type": "stream",
       "stream": "stdout",
       "text": [
        "  articles pickled\n",
        "22000"
       ]
      },
      {
       "output_type": "stream",
       "stream": "stdout",
       "text": [
        "  articles pickled\n",
        "22100"
       ]
      },
      {
       "output_type": "stream",
       "stream": "stdout",
       "text": [
        "  articles pickled\n",
        "22200"
       ]
      },
      {
       "output_type": "stream",
       "stream": "stdout",
       "text": [
        "  articles pickled\n",
        "22300"
       ]
      },
      {
       "output_type": "stream",
       "stream": "stdout",
       "text": [
        "  articles pickled\n",
        "22400"
       ]
      },
      {
       "output_type": "stream",
       "stream": "stdout",
       "text": [
        "  articles pickled\n",
        "22500"
       ]
      },
      {
       "output_type": "stream",
       "stream": "stdout",
       "text": [
        "  articles pickled\n",
        "22600"
       ]
      },
      {
       "output_type": "stream",
       "stream": "stdout",
       "text": [
        "  articles pickled\n",
        "22700"
       ]
      },
      {
       "output_type": "stream",
       "stream": "stdout",
       "text": [
        "  articles pickled\n",
        "22800"
       ]
      },
      {
       "output_type": "stream",
       "stream": "stdout",
       "text": [
        "  articles pickled\n",
        "22900"
       ]
      },
      {
       "output_type": "stream",
       "stream": "stdout",
       "text": [
        "  articles pickled\n",
        "23000"
       ]
      },
      {
       "output_type": "stream",
       "stream": "stdout",
       "text": [
        "  articles pickled\n",
        "23100"
       ]
      },
      {
       "output_type": "stream",
       "stream": "stdout",
       "text": [
        "  articles pickled\n",
        "23200"
       ]
      },
      {
       "output_type": "stream",
       "stream": "stdout",
       "text": [
        "  articles pickled\n",
        "23300"
       ]
      },
      {
       "output_type": "stream",
       "stream": "stdout",
       "text": [
        "  articles pickled\n",
        "23400"
       ]
      },
      {
       "output_type": "stream",
       "stream": "stdout",
       "text": [
        "  articles pickled\n",
        "23500"
       ]
      },
      {
       "output_type": "stream",
       "stream": "stdout",
       "text": [
        "  articles pickled\n",
        "23600"
       ]
      },
      {
       "output_type": "stream",
       "stream": "stdout",
       "text": [
        "  articles pickled\n",
        "23700"
       ]
      },
      {
       "output_type": "stream",
       "stream": "stdout",
       "text": [
        "  articles pickled\n",
        "23800"
       ]
      },
      {
       "output_type": "stream",
       "stream": "stdout",
       "text": [
        "  articles pickled\n",
        "23900"
       ]
      },
      {
       "output_type": "stream",
       "stream": "stdout",
       "text": [
        "  articles pickled\n",
        "24000"
       ]
      },
      {
       "output_type": "stream",
       "stream": "stdout",
       "text": [
        "  articles pickled\n",
        "24100"
       ]
      },
      {
       "output_type": "stream",
       "stream": "stdout",
       "text": [
        "  articles pickled\n",
        "24200"
       ]
      },
      {
       "output_type": "stream",
       "stream": "stdout",
       "text": [
        "  articles pickled\n",
        "24300"
       ]
      },
      {
       "output_type": "stream",
       "stream": "stdout",
       "text": [
        "  articles pickled\n",
        "24400"
       ]
      },
      {
       "output_type": "stream",
       "stream": "stdout",
       "text": [
        "  articles pickled\n",
        "24500"
       ]
      },
      {
       "output_type": "stream",
       "stream": "stdout",
       "text": [
        "  articles pickled\n",
        "24600"
       ]
      },
      {
       "output_type": "stream",
       "stream": "stdout",
       "text": [
        "  articles pickled\n",
        "24700"
       ]
      },
      {
       "output_type": "stream",
       "stream": "stdout",
       "text": [
        "  articles pickled\n",
        "24800"
       ]
      },
      {
       "output_type": "stream",
       "stream": "stdout",
       "text": [
        "  articles pickled\n",
        "24900"
       ]
      },
      {
       "output_type": "stream",
       "stream": "stdout",
       "text": [
        "  articles pickled\n",
        "25000"
       ]
      },
      {
       "output_type": "stream",
       "stream": "stdout",
       "text": [
        "  articles pickled\n",
        "25100"
       ]
      },
      {
       "output_type": "stream",
       "stream": "stdout",
       "text": [
        "  articles pickled\n",
        "25200"
       ]
      },
      {
       "output_type": "stream",
       "stream": "stdout",
       "text": [
        "  articles pickled\n",
        "25300"
       ]
      },
      {
       "output_type": "stream",
       "stream": "stdout",
       "text": [
        "  articles pickled\n",
        "25400"
       ]
      },
      {
       "output_type": "stream",
       "stream": "stdout",
       "text": [
        "  articles pickled\n",
        "25500"
       ]
      },
      {
       "output_type": "stream",
       "stream": "stdout",
       "text": [
        "  articles pickled\n",
        "25600"
       ]
      },
      {
       "output_type": "stream",
       "stream": "stdout",
       "text": [
        "  articles pickled\n",
        "25700"
       ]
      },
      {
       "output_type": "stream",
       "stream": "stdout",
       "text": [
        "  articles pickled\n",
        "25800"
       ]
      },
      {
       "output_type": "stream",
       "stream": "stdout",
       "text": [
        "  articles pickled\n",
        "25900"
       ]
      },
      {
       "output_type": "stream",
       "stream": "stdout",
       "text": [
        "  articles pickled\n",
        "26000"
       ]
      },
      {
       "output_type": "stream",
       "stream": "stdout",
       "text": [
        "  articles pickled\n",
        "26100"
       ]
      },
      {
       "output_type": "stream",
       "stream": "stdout",
       "text": [
        "  articles pickled\n",
        "26200"
       ]
      },
      {
       "output_type": "stream",
       "stream": "stdout",
       "text": [
        "  articles pickled\n",
        "26300"
       ]
      },
      {
       "output_type": "stream",
       "stream": "stdout",
       "text": [
        "  articles pickled\n",
        "26400"
       ]
      },
      {
       "output_type": "stream",
       "stream": "stdout",
       "text": [
        "  articles pickled\n",
        "26500"
       ]
      },
      {
       "output_type": "stream",
       "stream": "stdout",
       "text": [
        "  articles pickled\n",
        "26600"
       ]
      },
      {
       "output_type": "stream",
       "stream": "stdout",
       "text": [
        "  articles pickled\n",
        "26700"
       ]
      },
      {
       "output_type": "stream",
       "stream": "stdout",
       "text": [
        "  articles pickled\n",
        "26800"
       ]
      },
      {
       "output_type": "stream",
       "stream": "stdout",
       "text": [
        "  articles pickled\n",
        "26900"
       ]
      },
      {
       "output_type": "stream",
       "stream": "stdout",
       "text": [
        "  articles pickled\n",
        "27000"
       ]
      },
      {
       "output_type": "stream",
       "stream": "stdout",
       "text": [
        "  articles pickled\n",
        "27100"
       ]
      },
      {
       "output_type": "stream",
       "stream": "stdout",
       "text": [
        "  articles pickled\n",
        "27200"
       ]
      },
      {
       "output_type": "stream",
       "stream": "stdout",
       "text": [
        "  articles pickled\n",
        "27300"
       ]
      },
      {
       "output_type": "stream",
       "stream": "stdout",
       "text": [
        "  articles pickled\n",
        "27400"
       ]
      },
      {
       "output_type": "stream",
       "stream": "stdout",
       "text": [
        "  articles pickled\n",
        "27500"
       ]
      },
      {
       "output_type": "stream",
       "stream": "stdout",
       "text": [
        "  articles pickled\n",
        "27600"
       ]
      },
      {
       "output_type": "stream",
       "stream": "stdout",
       "text": [
        "  articles pickled\n",
        "27700"
       ]
      },
      {
       "output_type": "stream",
       "stream": "stdout",
       "text": [
        "  articles pickled\n",
        "27800"
       ]
      },
      {
       "output_type": "stream",
       "stream": "stdout",
       "text": [
        "  articles pickled\n",
        "27900"
       ]
      },
      {
       "output_type": "stream",
       "stream": "stdout",
       "text": [
        "  articles pickled\n",
        "28000"
       ]
      },
      {
       "output_type": "stream",
       "stream": "stdout",
       "text": [
        "  articles pickled\n",
        "28100"
       ]
      },
      {
       "output_type": "stream",
       "stream": "stdout",
       "text": [
        "  articles pickled\n",
        "28200"
       ]
      },
      {
       "output_type": "stream",
       "stream": "stdout",
       "text": [
        "  articles pickled\n",
        "28300"
       ]
      },
      {
       "output_type": "stream",
       "stream": "stdout",
       "text": [
        "  articles pickled\n",
        "28400"
       ]
      },
      {
       "output_type": "stream",
       "stream": "stdout",
       "text": [
        "  articles pickled\n",
        "28500"
       ]
      },
      {
       "output_type": "stream",
       "stream": "stdout",
       "text": [
        "  articles pickled\n",
        "28600"
       ]
      },
      {
       "output_type": "stream",
       "stream": "stdout",
       "text": [
        "  articles pickled\n",
        "28700"
       ]
      },
      {
       "output_type": "stream",
       "stream": "stdout",
       "text": [
        "  articles pickled\n",
        "28800"
       ]
      },
      {
       "output_type": "stream",
       "stream": "stdout",
       "text": [
        "  articles pickled\n",
        "28900"
       ]
      },
      {
       "output_type": "stream",
       "stream": "stdout",
       "text": [
        "  articles pickled\n",
        "29000"
       ]
      },
      {
       "output_type": "stream",
       "stream": "stdout",
       "text": [
        "  articles pickled\n",
        "29100"
       ]
      },
      {
       "output_type": "stream",
       "stream": "stdout",
       "text": [
        "  articles pickled\n",
        "29200"
       ]
      },
      {
       "output_type": "stream",
       "stream": "stdout",
       "text": [
        "  articles pickled\n",
        "29300"
       ]
      },
      {
       "output_type": "stream",
       "stream": "stdout",
       "text": [
        "  articles pickled\n",
        "29400"
       ]
      },
      {
       "output_type": "stream",
       "stream": "stdout",
       "text": [
        "  articles pickled\n",
        "29500"
       ]
      },
      {
       "output_type": "stream",
       "stream": "stdout",
       "text": [
        "  articles pickled\n",
        "29600"
       ]
      },
      {
       "output_type": "stream",
       "stream": "stdout",
       "text": [
        "  articles pickled\n",
        "29700"
       ]
      },
      {
       "output_type": "stream",
       "stream": "stdout",
       "text": [
        "  articles pickled\n",
        "29800"
       ]
      },
      {
       "output_type": "stream",
       "stream": "stdout",
       "text": [
        "  articles pickled\n",
        "29900"
       ]
      },
      {
       "output_type": "stream",
       "stream": "stdout",
       "text": [
        "  articles pickled\n",
        "30000"
       ]
      },
      {
       "output_type": "stream",
       "stream": "stdout",
       "text": [
        "  articles pickled\n",
        "30100"
       ]
      },
      {
       "output_type": "stream",
       "stream": "stdout",
       "text": [
        "  articles pickled\n",
        "30200"
       ]
      },
      {
       "output_type": "stream",
       "stream": "stdout",
       "text": [
        "  articles pickled\n",
        "30300"
       ]
      },
      {
       "output_type": "stream",
       "stream": "stdout",
       "text": [
        "  articles pickled\n",
        "30400"
       ]
      },
      {
       "output_type": "stream",
       "stream": "stdout",
       "text": [
        "  articles pickled\n",
        "30500"
       ]
      },
      {
       "output_type": "stream",
       "stream": "stdout",
       "text": [
        "  articles pickled\n",
        "30600"
       ]
      },
      {
       "output_type": "stream",
       "stream": "stdout",
       "text": [
        "  articles pickled\n",
        "30700"
       ]
      },
      {
       "output_type": "stream",
       "stream": "stdout",
       "text": [
        "  articles pickled\n",
        "30800"
       ]
      },
      {
       "output_type": "stream",
       "stream": "stdout",
       "text": [
        "  articles pickled\n",
        "30900"
       ]
      },
      {
       "output_type": "stream",
       "stream": "stdout",
       "text": [
        "  articles pickled\n",
        "31000"
       ]
      },
      {
       "output_type": "stream",
       "stream": "stdout",
       "text": [
        "  articles pickled\n",
        "31100"
       ]
      },
      {
       "output_type": "stream",
       "stream": "stdout",
       "text": [
        "  articles pickled\n",
        "31200"
       ]
      },
      {
       "output_type": "stream",
       "stream": "stdout",
       "text": [
        "  articles pickled\n",
        "31300"
       ]
      },
      {
       "output_type": "stream",
       "stream": "stdout",
       "text": [
        "  articles pickled\n",
        "31400"
       ]
      },
      {
       "output_type": "stream",
       "stream": "stdout",
       "text": [
        "  articles pickled\n",
        "31500"
       ]
      },
      {
       "output_type": "stream",
       "stream": "stdout",
       "text": [
        "  articles pickled\n",
        "31600"
       ]
      },
      {
       "output_type": "stream",
       "stream": "stdout",
       "text": [
        "  articles pickled\n",
        "31700"
       ]
      },
      {
       "output_type": "stream",
       "stream": "stdout",
       "text": [
        "  articles pickled\n",
        "31800"
       ]
      },
      {
       "output_type": "stream",
       "stream": "stdout",
       "text": [
        "  articles pickled\n",
        "31900"
       ]
      },
      {
       "output_type": "stream",
       "stream": "stdout",
       "text": [
        "  articles pickled\n",
        "32000"
       ]
      },
      {
       "output_type": "stream",
       "stream": "stdout",
       "text": [
        "  articles pickled\n",
        "32100"
       ]
      },
      {
       "output_type": "stream",
       "stream": "stdout",
       "text": [
        "  articles pickled\n",
        "32200"
       ]
      },
      {
       "output_type": "stream",
       "stream": "stdout",
       "text": [
        "  articles pickled\n",
        "32300"
       ]
      },
      {
       "output_type": "stream",
       "stream": "stdout",
       "text": [
        "  articles pickled\n",
        "32400"
       ]
      },
      {
       "output_type": "stream",
       "stream": "stdout",
       "text": [
        "  articles pickled\n",
        "32500"
       ]
      },
      {
       "output_type": "stream",
       "stream": "stdout",
       "text": [
        "  articles pickled\n",
        "32600"
       ]
      },
      {
       "output_type": "stream",
       "stream": "stdout",
       "text": [
        "  articles pickled\n",
        "32700"
       ]
      },
      {
       "output_type": "stream",
       "stream": "stdout",
       "text": [
        "  articles pickled\n",
        "32800"
       ]
      },
      {
       "output_type": "stream",
       "stream": "stdout",
       "text": [
        "  articles pickled\n",
        "32900"
       ]
      },
      {
       "output_type": "stream",
       "stream": "stdout",
       "text": [
        "  articles pickled\n",
        "33000"
       ]
      },
      {
       "output_type": "stream",
       "stream": "stdout",
       "text": [
        "  articles pickled\n",
        "33100"
       ]
      },
      {
       "output_type": "stream",
       "stream": "stdout",
       "text": [
        "  articles pickled\n",
        "33200"
       ]
      },
      {
       "output_type": "stream",
       "stream": "stdout",
       "text": [
        "  articles pickled\n",
        "33300"
       ]
      },
      {
       "output_type": "stream",
       "stream": "stdout",
       "text": [
        "  articles pickled\n",
        "33400"
       ]
      },
      {
       "output_type": "stream",
       "stream": "stdout",
       "text": [
        "  articles pickled\n",
        "33500"
       ]
      },
      {
       "output_type": "stream",
       "stream": "stdout",
       "text": [
        "  articles pickled\n",
        "33600"
       ]
      },
      {
       "output_type": "stream",
       "stream": "stdout",
       "text": [
        "  articles pickled\n",
        "33700"
       ]
      },
      {
       "output_type": "stream",
       "stream": "stdout",
       "text": [
        "  articles pickled\n",
        "33800"
       ]
      },
      {
       "output_type": "stream",
       "stream": "stdout",
       "text": [
        "  articles pickled\n",
        "33900"
       ]
      },
      {
       "output_type": "stream",
       "stream": "stdout",
       "text": [
        "  articles pickled\n",
        "34000"
       ]
      },
      {
       "output_type": "stream",
       "stream": "stdout",
       "text": [
        "  articles pickled\n",
        "34100"
       ]
      },
      {
       "output_type": "stream",
       "stream": "stdout",
       "text": [
        "  articles pickled\n",
        "34200"
       ]
      },
      {
       "output_type": "stream",
       "stream": "stdout",
       "text": [
        "  articles pickled\n",
        "34300"
       ]
      },
      {
       "output_type": "stream",
       "stream": "stdout",
       "text": [
        "  articles pickled\n",
        "34400"
       ]
      },
      {
       "output_type": "stream",
       "stream": "stdout",
       "text": [
        "  articles pickled\n",
        "34500"
       ]
      },
      {
       "output_type": "stream",
       "stream": "stdout",
       "text": [
        "  articles pickled\n",
        "34600"
       ]
      },
      {
       "output_type": "stream",
       "stream": "stdout",
       "text": [
        "  articles pickled\n",
        "34700"
       ]
      },
      {
       "output_type": "stream",
       "stream": "stdout",
       "text": [
        "  articles pickled\n",
        "34800"
       ]
      },
      {
       "output_type": "stream",
       "stream": "stdout",
       "text": [
        "  articles pickled\n",
        "34900"
       ]
      },
      {
       "output_type": "stream",
       "stream": "stdout",
       "text": [
        "  articles pickled\n",
        "35000"
       ]
      },
      {
       "output_type": "stream",
       "stream": "stdout",
       "text": [
        "  articles pickled\n",
        "35100"
       ]
      },
      {
       "output_type": "stream",
       "stream": "stdout",
       "text": [
        "  articles pickled\n",
        "35200"
       ]
      },
      {
       "output_type": "stream",
       "stream": "stdout",
       "text": [
        "  articles pickled\n",
        "35300"
       ]
      },
      {
       "output_type": "stream",
       "stream": "stdout",
       "text": [
        "  articles pickled\n",
        "35400"
       ]
      },
      {
       "output_type": "stream",
       "stream": "stdout",
       "text": [
        "  articles pickled\n",
        "35500"
       ]
      },
      {
       "output_type": "stream",
       "stream": "stdout",
       "text": [
        "  articles pickled\n",
        "35600"
       ]
      },
      {
       "output_type": "stream",
       "stream": "stdout",
       "text": [
        "  articles pickled\n",
        "35700"
       ]
      },
      {
       "output_type": "stream",
       "stream": "stdout",
       "text": [
        "  articles pickled\n",
        "35800"
       ]
      },
      {
       "output_type": "stream",
       "stream": "stdout",
       "text": [
        "  articles pickled\n",
        "35900"
       ]
      },
      {
       "output_type": "stream",
       "stream": "stdout",
       "text": [
        "  articles pickled\n",
        "36000"
       ]
      },
      {
       "output_type": "stream",
       "stream": "stdout",
       "text": [
        "  articles pickled\n",
        "36100"
       ]
      },
      {
       "output_type": "stream",
       "stream": "stdout",
       "text": [
        "  articles pickled\n",
        "36200"
       ]
      },
      {
       "output_type": "stream",
       "stream": "stdout",
       "text": [
        "  articles pickled\n",
        "36300"
       ]
      },
      {
       "output_type": "stream",
       "stream": "stdout",
       "text": [
        "  articles pickled\n",
        "36400"
       ]
      },
      {
       "output_type": "stream",
       "stream": "stdout",
       "text": [
        "  articles pickled\n",
        "36500"
       ]
      },
      {
       "output_type": "stream",
       "stream": "stdout",
       "text": [
        "  articles pickled\n",
        "36600"
       ]
      },
      {
       "output_type": "stream",
       "stream": "stdout",
       "text": [
        "  articles pickled\n",
        "36700"
       ]
      },
      {
       "output_type": "stream",
       "stream": "stdout",
       "text": [
        "  articles pickled\n",
        "36800"
       ]
      },
      {
       "output_type": "stream",
       "stream": "stdout",
       "text": [
        "  articles pickled\n",
        "36900"
       ]
      },
      {
       "output_type": "stream",
       "stream": "stdout",
       "text": [
        "  articles pickled\n",
        "37000"
       ]
      },
      {
       "output_type": "stream",
       "stream": "stdout",
       "text": [
        "  articles pickled\n",
        "37100"
       ]
      },
      {
       "output_type": "stream",
       "stream": "stdout",
       "text": [
        "  articles pickled\n",
        "37200"
       ]
      },
      {
       "output_type": "stream",
       "stream": "stdout",
       "text": [
        "  articles pickled\n",
        "37300"
       ]
      },
      {
       "output_type": "stream",
       "stream": "stdout",
       "text": [
        "  articles pickled\n",
        "37400"
       ]
      },
      {
       "output_type": "stream",
       "stream": "stdout",
       "text": [
        "  articles pickled\n",
        "37500"
       ]
      },
      {
       "output_type": "stream",
       "stream": "stdout",
       "text": [
        "  articles pickled\n",
        "37600"
       ]
      },
      {
       "output_type": "stream",
       "stream": "stdout",
       "text": [
        "  articles pickled\n",
        "37700"
       ]
      },
      {
       "output_type": "stream",
       "stream": "stdout",
       "text": [
        "  articles pickled\n",
        "37800"
       ]
      },
      {
       "output_type": "stream",
       "stream": "stdout",
       "text": [
        "  articles pickled\n",
        "37900"
       ]
      },
      {
       "output_type": "stream",
       "stream": "stdout",
       "text": [
        "  articles pickled\n",
        "38000"
       ]
      },
      {
       "output_type": "stream",
       "stream": "stdout",
       "text": [
        "  articles pickled\n",
        "38100"
       ]
      },
      {
       "output_type": "stream",
       "stream": "stdout",
       "text": [
        "  articles pickled\n",
        "38200"
       ]
      },
      {
       "output_type": "stream",
       "stream": "stdout",
       "text": [
        "  articles pickled\n",
        "38300"
       ]
      },
      {
       "output_type": "stream",
       "stream": "stdout",
       "text": [
        "  articles pickled\n",
        "38400"
       ]
      },
      {
       "output_type": "stream",
       "stream": "stdout",
       "text": [
        "  articles pickled\n",
        "38500"
       ]
      },
      {
       "output_type": "stream",
       "stream": "stdout",
       "text": [
        "  articles pickled\n",
        "38600"
       ]
      },
      {
       "output_type": "stream",
       "stream": "stdout",
       "text": [
        "  articles pickled\n",
        "38700"
       ]
      },
      {
       "output_type": "stream",
       "stream": "stdout",
       "text": [
        "  articles pickled\n",
        "38800"
       ]
      },
      {
       "output_type": "stream",
       "stream": "stdout",
       "text": [
        "  articles pickled\n",
        "38900"
       ]
      },
      {
       "output_type": "stream",
       "stream": "stdout",
       "text": [
        "  articles pickled\n",
        "39000"
       ]
      },
      {
       "output_type": "stream",
       "stream": "stdout",
       "text": [
        "  articles pickled\n",
        "39100"
       ]
      },
      {
       "output_type": "stream",
       "stream": "stdout",
       "text": [
        "  articles pickled\n",
        "39200"
       ]
      },
      {
       "output_type": "stream",
       "stream": "stdout",
       "text": [
        "  articles pickled\n",
        "39300"
       ]
      },
      {
       "output_type": "stream",
       "stream": "stdout",
       "text": [
        "  articles pickled\n",
        "39400"
       ]
      },
      {
       "output_type": "stream",
       "stream": "stdout",
       "text": [
        "  articles pickled\n",
        "39500"
       ]
      },
      {
       "output_type": "stream",
       "stream": "stdout",
       "text": [
        "  articles pickled\n",
        "39600"
       ]
      },
      {
       "output_type": "stream",
       "stream": "stdout",
       "text": [
        "  articles pickled\n",
        "39700"
       ]
      },
      {
       "output_type": "stream",
       "stream": "stdout",
       "text": [
        "  articles pickled\n",
        "39800"
       ]
      },
      {
       "output_type": "stream",
       "stream": "stdout",
       "text": [
        "  articles pickled\n",
        "39900"
       ]
      },
      {
       "output_type": "stream",
       "stream": "stdout",
       "text": [
        "  articles pickled\n",
        "40000"
       ]
      },
      {
       "output_type": "stream",
       "stream": "stdout",
       "text": [
        "  articles pickled\n",
        "40100"
       ]
      },
      {
       "output_type": "stream",
       "stream": "stdout",
       "text": [
        "  articles pickled\n",
        "40200"
       ]
      },
      {
       "output_type": "stream",
       "stream": "stdout",
       "text": [
        "  articles pickled\n",
        "40300"
       ]
      },
      {
       "output_type": "stream",
       "stream": "stdout",
       "text": [
        "  articles pickled\n",
        "40400"
       ]
      },
      {
       "output_type": "stream",
       "stream": "stdout",
       "text": [
        "  articles pickled\n",
        "40500"
       ]
      },
      {
       "output_type": "stream",
       "stream": "stdout",
       "text": [
        "  articles pickled\n",
        "40600"
       ]
      },
      {
       "output_type": "stream",
       "stream": "stdout",
       "text": [
        "  articles pickled\n",
        "40700"
       ]
      },
      {
       "output_type": "stream",
       "stream": "stdout",
       "text": [
        "  articles pickled\n",
        "40800"
       ]
      },
      {
       "output_type": "stream",
       "stream": "stdout",
       "text": [
        "  articles pickled\n",
        "40900"
       ]
      },
      {
       "output_type": "stream",
       "stream": "stdout",
       "text": [
        "  articles pickled\n",
        "41000"
       ]
      },
      {
       "output_type": "stream",
       "stream": "stdout",
       "text": [
        "  articles pickled\n",
        "41100"
       ]
      },
      {
       "output_type": "stream",
       "stream": "stdout",
       "text": [
        "  articles pickled\n",
        "41200"
       ]
      },
      {
       "output_type": "stream",
       "stream": "stdout",
       "text": [
        "  articles pickled\n",
        "41300"
       ]
      },
      {
       "output_type": "stream",
       "stream": "stdout",
       "text": [
        "  articles pickled\n",
        "41400"
       ]
      },
      {
       "output_type": "stream",
       "stream": "stdout",
       "text": [
        "  articles pickled\n",
        "41500"
       ]
      },
      {
       "output_type": "stream",
       "stream": "stdout",
       "text": [
        "  articles pickled\n",
        "41600"
       ]
      },
      {
       "output_type": "stream",
       "stream": "stdout",
       "text": [
        "  articles pickled\n",
        "41700"
       ]
      },
      {
       "output_type": "stream",
       "stream": "stdout",
       "text": [
        "  articles pickled\n",
        "41800"
       ]
      },
      {
       "output_type": "stream",
       "stream": "stdout",
       "text": [
        "  articles pickled\n",
        "41900"
       ]
      },
      {
       "output_type": "stream",
       "stream": "stdout",
       "text": [
        "  articles pickled\n",
        "42000"
       ]
      },
      {
       "output_type": "stream",
       "stream": "stdout",
       "text": [
        "  articles pickled\n",
        "42100"
       ]
      },
      {
       "output_type": "stream",
       "stream": "stdout",
       "text": [
        "  articles pickled\n",
        "42200"
       ]
      },
      {
       "output_type": "stream",
       "stream": "stdout",
       "text": [
        "  articles pickled\n",
        "42300"
       ]
      },
      {
       "output_type": "stream",
       "stream": "stdout",
       "text": [
        "  articles pickled\n",
        "42400"
       ]
      },
      {
       "output_type": "stream",
       "stream": "stdout",
       "text": [
        "  articles pickled\n",
        "42500"
       ]
      },
      {
       "output_type": "stream",
       "stream": "stdout",
       "text": [
        "  articles pickled\n",
        "42600"
       ]
      },
      {
       "output_type": "stream",
       "stream": "stdout",
       "text": [
        "  articles pickled\n",
        "42700"
       ]
      },
      {
       "output_type": "stream",
       "stream": "stdout",
       "text": [
        "  articles pickled\n",
        "42800"
       ]
      },
      {
       "output_type": "stream",
       "stream": "stdout",
       "text": [
        "  articles pickled\n",
        "42900"
       ]
      },
      {
       "output_type": "stream",
       "stream": "stdout",
       "text": [
        "  articles pickled\n",
        "43000"
       ]
      },
      {
       "output_type": "stream",
       "stream": "stdout",
       "text": [
        "  articles pickled\n",
        "43100"
       ]
      },
      {
       "output_type": "stream",
       "stream": "stdout",
       "text": [
        "  articles pickled\n",
        "43200"
       ]
      },
      {
       "output_type": "stream",
       "stream": "stdout",
       "text": [
        "  articles pickled\n",
        "43300"
       ]
      },
      {
       "output_type": "stream",
       "stream": "stdout",
       "text": [
        "  articles pickled\n",
        "43400"
       ]
      },
      {
       "output_type": "stream",
       "stream": "stdout",
       "text": [
        "  articles pickled\n",
        "43500"
       ]
      },
      {
       "output_type": "stream",
       "stream": "stdout",
       "text": [
        "  articles pickled\n",
        "43600"
       ]
      },
      {
       "output_type": "stream",
       "stream": "stdout",
       "text": [
        "  articles pickled\n",
        "43700"
       ]
      },
      {
       "output_type": "stream",
       "stream": "stdout",
       "text": [
        "  articles pickled\n",
        "43800"
       ]
      },
      {
       "output_type": "stream",
       "stream": "stdout",
       "text": [
        "  articles pickled\n",
        "43900"
       ]
      },
      {
       "output_type": "stream",
       "stream": "stdout",
       "text": [
        "  articles pickled\n",
        "44000"
       ]
      },
      {
       "output_type": "stream",
       "stream": "stdout",
       "text": [
        "  articles pickled\n",
        "44100"
       ]
      },
      {
       "output_type": "stream",
       "stream": "stdout",
       "text": [
        "  articles pickled\n",
        "44200"
       ]
      },
      {
       "output_type": "stream",
       "stream": "stdout",
       "text": [
        "  articles pickled\n",
        "44300"
       ]
      },
      {
       "output_type": "stream",
       "stream": "stdout",
       "text": [
        "  articles pickled\n",
        "44400"
       ]
      },
      {
       "output_type": "stream",
       "stream": "stdout",
       "text": [
        "  articles pickled\n",
        "44500"
       ]
      },
      {
       "output_type": "stream",
       "stream": "stdout",
       "text": [
        "  articles pickled\n",
        "44600"
       ]
      },
      {
       "output_type": "stream",
       "stream": "stdout",
       "text": [
        "  articles pickled\n",
        "44700"
       ]
      },
      {
       "output_type": "stream",
       "stream": "stdout",
       "text": [
        "  articles pickled\n",
        "44800"
       ]
      },
      {
       "output_type": "stream",
       "stream": "stdout",
       "text": [
        "  articles pickled\n",
        "44900"
       ]
      },
      {
       "output_type": "stream",
       "stream": "stdout",
       "text": [
        "  articles pickled\n",
        "45000"
       ]
      },
      {
       "output_type": "stream",
       "stream": "stdout",
       "text": [
        "  articles pickled\n",
        "45100"
       ]
      },
      {
       "output_type": "stream",
       "stream": "stdout",
       "text": [
        "  articles pickled\n",
        "45200"
       ]
      },
      {
       "output_type": "stream",
       "stream": "stdout",
       "text": [
        "  articles pickled\n",
        "45300"
       ]
      },
      {
       "output_type": "stream",
       "stream": "stdout",
       "text": [
        "  articles pickled\n",
        "45400"
       ]
      },
      {
       "output_type": "stream",
       "stream": "stdout",
       "text": [
        "  articles pickled\n",
        "45500"
       ]
      },
      {
       "output_type": "stream",
       "stream": "stdout",
       "text": [
        "  articles pickled\n",
        "45600"
       ]
      },
      {
       "output_type": "stream",
       "stream": "stdout",
       "text": [
        "  articles pickled\n",
        "45700"
       ]
      },
      {
       "output_type": "stream",
       "stream": "stdout",
       "text": [
        "  articles pickled\n",
        "45800"
       ]
      },
      {
       "output_type": "stream",
       "stream": "stdout",
       "text": [
        "  articles pickled\n",
        "45900"
       ]
      },
      {
       "output_type": "stream",
       "stream": "stdout",
       "text": [
        "  articles pickled\n",
        "46000"
       ]
      },
      {
       "output_type": "stream",
       "stream": "stdout",
       "text": [
        "  articles pickled\n",
        "46100"
       ]
      },
      {
       "output_type": "stream",
       "stream": "stdout",
       "text": [
        "  articles pickled\n",
        "46200"
       ]
      },
      {
       "output_type": "stream",
       "stream": "stdout",
       "text": [
        "  articles pickled\n",
        "46300"
       ]
      },
      {
       "output_type": "stream",
       "stream": "stdout",
       "text": [
        "  articles pickled\n",
        "46400"
       ]
      },
      {
       "output_type": "stream",
       "stream": "stdout",
       "text": [
        "  articles pickled\n",
        "46500"
       ]
      },
      {
       "output_type": "stream",
       "stream": "stdout",
       "text": [
        "  articles pickled\n",
        "46600"
       ]
      },
      {
       "output_type": "stream",
       "stream": "stdout",
       "text": [
        "  articles pickled\n",
        "46700"
       ]
      },
      {
       "output_type": "stream",
       "stream": "stdout",
       "text": [
        "  articles pickled\n",
        "46800"
       ]
      },
      {
       "output_type": "stream",
       "stream": "stdout",
       "text": [
        "  articles pickled\n",
        "46900"
       ]
      },
      {
       "output_type": "stream",
       "stream": "stdout",
       "text": [
        "  articles pickled\n",
        "47000"
       ]
      },
      {
       "output_type": "stream",
       "stream": "stdout",
       "text": [
        "  articles pickled\n",
        "47100"
       ]
      },
      {
       "output_type": "stream",
       "stream": "stdout",
       "text": [
        "  articles pickled\n",
        "47200"
       ]
      },
      {
       "output_type": "stream",
       "stream": "stdout",
       "text": [
        "  articles pickled\n",
        "47300"
       ]
      },
      {
       "output_type": "stream",
       "stream": "stdout",
       "text": [
        "  articles pickled\n",
        "47400"
       ]
      },
      {
       "output_type": "stream",
       "stream": "stdout",
       "text": [
        "  articles pickled\n",
        "47500"
       ]
      },
      {
       "output_type": "stream",
       "stream": "stdout",
       "text": [
        "  articles pickled\n",
        "47600"
       ]
      },
      {
       "output_type": "stream",
       "stream": "stdout",
       "text": [
        "  articles pickled\n",
        "47700"
       ]
      },
      {
       "output_type": "stream",
       "stream": "stdout",
       "text": [
        "  articles pickled\n",
        "47800"
       ]
      },
      {
       "output_type": "stream",
       "stream": "stdout",
       "text": [
        "  articles pickled\n",
        "47900"
       ]
      },
      {
       "output_type": "stream",
       "stream": "stdout",
       "text": [
        "  articles pickled\n",
        "48000"
       ]
      },
      {
       "output_type": "stream",
       "stream": "stdout",
       "text": [
        "  articles pickled\n",
        "48100"
       ]
      },
      {
       "output_type": "stream",
       "stream": "stdout",
       "text": [
        "  articles pickled\n",
        "48200"
       ]
      },
      {
       "output_type": "stream",
       "stream": "stdout",
       "text": [
        "  articles pickled\n",
        "48300"
       ]
      },
      {
       "output_type": "stream",
       "stream": "stdout",
       "text": [
        "  articles pickled\n",
        "48400"
       ]
      },
      {
       "output_type": "stream",
       "stream": "stdout",
       "text": [
        "  articles pickled\n",
        "48500"
       ]
      },
      {
       "output_type": "stream",
       "stream": "stdout",
       "text": [
        "  articles pickled\n",
        "48600"
       ]
      },
      {
       "output_type": "stream",
       "stream": "stdout",
       "text": [
        "  articles pickled\n",
        "48700"
       ]
      },
      {
       "output_type": "stream",
       "stream": "stdout",
       "text": [
        "  articles pickled\n",
        "48800"
       ]
      },
      {
       "output_type": "stream",
       "stream": "stdout",
       "text": [
        "  articles pickled\n",
        "48900"
       ]
      },
      {
       "output_type": "stream",
       "stream": "stdout",
       "text": [
        "  articles pickled\n",
        "49000"
       ]
      },
      {
       "output_type": "stream",
       "stream": "stdout",
       "text": [
        "  articles pickled\n",
        "49100"
       ]
      },
      {
       "output_type": "stream",
       "stream": "stdout",
       "text": [
        "  articles pickled\n",
        "49200"
       ]
      },
      {
       "output_type": "stream",
       "stream": "stdout",
       "text": [
        "  articles pickled\n",
        "49300"
       ]
      },
      {
       "output_type": "stream",
       "stream": "stdout",
       "text": [
        "  articles pickled\n",
        "49400"
       ]
      },
      {
       "output_type": "stream",
       "stream": "stdout",
       "text": [
        "  articles pickled\n",
        "49500"
       ]
      },
      {
       "output_type": "stream",
       "stream": "stdout",
       "text": [
        "  articles pickled\n",
        "49600"
       ]
      },
      {
       "output_type": "stream",
       "stream": "stdout",
       "text": [
        "  articles pickled\n",
        "49700"
       ]
      },
      {
       "output_type": "stream",
       "stream": "stdout",
       "text": [
        "  articles pickled\n",
        "49800"
       ]
      },
      {
       "output_type": "stream",
       "stream": "stdout",
       "text": [
        "  articles pickled\n",
        "49900"
       ]
      },
      {
       "output_type": "stream",
       "stream": "stdout",
       "text": [
        "  articles pickled\n",
        "50000"
       ]
      },
      {
       "output_type": "stream",
       "stream": "stdout",
       "text": [
        "  articles pickled\n",
        "50100"
       ]
      },
      {
       "output_type": "stream",
       "stream": "stdout",
       "text": [
        "  articles pickled\n",
        "50200"
       ]
      },
      {
       "output_type": "stream",
       "stream": "stdout",
       "text": [
        "  articles pickled\n",
        "50300"
       ]
      },
      {
       "output_type": "stream",
       "stream": "stdout",
       "text": [
        "  articles pickled\n",
        "50400"
       ]
      },
      {
       "output_type": "stream",
       "stream": "stdout",
       "text": [
        "  articles pickled\n",
        "50500"
       ]
      },
      {
       "output_type": "stream",
       "stream": "stdout",
       "text": [
        "  articles pickled\n",
        "50600"
       ]
      },
      {
       "output_type": "stream",
       "stream": "stdout",
       "text": [
        "  articles pickled\n",
        "50700"
       ]
      },
      {
       "output_type": "stream",
       "stream": "stdout",
       "text": [
        "  articles pickled\n",
        "50800"
       ]
      },
      {
       "output_type": "stream",
       "stream": "stdout",
       "text": [
        "  articles pickled\n",
        "50900"
       ]
      },
      {
       "output_type": "stream",
       "stream": "stdout",
       "text": [
        "  articles pickled\n",
        "51000"
       ]
      },
      {
       "output_type": "stream",
       "stream": "stdout",
       "text": [
        "  articles pickled\n",
        "51100"
       ]
      },
      {
       "output_type": "stream",
       "stream": "stdout",
       "text": [
        "  articles pickled\n",
        "51200"
       ]
      },
      {
       "output_type": "stream",
       "stream": "stdout",
       "text": [
        "  articles pickled\n",
        "51300"
       ]
      },
      {
       "output_type": "stream",
       "stream": "stdout",
       "text": [
        "  articles pickled\n",
        "51400"
       ]
      },
      {
       "output_type": "stream",
       "stream": "stdout",
       "text": [
        "  articles pickled\n",
        "51500"
       ]
      },
      {
       "output_type": "stream",
       "stream": "stdout",
       "text": [
        "  articles pickled\n",
        "51600"
       ]
      },
      {
       "output_type": "stream",
       "stream": "stdout",
       "text": [
        "  articles pickled\n",
        "51700"
       ]
      },
      {
       "output_type": "stream",
       "stream": "stdout",
       "text": [
        "  articles pickled\n",
        "51800"
       ]
      },
      {
       "output_type": "stream",
       "stream": "stdout",
       "text": [
        "  articles pickled\n",
        "51900"
       ]
      },
      {
       "output_type": "stream",
       "stream": "stdout",
       "text": [
        "  articles pickled\n",
        "52000"
       ]
      },
      {
       "output_type": "stream",
       "stream": "stdout",
       "text": [
        "  articles pickled\n",
        "52100"
       ]
      },
      {
       "output_type": "stream",
       "stream": "stdout",
       "text": [
        "  articles pickled\n",
        "52200"
       ]
      },
      {
       "output_type": "stream",
       "stream": "stdout",
       "text": [
        "  articles pickled\n",
        "52300"
       ]
      },
      {
       "output_type": "stream",
       "stream": "stdout",
       "text": [
        "  articles pickled\n",
        "52400"
       ]
      },
      {
       "output_type": "stream",
       "stream": "stdout",
       "text": [
        "  articles pickled\n",
        "52500"
       ]
      },
      {
       "output_type": "stream",
       "stream": "stdout",
       "text": [
        "  articles pickled\n",
        "52600"
       ]
      },
      {
       "output_type": "stream",
       "stream": "stdout",
       "text": [
        "  articles pickled\n",
        "52700"
       ]
      },
      {
       "output_type": "stream",
       "stream": "stdout",
       "text": [
        "  articles pickled\n",
        "52800"
       ]
      },
      {
       "output_type": "stream",
       "stream": "stdout",
       "text": [
        "  articles pickled\n",
        "52900"
       ]
      },
      {
       "output_type": "stream",
       "stream": "stdout",
       "text": [
        "  articles pickled\n",
        "53000"
       ]
      },
      {
       "output_type": "stream",
       "stream": "stdout",
       "text": [
        "  articles pickled\n",
        "53100"
       ]
      },
      {
       "output_type": "stream",
       "stream": "stdout",
       "text": [
        "  articles pickled\n",
        "53200"
       ]
      },
      {
       "output_type": "stream",
       "stream": "stdout",
       "text": [
        "  articles pickled\n",
        "53300"
       ]
      },
      {
       "output_type": "stream",
       "stream": "stdout",
       "text": [
        "  articles pickled\n",
        "53400"
       ]
      },
      {
       "output_type": "stream",
       "stream": "stdout",
       "text": [
        "  articles pickled\n",
        "53500"
       ]
      },
      {
       "output_type": "stream",
       "stream": "stdout",
       "text": [
        "  articles pickled\n",
        "53600"
       ]
      },
      {
       "output_type": "stream",
       "stream": "stdout",
       "text": [
        "  articles pickled\n",
        "53700"
       ]
      },
      {
       "output_type": "stream",
       "stream": "stdout",
       "text": [
        "  articles pickled\n",
        "53800"
       ]
      },
      {
       "output_type": "stream",
       "stream": "stdout",
       "text": [
        "  articles pickled\n",
        "53900"
       ]
      },
      {
       "output_type": "stream",
       "stream": "stdout",
       "text": [
        "  articles pickled\n",
        "54000"
       ]
      },
      {
       "output_type": "stream",
       "stream": "stdout",
       "text": [
        "  articles pickled\n",
        "54100"
       ]
      },
      {
       "output_type": "stream",
       "stream": "stdout",
       "text": [
        "  articles pickled\n",
        "54200"
       ]
      },
      {
       "output_type": "stream",
       "stream": "stdout",
       "text": [
        "  articles pickled\n",
        "54300"
       ]
      },
      {
       "output_type": "stream",
       "stream": "stdout",
       "text": [
        "  articles pickled\n",
        "54400"
       ]
      },
      {
       "output_type": "stream",
       "stream": "stdout",
       "text": [
        "  articles pickled\n",
        "54500"
       ]
      },
      {
       "output_type": "stream",
       "stream": "stdout",
       "text": [
        "  articles pickled\n",
        "54600"
       ]
      },
      {
       "output_type": "stream",
       "stream": "stdout",
       "text": [
        "  articles pickled\n",
        "54700"
       ]
      },
      {
       "output_type": "stream",
       "stream": "stdout",
       "text": [
        "  articles pickled\n",
        "54800"
       ]
      },
      {
       "output_type": "stream",
       "stream": "stdout",
       "text": [
        "  articles pickled\n",
        "54900"
       ]
      },
      {
       "output_type": "stream",
       "stream": "stdout",
       "text": [
        "  articles pickled\n",
        "55000"
       ]
      },
      {
       "output_type": "stream",
       "stream": "stdout",
       "text": [
        "  articles pickled\n",
        "55100"
       ]
      },
      {
       "output_type": "stream",
       "stream": "stdout",
       "text": [
        "  articles pickled\n",
        "55200"
       ]
      },
      {
       "output_type": "stream",
       "stream": "stdout",
       "text": [
        "  articles pickled\n",
        "55300"
       ]
      },
      {
       "output_type": "stream",
       "stream": "stdout",
       "text": [
        "  articles pickled\n",
        "55400"
       ]
      },
      {
       "output_type": "stream",
       "stream": "stdout",
       "text": [
        "  articles pickled\n",
        "55500"
       ]
      },
      {
       "output_type": "stream",
       "stream": "stdout",
       "text": [
        "  articles pickled\n",
        "55600"
       ]
      },
      {
       "output_type": "stream",
       "stream": "stdout",
       "text": [
        "  articles pickled\n",
        "55700"
       ]
      },
      {
       "output_type": "stream",
       "stream": "stdout",
       "text": [
        "  articles pickled\n",
        "55800"
       ]
      },
      {
       "output_type": "stream",
       "stream": "stdout",
       "text": [
        "  articles pickled\n",
        "55900"
       ]
      },
      {
       "output_type": "stream",
       "stream": "stdout",
       "text": [
        "  articles pickled\n",
        "56000"
       ]
      },
      {
       "output_type": "stream",
       "stream": "stdout",
       "text": [
        "  articles pickled\n",
        "56100"
       ]
      },
      {
       "output_type": "stream",
       "stream": "stdout",
       "text": [
        "  articles pickled\n",
        "56200"
       ]
      },
      {
       "output_type": "stream",
       "stream": "stdout",
       "text": [
        "  articles pickled\n",
        "56300"
       ]
      },
      {
       "output_type": "stream",
       "stream": "stdout",
       "text": [
        "  articles pickled\n",
        "56400"
       ]
      },
      {
       "output_type": "stream",
       "stream": "stdout",
       "text": [
        "  articles pickled\n",
        "56500"
       ]
      },
      {
       "output_type": "stream",
       "stream": "stdout",
       "text": [
        "  articles pickled\n",
        "56600"
       ]
      },
      {
       "output_type": "stream",
       "stream": "stdout",
       "text": [
        "  articles pickled\n",
        "56700"
       ]
      },
      {
       "output_type": "stream",
       "stream": "stdout",
       "text": [
        "  articles pickled\n",
        "56800"
       ]
      },
      {
       "output_type": "stream",
       "stream": "stdout",
       "text": [
        "  articles pickled\n",
        "56900"
       ]
      },
      {
       "output_type": "stream",
       "stream": "stdout",
       "text": [
        "  articles pickled\n",
        "57000"
       ]
      },
      {
       "output_type": "stream",
       "stream": "stdout",
       "text": [
        "  articles pickled\n",
        "57100"
       ]
      },
      {
       "output_type": "stream",
       "stream": "stdout",
       "text": [
        "  articles pickled\n",
        "57200"
       ]
      },
      {
       "output_type": "stream",
       "stream": "stdout",
       "text": [
        "  articles pickled\n",
        "57300"
       ]
      },
      {
       "output_type": "stream",
       "stream": "stdout",
       "text": [
        "  articles pickled\n",
        "57400"
       ]
      },
      {
       "output_type": "stream",
       "stream": "stdout",
       "text": [
        "  articles pickled\n",
        "57500"
       ]
      },
      {
       "output_type": "stream",
       "stream": "stdout",
       "text": [
        "  articles pickled\n",
        "57600"
       ]
      },
      {
       "output_type": "stream",
       "stream": "stdout",
       "text": [
        "  articles pickled\n",
        "57700"
       ]
      },
      {
       "output_type": "stream",
       "stream": "stdout",
       "text": [
        "  articles pickled\n",
        "57800"
       ]
      },
      {
       "output_type": "stream",
       "stream": "stdout",
       "text": [
        "  articles pickled\n",
        "57900"
       ]
      },
      {
       "output_type": "stream",
       "stream": "stdout",
       "text": [
        "  articles pickled\n",
        "58000"
       ]
      },
      {
       "output_type": "stream",
       "stream": "stdout",
       "text": [
        "  articles pickled\n",
        "58100"
       ]
      },
      {
       "output_type": "stream",
       "stream": "stdout",
       "text": [
        "  articles pickled\n",
        "58200"
       ]
      },
      {
       "output_type": "stream",
       "stream": "stdout",
       "text": [
        "  articles pickled\n",
        "58300"
       ]
      },
      {
       "output_type": "stream",
       "stream": "stdout",
       "text": [
        "  articles pickled\n",
        "58400"
       ]
      },
      {
       "output_type": "stream",
       "stream": "stdout",
       "text": [
        "  articles pickled\n",
        "58500"
       ]
      },
      {
       "output_type": "stream",
       "stream": "stdout",
       "text": [
        "  articles pickled\n",
        "58600"
       ]
      },
      {
       "output_type": "stream",
       "stream": "stdout",
       "text": [
        "  articles pickled\n",
        "58700"
       ]
      },
      {
       "output_type": "stream",
       "stream": "stdout",
       "text": [
        "  articles pickled\n",
        "58800"
       ]
      },
      {
       "output_type": "stream",
       "stream": "stdout",
       "text": [
        "  articles pickled\n",
        "58900"
       ]
      },
      {
       "output_type": "stream",
       "stream": "stdout",
       "text": [
        "  articles pickled\n",
        "59000"
       ]
      },
      {
       "output_type": "stream",
       "stream": "stdout",
       "text": [
        "  articles pickled\n",
        "59100"
       ]
      },
      {
       "output_type": "stream",
       "stream": "stdout",
       "text": [
        "  articles pickled\n",
        "59200"
       ]
      },
      {
       "output_type": "stream",
       "stream": "stdout",
       "text": [
        "  articles pickled\n",
        "59300"
       ]
      },
      {
       "output_type": "stream",
       "stream": "stdout",
       "text": [
        "  articles pickled\n",
        "59400"
       ]
      },
      {
       "output_type": "stream",
       "stream": "stdout",
       "text": [
        "  articles pickled\n",
        "59500"
       ]
      },
      {
       "output_type": "stream",
       "stream": "stdout",
       "text": [
        "  articles pickled\n",
        "59600"
       ]
      },
      {
       "output_type": "stream",
       "stream": "stdout",
       "text": [
        "  articles pickled\n",
        "59700"
       ]
      },
      {
       "output_type": "stream",
       "stream": "stdout",
       "text": [
        "  articles pickled\n",
        "59800"
       ]
      },
      {
       "output_type": "stream",
       "stream": "stdout",
       "text": [
        "  articles pickled\n",
        "59900"
       ]
      },
      {
       "output_type": "stream",
       "stream": "stdout",
       "text": [
        "  articles pickled\n",
        "60000"
       ]
      },
      {
       "output_type": "stream",
       "stream": "stdout",
       "text": [
        "  articles pickled\n",
        "60100"
       ]
      },
      {
       "output_type": "stream",
       "stream": "stdout",
       "text": [
        "  articles pickled\n",
        "60200"
       ]
      },
      {
       "output_type": "stream",
       "stream": "stdout",
       "text": [
        "  articles pickled\n",
        "60300"
       ]
      },
      {
       "output_type": "stream",
       "stream": "stdout",
       "text": [
        "  articles pickled\n",
        "60400"
       ]
      },
      {
       "output_type": "stream",
       "stream": "stdout",
       "text": [
        "  articles pickled\n",
        "60500"
       ]
      },
      {
       "output_type": "stream",
       "stream": "stdout",
       "text": [
        "  articles pickled\n",
        "60600"
       ]
      },
      {
       "output_type": "stream",
       "stream": "stdout",
       "text": [
        "  articles pickled\n",
        "60700"
       ]
      },
      {
       "output_type": "stream",
       "stream": "stdout",
       "text": [
        "  articles pickled\n",
        "60800"
       ]
      },
      {
       "output_type": "stream",
       "stream": "stdout",
       "text": [
        "  articles pickled\n",
        "60900"
       ]
      },
      {
       "output_type": "stream",
       "stream": "stdout",
       "text": [
        "  articles pickled\n",
        "61000"
       ]
      },
      {
       "output_type": "stream",
       "stream": "stdout",
       "text": [
        "  articles pickled\n",
        "61100"
       ]
      },
      {
       "output_type": "stream",
       "stream": "stdout",
       "text": [
        "  articles pickled\n",
        "61200"
       ]
      },
      {
       "output_type": "stream",
       "stream": "stdout",
       "text": [
        "  articles pickled\n",
        "61300"
       ]
      },
      {
       "output_type": "stream",
       "stream": "stdout",
       "text": [
        "  articles pickled\n",
        "61400"
       ]
      },
      {
       "output_type": "stream",
       "stream": "stdout",
       "text": [
        "  articles pickled\n",
        "61500"
       ]
      },
      {
       "output_type": "stream",
       "stream": "stdout",
       "text": [
        "  articles pickled\n",
        "61600"
       ]
      },
      {
       "output_type": "stream",
       "stream": "stdout",
       "text": [
        "  articles pickled\n",
        "61700"
       ]
      },
      {
       "output_type": "stream",
       "stream": "stdout",
       "text": [
        "  articles pickled\n",
        "61800"
       ]
      },
      {
       "output_type": "stream",
       "stream": "stdout",
       "text": [
        "  articles pickled\n",
        "61900"
       ]
      },
      {
       "output_type": "stream",
       "stream": "stdout",
       "text": [
        "  articles pickled\n",
        "62000"
       ]
      },
      {
       "output_type": "stream",
       "stream": "stdout",
       "text": [
        "  articles pickled\n",
        "62100"
       ]
      },
      {
       "output_type": "stream",
       "stream": "stdout",
       "text": [
        "  articles pickled\n",
        "62200"
       ]
      },
      {
       "output_type": "stream",
       "stream": "stdout",
       "text": [
        "  articles pickled\n",
        "62300"
       ]
      },
      {
       "output_type": "stream",
       "stream": "stdout",
       "text": [
        "  articles pickled\n",
        "62400"
       ]
      },
      {
       "output_type": "stream",
       "stream": "stdout",
       "text": [
        "  articles pickled\n",
        "62500"
       ]
      },
      {
       "output_type": "stream",
       "stream": "stdout",
       "text": [
        "  articles pickled\n",
        "62600"
       ]
      },
      {
       "output_type": "stream",
       "stream": "stdout",
       "text": [
        "  articles pickled\n",
        "62700"
       ]
      },
      {
       "output_type": "stream",
       "stream": "stdout",
       "text": [
        "  articles pickled\n",
        "62800"
       ]
      },
      {
       "output_type": "stream",
       "stream": "stdout",
       "text": [
        "  articles pickled\n",
        "62900"
       ]
      },
      {
       "output_type": "stream",
       "stream": "stdout",
       "text": [
        "  articles pickled\n",
        "63000"
       ]
      },
      {
       "output_type": "stream",
       "stream": "stdout",
       "text": [
        "  articles pickled\n",
        "63100"
       ]
      },
      {
       "output_type": "stream",
       "stream": "stdout",
       "text": [
        "  articles pickled\n",
        "63200"
       ]
      },
      {
       "output_type": "stream",
       "stream": "stdout",
       "text": [
        "  articles pickled\n",
        "63300"
       ]
      },
      {
       "output_type": "stream",
       "stream": "stdout",
       "text": [
        "  articles pickled\n",
        "63400"
       ]
      },
      {
       "output_type": "stream",
       "stream": "stdout",
       "text": [
        "  articles pickled\n",
        "63500"
       ]
      },
      {
       "output_type": "stream",
       "stream": "stdout",
       "text": [
        "  articles pickled\n",
        "63600"
       ]
      },
      {
       "output_type": "stream",
       "stream": "stdout",
       "text": [
        "  articles pickled\n",
        "63700"
       ]
      },
      {
       "output_type": "stream",
       "stream": "stdout",
       "text": [
        "  articles pickled\n",
        "63800"
       ]
      },
      {
       "output_type": "stream",
       "stream": "stdout",
       "text": [
        "  articles pickled\n",
        "63900"
       ]
      },
      {
       "output_type": "stream",
       "stream": "stdout",
       "text": [
        "  articles pickled\n",
        "64000"
       ]
      },
      {
       "output_type": "stream",
       "stream": "stdout",
       "text": [
        "  articles pickled\n",
        "64100"
       ]
      },
      {
       "output_type": "stream",
       "stream": "stdout",
       "text": [
        "  articles pickled\n",
        "64200"
       ]
      },
      {
       "output_type": "stream",
       "stream": "stdout",
       "text": [
        "  articles pickled\n",
        "64300"
       ]
      },
      {
       "output_type": "stream",
       "stream": "stdout",
       "text": [
        "  articles pickled\n",
        "64400"
       ]
      },
      {
       "output_type": "stream",
       "stream": "stdout",
       "text": [
        "  articles pickled\n",
        "64500"
       ]
      },
      {
       "output_type": "stream",
       "stream": "stdout",
       "text": [
        "  articles pickled\n",
        "64600"
       ]
      },
      {
       "output_type": "stream",
       "stream": "stdout",
       "text": [
        "  articles pickled\n",
        "64700"
       ]
      },
      {
       "output_type": "stream",
       "stream": "stdout",
       "text": [
        "  articles pickled\n",
        "64800"
       ]
      },
      {
       "output_type": "stream",
       "stream": "stdout",
       "text": [
        "  articles pickled\n",
        "64900"
       ]
      },
      {
       "output_type": "stream",
       "stream": "stdout",
       "text": [
        "  articles pickled\n",
        "65000"
       ]
      },
      {
       "output_type": "stream",
       "stream": "stdout",
       "text": [
        "  articles pickled\n",
        "65100"
       ]
      },
      {
       "output_type": "stream",
       "stream": "stdout",
       "text": [
        "  articles pickled\n",
        "65200"
       ]
      },
      {
       "output_type": "stream",
       "stream": "stdout",
       "text": [
        "  articles pickled\n",
        "65300"
       ]
      },
      {
       "output_type": "stream",
       "stream": "stdout",
       "text": [
        "  articles pickled\n",
        "65400"
       ]
      },
      {
       "output_type": "stream",
       "stream": "stdout",
       "text": [
        "  articles pickled\n",
        "65500"
       ]
      },
      {
       "output_type": "stream",
       "stream": "stdout",
       "text": [
        "  articles pickled\n",
        "65600"
       ]
      },
      {
       "output_type": "stream",
       "stream": "stdout",
       "text": [
        "  articles pickled\n",
        "65700"
       ]
      },
      {
       "output_type": "stream",
       "stream": "stdout",
       "text": [
        "  articles pickled\n",
        "65800"
       ]
      },
      {
       "output_type": "stream",
       "stream": "stdout",
       "text": [
        "  articles pickled\n",
        "65900"
       ]
      },
      {
       "output_type": "stream",
       "stream": "stdout",
       "text": [
        "  articles pickled\n",
        "66000"
       ]
      },
      {
       "output_type": "stream",
       "stream": "stdout",
       "text": [
        "  articles pickled\n",
        "66100"
       ]
      },
      {
       "output_type": "stream",
       "stream": "stdout",
       "text": [
        "  articles pickled\n",
        "66200"
       ]
      },
      {
       "output_type": "stream",
       "stream": "stdout",
       "text": [
        "  articles pickled\n",
        "66300"
       ]
      },
      {
       "output_type": "stream",
       "stream": "stdout",
       "text": [
        "  articles pickled\n",
        "66400"
       ]
      },
      {
       "output_type": "stream",
       "stream": "stdout",
       "text": [
        "  articles pickled\n",
        "66500"
       ]
      },
      {
       "output_type": "stream",
       "stream": "stdout",
       "text": [
        "  articles pickled\n",
        "66600"
       ]
      },
      {
       "output_type": "stream",
       "stream": "stdout",
       "text": [
        "  articles pickled\n",
        "66700"
       ]
      },
      {
       "output_type": "stream",
       "stream": "stdout",
       "text": [
        "  articles pickled\n",
        "66800"
       ]
      },
      {
       "output_type": "stream",
       "stream": "stdout",
       "text": [
        "  articles pickled\n",
        "66900"
       ]
      },
      {
       "output_type": "stream",
       "stream": "stdout",
       "text": [
        "  articles pickled\n",
        "67000"
       ]
      },
      {
       "output_type": "stream",
       "stream": "stdout",
       "text": [
        "  articles pickled\n",
        "67100"
       ]
      },
      {
       "output_type": "stream",
       "stream": "stdout",
       "text": [
        "  articles pickled\n",
        "67200"
       ]
      },
      {
       "output_type": "stream",
       "stream": "stdout",
       "text": [
        "  articles pickled\n",
        "67300"
       ]
      },
      {
       "output_type": "stream",
       "stream": "stdout",
       "text": [
        "  articles pickled\n",
        "67400"
       ]
      },
      {
       "output_type": "stream",
       "stream": "stdout",
       "text": [
        "  articles pickled\n",
        "67500"
       ]
      },
      {
       "output_type": "stream",
       "stream": "stdout",
       "text": [
        "  articles pickled\n",
        "67600"
       ]
      },
      {
       "output_type": "stream",
       "stream": "stdout",
       "text": [
        "  articles pickled\n",
        "67700"
       ]
      },
      {
       "output_type": "stream",
       "stream": "stdout",
       "text": [
        "  articles pickled\n",
        "67800"
       ]
      },
      {
       "output_type": "stream",
       "stream": "stdout",
       "text": [
        "  articles pickled\n",
        "67900"
       ]
      },
      {
       "output_type": "stream",
       "stream": "stdout",
       "text": [
        "  articles pickled\n",
        "68000"
       ]
      },
      {
       "output_type": "stream",
       "stream": "stdout",
       "text": [
        "  articles pickled\n",
        "68100"
       ]
      },
      {
       "output_type": "stream",
       "stream": "stdout",
       "text": [
        "  articles pickled\n",
        "68200"
       ]
      },
      {
       "output_type": "stream",
       "stream": "stdout",
       "text": [
        "  articles pickled\n",
        "68300"
       ]
      },
      {
       "output_type": "stream",
       "stream": "stdout",
       "text": [
        "  articles pickled\n",
        "68400"
       ]
      },
      {
       "output_type": "stream",
       "stream": "stdout",
       "text": [
        "  articles pickled\n",
        "68500"
       ]
      },
      {
       "output_type": "stream",
       "stream": "stdout",
       "text": [
        "  articles pickled\n",
        "68600"
       ]
      },
      {
       "output_type": "stream",
       "stream": "stdout",
       "text": [
        "  articles pickled\n",
        "68700"
       ]
      },
      {
       "output_type": "stream",
       "stream": "stdout",
       "text": [
        "  articles pickled\n",
        "68800"
       ]
      },
      {
       "output_type": "stream",
       "stream": "stdout",
       "text": [
        "  articles pickled\n",
        "68900"
       ]
      },
      {
       "output_type": "stream",
       "stream": "stdout",
       "text": [
        "  articles pickled\n",
        "69000"
       ]
      },
      {
       "output_type": "stream",
       "stream": "stdout",
       "text": [
        "  articles pickled\n",
        "69100"
       ]
      },
      {
       "output_type": "stream",
       "stream": "stdout",
       "text": [
        "  articles pickled\n",
        "69200"
       ]
      },
      {
       "output_type": "stream",
       "stream": "stdout",
       "text": [
        "  articles pickled\n",
        "69300"
       ]
      },
      {
       "output_type": "stream",
       "stream": "stdout",
       "text": [
        "  articles pickled\n",
        "69400"
       ]
      },
      {
       "output_type": "stream",
       "stream": "stdout",
       "text": [
        "  articles pickled\n",
        "69500"
       ]
      },
      {
       "output_type": "stream",
       "stream": "stdout",
       "text": [
        "  articles pickled\n",
        "69600"
       ]
      },
      {
       "output_type": "stream",
       "stream": "stdout",
       "text": [
        "  articles pickled\n",
        "69700"
       ]
      },
      {
       "output_type": "stream",
       "stream": "stdout",
       "text": [
        "  articles pickled\n",
        "69800"
       ]
      },
      {
       "output_type": "stream",
       "stream": "stdout",
       "text": [
        "  articles pickled\n",
        "69900"
       ]
      },
      {
       "output_type": "stream",
       "stream": "stdout",
       "text": [
        "  articles pickled\n",
        "70000"
       ]
      },
      {
       "output_type": "stream",
       "stream": "stdout",
       "text": [
        "  articles pickled\n",
        "70100"
       ]
      },
      {
       "output_type": "stream",
       "stream": "stdout",
       "text": [
        "  articles pickled\n",
        "70200"
       ]
      },
      {
       "output_type": "stream",
       "stream": "stdout",
       "text": [
        "  articles pickled\n",
        "70300"
       ]
      },
      {
       "output_type": "stream",
       "stream": "stdout",
       "text": [
        "  articles pickled\n",
        "70400"
       ]
      },
      {
       "output_type": "stream",
       "stream": "stdout",
       "text": [
        "  articles pickled\n",
        "70500"
       ]
      },
      {
       "output_type": "stream",
       "stream": "stdout",
       "text": [
        "  articles pickled\n",
        "70600"
       ]
      },
      {
       "output_type": "stream",
       "stream": "stdout",
       "text": [
        "  articles pickled\n",
        "70700"
       ]
      },
      {
       "output_type": "stream",
       "stream": "stdout",
       "text": [
        "  articles pickled\n",
        "70800"
       ]
      },
      {
       "output_type": "stream",
       "stream": "stdout",
       "text": [
        "  articles pickled\n",
        "70900"
       ]
      },
      {
       "output_type": "stream",
       "stream": "stdout",
       "text": [
        "  articles pickled\n",
        "71000"
       ]
      },
      {
       "output_type": "stream",
       "stream": "stdout",
       "text": [
        "  articles pickled\n",
        "71100"
       ]
      },
      {
       "output_type": "stream",
       "stream": "stdout",
       "text": [
        "  articles pickled\n",
        "71200"
       ]
      },
      {
       "output_type": "stream",
       "stream": "stdout",
       "text": [
        "  articles pickled\n",
        "71300"
       ]
      },
      {
       "output_type": "stream",
       "stream": "stdout",
       "text": [
        "  articles pickled\n",
        "71400"
       ]
      },
      {
       "output_type": "stream",
       "stream": "stdout",
       "text": [
        "  articles pickled\n",
        "71500"
       ]
      },
      {
       "output_type": "stream",
       "stream": "stdout",
       "text": [
        "  articles pickled\n",
        "71600"
       ]
      },
      {
       "output_type": "stream",
       "stream": "stdout",
       "text": [
        "  articles pickled\n",
        "71700"
       ]
      },
      {
       "output_type": "stream",
       "stream": "stdout",
       "text": [
        "  articles pickled\n",
        "71800"
       ]
      },
      {
       "output_type": "stream",
       "stream": "stdout",
       "text": [
        "  articles pickled\n",
        "71900"
       ]
      },
      {
       "output_type": "stream",
       "stream": "stdout",
       "text": [
        "  articles pickled\n",
        "72000"
       ]
      },
      {
       "output_type": "stream",
       "stream": "stdout",
       "text": [
        "  articles pickled\n",
        "72100"
       ]
      },
      {
       "output_type": "stream",
       "stream": "stdout",
       "text": [
        "  articles pickled\n",
        "72200"
       ]
      },
      {
       "output_type": "stream",
       "stream": "stdout",
       "text": [
        "  articles pickled\n",
        "72300"
       ]
      },
      {
       "output_type": "stream",
       "stream": "stdout",
       "text": [
        "  articles pickled\n",
        "72400"
       ]
      },
      {
       "output_type": "stream",
       "stream": "stdout",
       "text": [
        "  articles pickled\n",
        "72500"
       ]
      },
      {
       "output_type": "stream",
       "stream": "stdout",
       "text": [
        "  articles pickled\n",
        "72600"
       ]
      },
      {
       "output_type": "stream",
       "stream": "stdout",
       "text": [
        "  articles pickled\n",
        "72700"
       ]
      },
      {
       "output_type": "stream",
       "stream": "stdout",
       "text": [
        "  articles pickled\n",
        "72800"
       ]
      },
      {
       "output_type": "stream",
       "stream": "stdout",
       "text": [
        "  articles pickled\n",
        "72900"
       ]
      },
      {
       "output_type": "stream",
       "stream": "stdout",
       "text": [
        "  articles pickled\n",
        "73000"
       ]
      },
      {
       "output_type": "stream",
       "stream": "stdout",
       "text": [
        "  articles pickled\n",
        "73100"
       ]
      },
      {
       "output_type": "stream",
       "stream": "stdout",
       "text": [
        "  articles pickled\n",
        "73200"
       ]
      },
      {
       "output_type": "stream",
       "stream": "stdout",
       "text": [
        "  articles pickled\n",
        "73300"
       ]
      },
      {
       "output_type": "stream",
       "stream": "stdout",
       "text": [
        "  articles pickled\n",
        "73400"
       ]
      },
      {
       "output_type": "stream",
       "stream": "stdout",
       "text": [
        "  articles pickled\n",
        "73500"
       ]
      },
      {
       "output_type": "stream",
       "stream": "stdout",
       "text": [
        "  articles pickled\n",
        "73600"
       ]
      },
      {
       "output_type": "stream",
       "stream": "stdout",
       "text": [
        "  articles pickled\n",
        "73700"
       ]
      },
      {
       "output_type": "stream",
       "stream": "stdout",
       "text": [
        "  articles pickled\n",
        "73800"
       ]
      },
      {
       "output_type": "stream",
       "stream": "stdout",
       "text": [
        "  articles pickled\n",
        "73900"
       ]
      },
      {
       "output_type": "stream",
       "stream": "stdout",
       "text": [
        "  articles pickled\n",
        "74000"
       ]
      },
      {
       "output_type": "stream",
       "stream": "stdout",
       "text": [
        "  articles pickled\n",
        "74100"
       ]
      },
      {
       "output_type": "stream",
       "stream": "stdout",
       "text": [
        "  articles pickled\n",
        "74200"
       ]
      },
      {
       "output_type": "stream",
       "stream": "stdout",
       "text": [
        "  articles pickled\n",
        "74300"
       ]
      },
      {
       "output_type": "stream",
       "stream": "stdout",
       "text": [
        "  articles pickled\n",
        "74400"
       ]
      },
      {
       "output_type": "stream",
       "stream": "stdout",
       "text": [
        "  articles pickled\n",
        "74500"
       ]
      },
      {
       "output_type": "stream",
       "stream": "stdout",
       "text": [
        "  articles pickled\n",
        "74600"
       ]
      },
      {
       "output_type": "stream",
       "stream": "stdout",
       "text": [
        "  articles pickled\n",
        "74700"
       ]
      },
      {
       "output_type": "stream",
       "stream": "stdout",
       "text": [
        "  articles pickled\n",
        "74800"
       ]
      },
      {
       "output_type": "stream",
       "stream": "stdout",
       "text": [
        "  articles pickled\n",
        "74900"
       ]
      },
      {
       "output_type": "stream",
       "stream": "stdout",
       "text": [
        "  articles pickled\n",
        "75000"
       ]
      },
      {
       "output_type": "stream",
       "stream": "stdout",
       "text": [
        "  articles pickled\n",
        "75100"
       ]
      },
      {
       "output_type": "stream",
       "stream": "stdout",
       "text": [
        "  articles pickled\n",
        "75200"
       ]
      },
      {
       "output_type": "stream",
       "stream": "stdout",
       "text": [
        "  articles pickled\n",
        "75300"
       ]
      },
      {
       "output_type": "stream",
       "stream": "stdout",
       "text": [
        "  articles pickled\n",
        "75400"
       ]
      },
      {
       "output_type": "stream",
       "stream": "stdout",
       "text": [
        "  articles pickled\n",
        "75500"
       ]
      },
      {
       "output_type": "stream",
       "stream": "stdout",
       "text": [
        "  articles pickled\n",
        "75600"
       ]
      },
      {
       "output_type": "stream",
       "stream": "stdout",
       "text": [
        "  articles pickled\n",
        "75700"
       ]
      },
      {
       "output_type": "stream",
       "stream": "stdout",
       "text": [
        "  articles pickled\n",
        "75800"
       ]
      },
      {
       "output_type": "stream",
       "stream": "stdout",
       "text": [
        "  articles pickled\n",
        "75900"
       ]
      },
      {
       "output_type": "stream",
       "stream": "stdout",
       "text": [
        "  articles pickled\n",
        "76000"
       ]
      },
      {
       "output_type": "stream",
       "stream": "stdout",
       "text": [
        "  articles pickled\n",
        "76100"
       ]
      },
      {
       "output_type": "stream",
       "stream": "stdout",
       "text": [
        "  articles pickled\n",
        "76200"
       ]
      },
      {
       "output_type": "stream",
       "stream": "stdout",
       "text": [
        "  articles pickled\n",
        "76300"
       ]
      },
      {
       "output_type": "stream",
       "stream": "stdout",
       "text": [
        "  articles pickled\n",
        "76400"
       ]
      },
      {
       "output_type": "stream",
       "stream": "stdout",
       "text": [
        "  articles pickled\n",
        "76500"
       ]
      },
      {
       "output_type": "stream",
       "stream": "stdout",
       "text": [
        "  articles pickled\n",
        "76600"
       ]
      },
      {
       "output_type": "stream",
       "stream": "stdout",
       "text": [
        "  articles pickled\n",
        "76700"
       ]
      },
      {
       "output_type": "stream",
       "stream": "stdout",
       "text": [
        "  articles pickled\n",
        "76800"
       ]
      },
      {
       "output_type": "stream",
       "stream": "stdout",
       "text": [
        "  articles pickled\n",
        "76900"
       ]
      },
      {
       "output_type": "stream",
       "stream": "stdout",
       "text": [
        "  articles pickled\n",
        "77000"
       ]
      },
      {
       "output_type": "stream",
       "stream": "stdout",
       "text": [
        "  articles pickled\n",
        "77100"
       ]
      },
      {
       "output_type": "stream",
       "stream": "stdout",
       "text": [
        "  articles pickled\n",
        "77200"
       ]
      },
      {
       "output_type": "stream",
       "stream": "stdout",
       "text": [
        "  articles pickled\n",
        "77300"
       ]
      },
      {
       "output_type": "stream",
       "stream": "stdout",
       "text": [
        "  articles pickled\n",
        "77400"
       ]
      },
      {
       "output_type": "stream",
       "stream": "stdout",
       "text": [
        "  articles pickled\n",
        "77500"
       ]
      },
      {
       "output_type": "stream",
       "stream": "stdout",
       "text": [
        "  articles pickled\n",
        "77600"
       ]
      },
      {
       "output_type": "stream",
       "stream": "stdout",
       "text": [
        "  articles pickled\n",
        "77700"
       ]
      },
      {
       "output_type": "stream",
       "stream": "stdout",
       "text": [
        "  articles pickled\n",
        "77800"
       ]
      },
      {
       "output_type": "stream",
       "stream": "stdout",
       "text": [
        "  articles pickled\n",
        "77900"
       ]
      },
      {
       "output_type": "stream",
       "stream": "stdout",
       "text": [
        "  articles pickled\n",
        "78000"
       ]
      },
      {
       "output_type": "stream",
       "stream": "stdout",
       "text": [
        "  articles pickled\n",
        "78100"
       ]
      },
      {
       "output_type": "stream",
       "stream": "stdout",
       "text": [
        "  articles pickled\n",
        "78200"
       ]
      },
      {
       "output_type": "stream",
       "stream": "stdout",
       "text": [
        "  articles pickled\n",
        "78300"
       ]
      },
      {
       "output_type": "stream",
       "stream": "stdout",
       "text": [
        "  articles pickled\n",
        "78400"
       ]
      },
      {
       "output_type": "stream",
       "stream": "stdout",
       "text": [
        "  articles pickled\n",
        "78500"
       ]
      },
      {
       "output_type": "stream",
       "stream": "stdout",
       "text": [
        "  articles pickled\n",
        "78600"
       ]
      },
      {
       "output_type": "stream",
       "stream": "stdout",
       "text": [
        "  articles pickled\n",
        "78700"
       ]
      },
      {
       "output_type": "stream",
       "stream": "stdout",
       "text": [
        "  articles pickled\n",
        "78800"
       ]
      },
      {
       "output_type": "stream",
       "stream": "stdout",
       "text": [
        "  articles pickled\n",
        "78900"
       ]
      },
      {
       "output_type": "stream",
       "stream": "stdout",
       "text": [
        "  articles pickled\n",
        "79000"
       ]
      },
      {
       "output_type": "stream",
       "stream": "stdout",
       "text": [
        "  articles pickled\n",
        "79100"
       ]
      },
      {
       "output_type": "stream",
       "stream": "stdout",
       "text": [
        "  articles pickled\n",
        "79200"
       ]
      },
      {
       "output_type": "stream",
       "stream": "stdout",
       "text": [
        "  articles pickled\n",
        "79300"
       ]
      },
      {
       "output_type": "stream",
       "stream": "stdout",
       "text": [
        "  articles pickled\n",
        "79400"
       ]
      },
      {
       "output_type": "stream",
       "stream": "stdout",
       "text": [
        "  articles pickled\n",
        "79500"
       ]
      },
      {
       "output_type": "stream",
       "stream": "stdout",
       "text": [
        "  articles pickled\n",
        "79600"
       ]
      },
      {
       "output_type": "stream",
       "stream": "stdout",
       "text": [
        "  articles pickled\n",
        "79700"
       ]
      },
      {
       "output_type": "stream",
       "stream": "stdout",
       "text": [
        "  articles pickled\n",
        "79800"
       ]
      },
      {
       "output_type": "stream",
       "stream": "stdout",
       "text": [
        "  articles pickled\n",
        "79900"
       ]
      },
      {
       "output_type": "stream",
       "stream": "stdout",
       "text": [
        "  articles pickled\n",
        "80000"
       ]
      },
      {
       "output_type": "stream",
       "stream": "stdout",
       "text": [
        "  articles pickled\n",
        "80100"
       ]
      },
      {
       "output_type": "stream",
       "stream": "stdout",
       "text": [
        "  articles pickled\n",
        "80200"
       ]
      },
      {
       "output_type": "stream",
       "stream": "stdout",
       "text": [
        "  articles pickled\n",
        "80300"
       ]
      },
      {
       "output_type": "stream",
       "stream": "stdout",
       "text": [
        "  articles pickled\n",
        "80400"
       ]
      },
      {
       "output_type": "stream",
       "stream": "stdout",
       "text": [
        "  articles pickled\n",
        "80500"
       ]
      },
      {
       "output_type": "stream",
       "stream": "stdout",
       "text": [
        "  articles pickled\n",
        "80600"
       ]
      },
      {
       "output_type": "stream",
       "stream": "stdout",
       "text": [
        "  articles pickled\n",
        "80700"
       ]
      },
      {
       "output_type": "stream",
       "stream": "stdout",
       "text": [
        "  articles pickled\n",
        "80800"
       ]
      },
      {
       "output_type": "stream",
       "stream": "stdout",
       "text": [
        "  articles pickled\n",
        "80900"
       ]
      },
      {
       "output_type": "stream",
       "stream": "stdout",
       "text": [
        "  articles pickled\n",
        "81000"
       ]
      },
      {
       "output_type": "stream",
       "stream": "stdout",
       "text": [
        "  articles pickled\n",
        "81100"
       ]
      },
      {
       "output_type": "stream",
       "stream": "stdout",
       "text": [
        "  articles pickled\n",
        "81200"
       ]
      },
      {
       "output_type": "stream",
       "stream": "stdout",
       "text": [
        "  articles pickled\n",
        "81300"
       ]
      },
      {
       "output_type": "stream",
       "stream": "stdout",
       "text": [
        "  articles pickled\n",
        "81400"
       ]
      },
      {
       "output_type": "stream",
       "stream": "stdout",
       "text": [
        "  articles pickled\n",
        "81500"
       ]
      },
      {
       "output_type": "stream",
       "stream": "stdout",
       "text": [
        "  articles pickled\n",
        "81600"
       ]
      },
      {
       "output_type": "stream",
       "stream": "stdout",
       "text": [
        "  articles pickled\n",
        "81700"
       ]
      },
      {
       "output_type": "stream",
       "stream": "stdout",
       "text": [
        "  articles pickled\n",
        "81800"
       ]
      },
      {
       "output_type": "stream",
       "stream": "stdout",
       "text": [
        "  articles pickled\n",
        "81900"
       ]
      },
      {
       "output_type": "stream",
       "stream": "stdout",
       "text": [
        "  articles pickled\n",
        "82000"
       ]
      },
      {
       "output_type": "stream",
       "stream": "stdout",
       "text": [
        "  articles pickled\n",
        "82100"
       ]
      },
      {
       "output_type": "stream",
       "stream": "stdout",
       "text": [
        "  articles pickled\n",
        "82200"
       ]
      },
      {
       "output_type": "stream",
       "stream": "stdout",
       "text": [
        "  articles pickled\n",
        "82300"
       ]
      },
      {
       "output_type": "stream",
       "stream": "stdout",
       "text": [
        "  articles pickled\n",
        "82400"
       ]
      },
      {
       "output_type": "stream",
       "stream": "stdout",
       "text": [
        "  articles pickled\n",
        "82500"
       ]
      },
      {
       "output_type": "stream",
       "stream": "stdout",
       "text": [
        "  articles pickled\n",
        "82600"
       ]
      },
      {
       "output_type": "stream",
       "stream": "stdout",
       "text": [
        "  articles pickled\n",
        "82700"
       ]
      },
      {
       "output_type": "stream",
       "stream": "stdout",
       "text": [
        "  articles pickled\n",
        "82800"
       ]
      },
      {
       "output_type": "stream",
       "stream": "stdout",
       "text": [
        "  articles pickled\n",
        "82900"
       ]
      },
      {
       "output_type": "stream",
       "stream": "stdout",
       "text": [
        "  articles pickled\n",
        "83000"
       ]
      },
      {
       "output_type": "stream",
       "stream": "stdout",
       "text": [
        "  articles pickled\n",
        "83100"
       ]
      },
      {
       "output_type": "stream",
       "stream": "stdout",
       "text": [
        "  articles pickled\n",
        "83200"
       ]
      },
      {
       "output_type": "stream",
       "stream": "stdout",
       "text": [
        "  articles pickled\n",
        "83300"
       ]
      },
      {
       "output_type": "stream",
       "stream": "stdout",
       "text": [
        "  articles pickled\n",
        "83400"
       ]
      },
      {
       "output_type": "stream",
       "stream": "stdout",
       "text": [
        "  articles pickled\n",
        "83500"
       ]
      },
      {
       "output_type": "stream",
       "stream": "stdout",
       "text": [
        "  articles pickled\n",
        "83600"
       ]
      },
      {
       "output_type": "stream",
       "stream": "stdout",
       "text": [
        "  articles pickled\n",
        "83700"
       ]
      },
      {
       "output_type": "stream",
       "stream": "stdout",
       "text": [
        "  articles pickled\n",
        "83800"
       ]
      },
      {
       "output_type": "stream",
       "stream": "stdout",
       "text": [
        "  articles pickled\n",
        "83900"
       ]
      },
      {
       "output_type": "stream",
       "stream": "stdout",
       "text": [
        "  articles pickled\n",
        "84000"
       ]
      },
      {
       "output_type": "stream",
       "stream": "stdout",
       "text": [
        "  articles pickled\n",
        "84100"
       ]
      },
      {
       "output_type": "stream",
       "stream": "stdout",
       "text": [
        "  articles pickled\n",
        "84200"
       ]
      },
      {
       "output_type": "stream",
       "stream": "stdout",
       "text": [
        "  articles pickled\n",
        "84300"
       ]
      },
      {
       "output_type": "stream",
       "stream": "stdout",
       "text": [
        "  articles pickled\n",
        "84400"
       ]
      },
      {
       "output_type": "stream",
       "stream": "stdout",
       "text": [
        "  articles pickled\n",
        "84500"
       ]
      },
      {
       "output_type": "stream",
       "stream": "stdout",
       "text": [
        "  articles pickled\n",
        "84600"
       ]
      },
      {
       "output_type": "stream",
       "stream": "stdout",
       "text": [
        "  articles pickled\n",
        "84700"
       ]
      },
      {
       "output_type": "stream",
       "stream": "stdout",
       "text": [
        "  articles pickled\n",
        "84800"
       ]
      },
      {
       "output_type": "stream",
       "stream": "stdout",
       "text": [
        "  articles pickled\n",
        "84900"
       ]
      },
      {
       "output_type": "stream",
       "stream": "stdout",
       "text": [
        "  articles pickled\n",
        "85000"
       ]
      },
      {
       "output_type": "stream",
       "stream": "stdout",
       "text": [
        "  articles pickled\n",
        "85100"
       ]
      },
      {
       "output_type": "stream",
       "stream": "stdout",
       "text": [
        "  articles pickled\n",
        "85200"
       ]
      },
      {
       "output_type": "stream",
       "stream": "stdout",
       "text": [
        "  articles pickled\n",
        "85300"
       ]
      },
      {
       "output_type": "stream",
       "stream": "stdout",
       "text": [
        "  articles pickled\n",
        "85400"
       ]
      },
      {
       "output_type": "stream",
       "stream": "stdout",
       "text": [
        "  articles pickled\n",
        "85500"
       ]
      },
      {
       "output_type": "stream",
       "stream": "stdout",
       "text": [
        "  articles pickled\n",
        "85600"
       ]
      },
      {
       "output_type": "stream",
       "stream": "stdout",
       "text": [
        "  articles pickled\n",
        "85700"
       ]
      },
      {
       "output_type": "stream",
       "stream": "stdout",
       "text": [
        "  articles pickled\n",
        "85800"
       ]
      },
      {
       "output_type": "stream",
       "stream": "stdout",
       "text": [
        "  articles pickled\n",
        "85900"
       ]
      },
      {
       "output_type": "stream",
       "stream": "stdout",
       "text": [
        "  articles pickled\n",
        "86000"
       ]
      },
      {
       "output_type": "stream",
       "stream": "stdout",
       "text": [
        "  articles pickled\n",
        "86100"
       ]
      },
      {
       "output_type": "stream",
       "stream": "stdout",
       "text": [
        "  articles pickled\n",
        "86200"
       ]
      },
      {
       "output_type": "stream",
       "stream": "stdout",
       "text": [
        "  articles pickled\n",
        "86300"
       ]
      },
      {
       "output_type": "stream",
       "stream": "stdout",
       "text": [
        "  articles pickled\n",
        "86400"
       ]
      },
      {
       "output_type": "stream",
       "stream": "stdout",
       "text": [
        "  articles pickled\n",
        "86500"
       ]
      },
      {
       "output_type": "stream",
       "stream": "stdout",
       "text": [
        "  articles pickled\n",
        "86600"
       ]
      },
      {
       "output_type": "stream",
       "stream": "stdout",
       "text": [
        "  articles pickled\n",
        "86700"
       ]
      },
      {
       "output_type": "stream",
       "stream": "stdout",
       "text": [
        "  articles pickled\n",
        "86800"
       ]
      },
      {
       "output_type": "stream",
       "stream": "stdout",
       "text": [
        "  articles pickled\n",
        "86900"
       ]
      },
      {
       "output_type": "stream",
       "stream": "stdout",
       "text": [
        "  articles pickled\n",
        "87000"
       ]
      },
      {
       "output_type": "stream",
       "stream": "stdout",
       "text": [
        "  articles pickled\n",
        "87100"
       ]
      },
      {
       "output_type": "stream",
       "stream": "stdout",
       "text": [
        "  articles pickled\n",
        "87200"
       ]
      },
      {
       "output_type": "stream",
       "stream": "stdout",
       "text": [
        "  articles pickled\n",
        "87300"
       ]
      },
      {
       "output_type": "stream",
       "stream": "stdout",
       "text": [
        "  articles pickled\n",
        "87400"
       ]
      },
      {
       "output_type": "stream",
       "stream": "stdout",
       "text": [
        "  articles pickled\n",
        "87500"
       ]
      },
      {
       "output_type": "stream",
       "stream": "stdout",
       "text": [
        "  articles pickled\n",
        "87600"
       ]
      },
      {
       "output_type": "stream",
       "stream": "stdout",
       "text": [
        "  articles pickled\n",
        "87700"
       ]
      },
      {
       "output_type": "stream",
       "stream": "stdout",
       "text": [
        "  articles pickled\n",
        "87800"
       ]
      },
      {
       "output_type": "stream",
       "stream": "stdout",
       "text": [
        "  articles pickled\n",
        "87900"
       ]
      },
      {
       "output_type": "stream",
       "stream": "stdout",
       "text": [
        "  articles pickled\n",
        "88000"
       ]
      },
      {
       "output_type": "stream",
       "stream": "stdout",
       "text": [
        "  articles pickled\n",
        "88100"
       ]
      },
      {
       "output_type": "stream",
       "stream": "stdout",
       "text": [
        "  articles pickled\n",
        "88200"
       ]
      },
      {
       "output_type": "stream",
       "stream": "stdout",
       "text": [
        "  articles pickled\n",
        "88300"
       ]
      },
      {
       "output_type": "stream",
       "stream": "stdout",
       "text": [
        "  articles pickled\n",
        "88400"
       ]
      },
      {
       "output_type": "stream",
       "stream": "stdout",
       "text": [
        "  articles pickled\n",
        "88500"
       ]
      },
      {
       "output_type": "stream",
       "stream": "stdout",
       "text": [
        "  articles pickled\n",
        "88600"
       ]
      },
      {
       "output_type": "stream",
       "stream": "stdout",
       "text": [
        "  articles pickled\n",
        "88700"
       ]
      },
      {
       "output_type": "stream",
       "stream": "stdout",
       "text": [
        "  articles pickled\n",
        "88800"
       ]
      },
      {
       "output_type": "stream",
       "stream": "stdout",
       "text": [
        "  articles pickled\n",
        "88900"
       ]
      },
      {
       "output_type": "stream",
       "stream": "stdout",
       "text": [
        "  articles pickled\n",
        "89000"
       ]
      },
      {
       "output_type": "stream",
       "stream": "stdout",
       "text": [
        "  articles pickled\n",
        "89100"
       ]
      },
      {
       "output_type": "stream",
       "stream": "stdout",
       "text": [
        "  articles pickled\n",
        "89200"
       ]
      },
      {
       "output_type": "stream",
       "stream": "stdout",
       "text": [
        "  articles pickled\n",
        "89300"
       ]
      },
      {
       "output_type": "stream",
       "stream": "stdout",
       "text": [
        "  articles pickled\n",
        "89400"
       ]
      },
      {
       "output_type": "stream",
       "stream": "stdout",
       "text": [
        "  articles pickled\n",
        "89500"
       ]
      },
      {
       "output_type": "stream",
       "stream": "stdout",
       "text": [
        "  articles pickled\n",
        "89600"
       ]
      },
      {
       "output_type": "stream",
       "stream": "stdout",
       "text": [
        "  articles pickled\n",
        "89700"
       ]
      },
      {
       "output_type": "stream",
       "stream": "stdout",
       "text": [
        "  articles pickled\n",
        "89800"
       ]
      },
      {
       "output_type": "stream",
       "stream": "stdout",
       "text": [
        "  articles pickled\n",
        "89900"
       ]
      },
      {
       "output_type": "stream",
       "stream": "stdout",
       "text": [
        "  articles pickled\n",
        "90000"
       ]
      },
      {
       "output_type": "stream",
       "stream": "stdout",
       "text": [
        "  articles pickled\n",
        "90100"
       ]
      },
      {
       "output_type": "stream",
       "stream": "stdout",
       "text": [
        "  articles pickled\n",
        "90200"
       ]
      },
      {
       "output_type": "stream",
       "stream": "stdout",
       "text": [
        "  articles pickled\n",
        "90300"
       ]
      },
      {
       "output_type": "stream",
       "stream": "stdout",
       "text": [
        "  articles pickled\n",
        "90400"
       ]
      },
      {
       "output_type": "stream",
       "stream": "stdout",
       "text": [
        "  articles pickled\n",
        "90500"
       ]
      },
      {
       "output_type": "stream",
       "stream": "stdout",
       "text": [
        "  articles pickled\n",
        "90600"
       ]
      },
      {
       "output_type": "stream",
       "stream": "stdout",
       "text": [
        "  articles pickled\n",
        "90700"
       ]
      },
      {
       "output_type": "stream",
       "stream": "stdout",
       "text": [
        "  articles pickled\n",
        "90800"
       ]
      },
      {
       "output_type": "stream",
       "stream": "stdout",
       "text": [
        "  articles pickled\n",
        "90900"
       ]
      },
      {
       "output_type": "stream",
       "stream": "stdout",
       "text": [
        "  articles pickled\n",
        "91000"
       ]
      },
      {
       "output_type": "stream",
       "stream": "stdout",
       "text": [
        "  articles pickled\n",
        "91100"
       ]
      },
      {
       "output_type": "stream",
       "stream": "stdout",
       "text": [
        "  articles pickled\n",
        "91200"
       ]
      },
      {
       "output_type": "stream",
       "stream": "stdout",
       "text": [
        "  articles pickled\n",
        "91300"
       ]
      },
      {
       "output_type": "stream",
       "stream": "stdout",
       "text": [
        "  articles pickled\n",
        "91400"
       ]
      },
      {
       "output_type": "stream",
       "stream": "stdout",
       "text": [
        "  articles pickled\n",
        "91500"
       ]
      },
      {
       "output_type": "stream",
       "stream": "stdout",
       "text": [
        "  articles pickled\n",
        "91600"
       ]
      },
      {
       "output_type": "stream",
       "stream": "stdout",
       "text": [
        "  articles pickled\n",
        "91700"
       ]
      },
      {
       "output_type": "stream",
       "stream": "stdout",
       "text": [
        "  articles pickled\n",
        "91800"
       ]
      },
      {
       "output_type": "stream",
       "stream": "stdout",
       "text": [
        "  articles pickled\n",
        "91900"
       ]
      },
      {
       "output_type": "stream",
       "stream": "stdout",
       "text": [
        "  articles pickled\n",
        "92000"
       ]
      },
      {
       "output_type": "stream",
       "stream": "stdout",
       "text": [
        "  articles pickled\n",
        "92100"
       ]
      },
      {
       "output_type": "stream",
       "stream": "stdout",
       "text": [
        "  articles pickled\n",
        "92200"
       ]
      },
      {
       "output_type": "stream",
       "stream": "stdout",
       "text": [
        "  articles pickled\n",
        "92300"
       ]
      },
      {
       "output_type": "stream",
       "stream": "stdout",
       "text": [
        "  articles pickled\n",
        "92400"
       ]
      },
      {
       "output_type": "stream",
       "stream": "stdout",
       "text": [
        "  articles pickled\n",
        "92500"
       ]
      },
      {
       "output_type": "stream",
       "stream": "stdout",
       "text": [
        "  articles pickled\n",
        "92600"
       ]
      },
      {
       "output_type": "stream",
       "stream": "stdout",
       "text": [
        "  articles pickled\n",
        "92700"
       ]
      },
      {
       "output_type": "stream",
       "stream": "stdout",
       "text": [
        "  articles pickled\n",
        "92800"
       ]
      },
      {
       "output_type": "stream",
       "stream": "stdout",
       "text": [
        "  articles pickled\n",
        "92900"
       ]
      },
      {
       "output_type": "stream",
       "stream": "stdout",
       "text": [
        "  articles pickled\n",
        "93000"
       ]
      },
      {
       "output_type": "stream",
       "stream": "stdout",
       "text": [
        "  articles pickled\n",
        "93100"
       ]
      },
      {
       "output_type": "stream",
       "stream": "stdout",
       "text": [
        "  articles pickled\n",
        "93200"
       ]
      },
      {
       "output_type": "stream",
       "stream": "stdout",
       "text": [
        "  articles pickled\n",
        "93300"
       ]
      },
      {
       "output_type": "stream",
       "stream": "stdout",
       "text": [
        "  articles pickled\n",
        "93400"
       ]
      },
      {
       "output_type": "stream",
       "stream": "stdout",
       "text": [
        "  articles pickled\n",
        "93500"
       ]
      },
      {
       "output_type": "stream",
       "stream": "stdout",
       "text": [
        "  articles pickled\n",
        "93600"
       ]
      },
      {
       "output_type": "stream",
       "stream": "stdout",
       "text": [
        "  articles pickled\n",
        "93700"
       ]
      },
      {
       "output_type": "stream",
       "stream": "stdout",
       "text": [
        "  articles pickled\n",
        "93800"
       ]
      },
      {
       "output_type": "stream",
       "stream": "stdout",
       "text": [
        "  articles pickled\n",
        "93900"
       ]
      },
      {
       "output_type": "stream",
       "stream": "stdout",
       "text": [
        "  articles pickled\n",
        "94000"
       ]
      },
      {
       "output_type": "stream",
       "stream": "stdout",
       "text": [
        "  articles pickled\n",
        "94100"
       ]
      },
      {
       "output_type": "stream",
       "stream": "stdout",
       "text": [
        "  articles pickled\n",
        "94200"
       ]
      },
      {
       "output_type": "stream",
       "stream": "stdout",
       "text": [
        "  articles pickled\n",
        "94300"
       ]
      },
      {
       "output_type": "stream",
       "stream": "stdout",
       "text": [
        "  articles pickled\n",
        "94400"
       ]
      },
      {
       "output_type": "stream",
       "stream": "stdout",
       "text": [
        "  articles pickled\n",
        "94500"
       ]
      },
      {
       "output_type": "stream",
       "stream": "stdout",
       "text": [
        "  articles pickled\n",
        "94600"
       ]
      },
      {
       "output_type": "stream",
       "stream": "stdout",
       "text": [
        "  articles pickled\n",
        "94700"
       ]
      },
      {
       "output_type": "stream",
       "stream": "stdout",
       "text": [
        "  articles pickled\n",
        "94800"
       ]
      },
      {
       "output_type": "stream",
       "stream": "stdout",
       "text": [
        "  articles pickled\n",
        "94900"
       ]
      },
      {
       "output_type": "stream",
       "stream": "stdout",
       "text": [
        "  articles pickled\n",
        "95000"
       ]
      },
      {
       "output_type": "stream",
       "stream": "stdout",
       "text": [
        "  articles pickled\n",
        "95100"
       ]
      },
      {
       "output_type": "stream",
       "stream": "stdout",
       "text": [
        "  articles pickled\n",
        "95200"
       ]
      },
      {
       "output_type": "stream",
       "stream": "stdout",
       "text": [
        "  articles pickled\n",
        "95300"
       ]
      },
      {
       "output_type": "stream",
       "stream": "stdout",
       "text": [
        "  articles pickled\n",
        "95400"
       ]
      },
      {
       "output_type": "stream",
       "stream": "stdout",
       "text": [
        "  articles pickled\n",
        "95500"
       ]
      },
      {
       "output_type": "stream",
       "stream": "stdout",
       "text": [
        "  articles pickled\n",
        "95600"
       ]
      },
      {
       "output_type": "stream",
       "stream": "stdout",
       "text": [
        "  articles pickled\n",
        "95700"
       ]
      },
      {
       "output_type": "stream",
       "stream": "stdout",
       "text": [
        "  articles pickled\n",
        "95800"
       ]
      },
      {
       "output_type": "stream",
       "stream": "stdout",
       "text": [
        "  articles pickled\n",
        "95900"
       ]
      },
      {
       "output_type": "stream",
       "stream": "stdout",
       "text": [
        "  articles pickled\n",
        "96000"
       ]
      },
      {
       "output_type": "stream",
       "stream": "stdout",
       "text": [
        "  articles pickled\n",
        "96100"
       ]
      },
      {
       "output_type": "stream",
       "stream": "stdout",
       "text": [
        "  articles pickled\n",
        "96200"
       ]
      },
      {
       "output_type": "stream",
       "stream": "stdout",
       "text": [
        "  articles pickled\n",
        "96300"
       ]
      },
      {
       "output_type": "stream",
       "stream": "stdout",
       "text": [
        "  articles pickled\n",
        "96400"
       ]
      },
      {
       "output_type": "stream",
       "stream": "stdout",
       "text": [
        "  articles pickled\n",
        "96500"
       ]
      },
      {
       "output_type": "stream",
       "stream": "stdout",
       "text": [
        "  articles pickled\n",
        "96600"
       ]
      },
      {
       "output_type": "stream",
       "stream": "stdout",
       "text": [
        "  articles pickled\n",
        "96700"
       ]
      },
      {
       "output_type": "stream",
       "stream": "stdout",
       "text": [
        "  articles pickled\n",
        "96800"
       ]
      },
      {
       "output_type": "stream",
       "stream": "stdout",
       "text": [
        "  articles pickled\n",
        "96900"
       ]
      },
      {
       "output_type": "stream",
       "stream": "stdout",
       "text": [
        "  articles pickled\n",
        "97000"
       ]
      },
      {
       "output_type": "stream",
       "stream": "stdout",
       "text": [
        "  articles pickled\n",
        "97100"
       ]
      },
      {
       "output_type": "stream",
       "stream": "stdout",
       "text": [
        "  articles pickled\n",
        "97200"
       ]
      },
      {
       "output_type": "stream",
       "stream": "stdout",
       "text": [
        "  articles pickled\n",
        "97300"
       ]
      },
      {
       "output_type": "stream",
       "stream": "stdout",
       "text": [
        "  articles pickled\n",
        "97400"
       ]
      },
      {
       "output_type": "stream",
       "stream": "stdout",
       "text": [
        "  articles pickled\n",
        "97500"
       ]
      },
      {
       "output_type": "stream",
       "stream": "stdout",
       "text": [
        "  articles pickled\n",
        "97600"
       ]
      },
      {
       "output_type": "stream",
       "stream": "stdout",
       "text": [
        "  articles pickled\n",
        "97700"
       ]
      },
      {
       "output_type": "stream",
       "stream": "stdout",
       "text": [
        "  articles pickled\n",
        "97800"
       ]
      },
      {
       "output_type": "stream",
       "stream": "stdout",
       "text": [
        "  articles pickled\n",
        "97900"
       ]
      },
      {
       "output_type": "stream",
       "stream": "stdout",
       "text": [
        "  articles pickled\n",
        "98000"
       ]
      },
      {
       "output_type": "stream",
       "stream": "stdout",
       "text": [
        "  articles pickled\n",
        "98100"
       ]
      },
      {
       "output_type": "stream",
       "stream": "stdout",
       "text": [
        "  articles pickled\n",
        "98200"
       ]
      },
      {
       "output_type": "stream",
       "stream": "stdout",
       "text": [
        "  articles pickled\n",
        "98300"
       ]
      },
      {
       "output_type": "stream",
       "stream": "stdout",
       "text": [
        "  articles pickled\n",
        "98400"
       ]
      },
      {
       "output_type": "stream",
       "stream": "stdout",
       "text": [
        "  articles pickled\n",
        "98500"
       ]
      },
      {
       "output_type": "stream",
       "stream": "stdout",
       "text": [
        "  articles pickled\n",
        "98600"
       ]
      },
      {
       "output_type": "stream",
       "stream": "stdout",
       "text": [
        "  articles pickled\n",
        "98700"
       ]
      },
      {
       "output_type": "stream",
       "stream": "stdout",
       "text": [
        "  articles pickled\n",
        "98800"
       ]
      },
      {
       "output_type": "stream",
       "stream": "stdout",
       "text": [
        "  articles pickled\n",
        "98900"
       ]
      },
      {
       "output_type": "stream",
       "stream": "stdout",
       "text": [
        "  articles pickled\n",
        "99000"
       ]
      },
      {
       "output_type": "stream",
       "stream": "stdout",
       "text": [
        "  articles pickled\n",
        "99100"
       ]
      },
      {
       "output_type": "stream",
       "stream": "stdout",
       "text": [
        "  articles pickled\n",
        "99200"
       ]
      },
      {
       "output_type": "stream",
       "stream": "stdout",
       "text": [
        "  articles pickled\n",
        "99300"
       ]
      },
      {
       "output_type": "stream",
       "stream": "stdout",
       "text": [
        "  articles pickled\n",
        "99400"
       ]
      },
      {
       "output_type": "stream",
       "stream": "stdout",
       "text": [
        "  articles pickled\n",
        "99500"
       ]
      },
      {
       "output_type": "stream",
       "stream": "stdout",
       "text": [
        "  articles pickled\n",
        "99600"
       ]
      },
      {
       "output_type": "stream",
       "stream": "stdout",
       "text": [
        "  articles pickled\n",
        "99700"
       ]
      },
      {
       "output_type": "stream",
       "stream": "stdout",
       "text": [
        "  articles pickled\n",
        "99800"
       ]
      },
      {
       "output_type": "stream",
       "stream": "stdout",
       "text": [
        "  articles pickled\n",
        "99900"
       ]
      },
      {
       "output_type": "stream",
       "stream": "stdout",
       "text": [
        "  articles pickled\n",
        "100000"
       ]
      },
      {
       "output_type": "stream",
       "stream": "stdout",
       "text": [
        "  articles pickled\n",
        "100100"
       ]
      },
      {
       "output_type": "stream",
       "stream": "stdout",
       "text": [
        "  articles pickled\n",
        "100200"
       ]
      },
      {
       "output_type": "stream",
       "stream": "stdout",
       "text": [
        "  articles pickled\n",
        "100300"
       ]
      },
      {
       "output_type": "stream",
       "stream": "stdout",
       "text": [
        "  articles pickled\n",
        "100400"
       ]
      },
      {
       "output_type": "stream",
       "stream": "stdout",
       "text": [
        "  articles pickled\n",
        "100500"
       ]
      },
      {
       "output_type": "stream",
       "stream": "stdout",
       "text": [
        "  articles pickled\n",
        "100600"
       ]
      },
      {
       "output_type": "stream",
       "stream": "stdout",
       "text": [
        "  articles pickled\n",
        "100700"
       ]
      },
      {
       "output_type": "stream",
       "stream": "stdout",
       "text": [
        "  articles pickled\n",
        "100800"
       ]
      },
      {
       "output_type": "stream",
       "stream": "stdout",
       "text": [
        "  articles pickled\n",
        "100900"
       ]
      },
      {
       "output_type": "stream",
       "stream": "stdout",
       "text": [
        "  articles pickled\n",
        "101000"
       ]
      },
      {
       "output_type": "stream",
       "stream": "stdout",
       "text": [
        "  articles pickled\n",
        "101100"
       ]
      },
      {
       "output_type": "stream",
       "stream": "stdout",
       "text": [
        "  articles pickled\n",
        "101200"
       ]
      },
      {
       "output_type": "stream",
       "stream": "stdout",
       "text": [
        "  articles pickled\n",
        "101300"
       ]
      },
      {
       "output_type": "stream",
       "stream": "stdout",
       "text": [
        "  articles pickled\n",
        "101400"
       ]
      },
      {
       "output_type": "stream",
       "stream": "stdout",
       "text": [
        "  articles pickled\n",
        "101500"
       ]
      },
      {
       "output_type": "stream",
       "stream": "stdout",
       "text": [
        "  articles pickled\n",
        "101600"
       ]
      },
      {
       "output_type": "stream",
       "stream": "stdout",
       "text": [
        "  articles pickled\n",
        "101700"
       ]
      },
      {
       "output_type": "stream",
       "stream": "stdout",
       "text": [
        "  articles pickled\n",
        "101800"
       ]
      },
      {
       "output_type": "stream",
       "stream": "stdout",
       "text": [
        "  articles pickled\n",
        "101900"
       ]
      },
      {
       "output_type": "stream",
       "stream": "stdout",
       "text": [
        "  articles pickled\n",
        "102000"
       ]
      },
      {
       "output_type": "stream",
       "stream": "stdout",
       "text": [
        "  articles pickled\n",
        "102100"
       ]
      },
      {
       "output_type": "stream",
       "stream": "stdout",
       "text": [
        "  articles pickled\n",
        "102200"
       ]
      },
      {
       "output_type": "stream",
       "stream": "stdout",
       "text": [
        "  articles pickled\n",
        "102300"
       ]
      },
      {
       "output_type": "stream",
       "stream": "stdout",
       "text": [
        "  articles pickled\n",
        "102400"
       ]
      },
      {
       "output_type": "stream",
       "stream": "stdout",
       "text": [
        "  articles pickled\n",
        "102500"
       ]
      },
      {
       "output_type": "stream",
       "stream": "stdout",
       "text": [
        "  articles pickled\n",
        "102600"
       ]
      },
      {
       "output_type": "stream",
       "stream": "stdout",
       "text": [
        "  articles pickled\n",
        "102700"
       ]
      },
      {
       "output_type": "stream",
       "stream": "stdout",
       "text": [
        "  articles pickled\n",
        "102800"
       ]
      },
      {
       "output_type": "stream",
       "stream": "stdout",
       "text": [
        "  articles pickled\n",
        "102900"
       ]
      },
      {
       "output_type": "stream",
       "stream": "stdout",
       "text": [
        "  articles pickled\n",
        "103000"
       ]
      },
      {
       "output_type": "stream",
       "stream": "stdout",
       "text": [
        "  articles pickled\n",
        "103100"
       ]
      },
      {
       "output_type": "stream",
       "stream": "stdout",
       "text": [
        "  articles pickled\n",
        "103200"
       ]
      },
      {
       "output_type": "stream",
       "stream": "stdout",
       "text": [
        "  articles pickled\n",
        "103300"
       ]
      },
      {
       "output_type": "stream",
       "stream": "stdout",
       "text": [
        "  articles pickled\n",
        "103400"
       ]
      },
      {
       "output_type": "stream",
       "stream": "stdout",
       "text": [
        "  articles pickled\n",
        "103500"
       ]
      },
      {
       "output_type": "stream",
       "stream": "stdout",
       "text": [
        "  articles pickled\n",
        "103600"
       ]
      },
      {
       "output_type": "stream",
       "stream": "stdout",
       "text": [
        "  articles pickled\n",
        "103700"
       ]
      },
      {
       "output_type": "stream",
       "stream": "stdout",
       "text": [
        "  articles pickled\n",
        "103800"
       ]
      },
      {
       "output_type": "stream",
       "stream": "stdout",
       "text": [
        "  articles pickled\n",
        "103900"
       ]
      },
      {
       "output_type": "stream",
       "stream": "stdout",
       "text": [
        "  articles pickled\n",
        "104000"
       ]
      },
      {
       "output_type": "stream",
       "stream": "stdout",
       "text": [
        "  articles pickled\n",
        "104100"
       ]
      },
      {
       "output_type": "stream",
       "stream": "stdout",
       "text": [
        "  articles pickled\n",
        "104200"
       ]
      },
      {
       "output_type": "stream",
       "stream": "stdout",
       "text": [
        "  articles pickled\n",
        "104300"
       ]
      },
      {
       "output_type": "stream",
       "stream": "stdout",
       "text": [
        "  articles pickled\n",
        "104400"
       ]
      },
      {
       "output_type": "stream",
       "stream": "stdout",
       "text": [
        "  articles pickled\n",
        "104500"
       ]
      },
      {
       "output_type": "stream",
       "stream": "stdout",
       "text": [
        "  articles pickled\n",
        "104600"
       ]
      },
      {
       "output_type": "stream",
       "stream": "stdout",
       "text": [
        "  articles pickled\n",
        "104700"
       ]
      },
      {
       "output_type": "stream",
       "stream": "stdout",
       "text": [
        "  articles pickled\n",
        "104800"
       ]
      },
      {
       "output_type": "stream",
       "stream": "stdout",
       "text": [
        "  articles pickled\n",
        "104900"
       ]
      },
      {
       "output_type": "stream",
       "stream": "stdout",
       "text": [
        "  articles pickled\n",
        "105000"
       ]
      },
      {
       "output_type": "stream",
       "stream": "stdout",
       "text": [
        "  articles pickled\n",
        "105100"
       ]
      },
      {
       "output_type": "stream",
       "stream": "stdout",
       "text": [
        "  articles pickled\n",
        "105200"
       ]
      },
      {
       "output_type": "stream",
       "stream": "stdout",
       "text": [
        "  articles pickled\n",
        "105300"
       ]
      },
      {
       "output_type": "stream",
       "stream": "stdout",
       "text": [
        "  articles pickled\n",
        "105400"
       ]
      },
      {
       "output_type": "stream",
       "stream": "stdout",
       "text": [
        "  articles pickled\n",
        "105500"
       ]
      },
      {
       "output_type": "stream",
       "stream": "stdout",
       "text": [
        "  articles pickled\n",
        "105600"
       ]
      },
      {
       "output_type": "stream",
       "stream": "stdout",
       "text": [
        "  articles pickled\n",
        "105700"
       ]
      },
      {
       "output_type": "stream",
       "stream": "stdout",
       "text": [
        "  articles pickled\n",
        "105800"
       ]
      },
      {
       "output_type": "stream",
       "stream": "stdout",
       "text": [
        "  articles pickled\n",
        "105900"
       ]
      },
      {
       "output_type": "stream",
       "stream": "stdout",
       "text": [
        "  articles pickled\n",
        "106000"
       ]
      },
      {
       "output_type": "stream",
       "stream": "stdout",
       "text": [
        "  articles pickled\n",
        "106100"
       ]
      },
      {
       "output_type": "stream",
       "stream": "stdout",
       "text": [
        "  articles pickled\n",
        "106200"
       ]
      },
      {
       "output_type": "stream",
       "stream": "stdout",
       "text": [
        "  articles pickled\n",
        "106300"
       ]
      },
      {
       "output_type": "stream",
       "stream": "stdout",
       "text": [
        "  articles pickled\n",
        "106400"
       ]
      },
      {
       "output_type": "stream",
       "stream": "stdout",
       "text": [
        "  articles pickled\n",
        "106500"
       ]
      },
      {
       "output_type": "stream",
       "stream": "stdout",
       "text": [
        "  articles pickled\n",
        "106600"
       ]
      },
      {
       "output_type": "stream",
       "stream": "stdout",
       "text": [
        "  articles pickled\n",
        "106700"
       ]
      },
      {
       "output_type": "stream",
       "stream": "stdout",
       "text": [
        "  articles pickled\n",
        "106800"
       ]
      },
      {
       "output_type": "stream",
       "stream": "stdout",
       "text": [
        "  articles pickled\n",
        "106900"
       ]
      },
      {
       "output_type": "stream",
       "stream": "stdout",
       "text": [
        "  articles pickled\n",
        "107000"
       ]
      },
      {
       "output_type": "stream",
       "stream": "stdout",
       "text": [
        "  articles pickled\n",
        "107100"
       ]
      },
      {
       "output_type": "stream",
       "stream": "stdout",
       "text": [
        "  articles pickled\n",
        "107200"
       ]
      },
      {
       "output_type": "stream",
       "stream": "stdout",
       "text": [
        "  articles pickled\n",
        "107300"
       ]
      },
      {
       "output_type": "stream",
       "stream": "stdout",
       "text": [
        "  articles pickled\n",
        "107400"
       ]
      },
      {
       "output_type": "stream",
       "stream": "stdout",
       "text": [
        "  articles pickled\n",
        "107500"
       ]
      },
      {
       "output_type": "stream",
       "stream": "stdout",
       "text": [
        "  articles pickled\n",
        "107600"
       ]
      },
      {
       "output_type": "stream",
       "stream": "stdout",
       "text": [
        "  articles pickled\n",
        "107700"
       ]
      },
      {
       "output_type": "stream",
       "stream": "stdout",
       "text": [
        "  articles pickled\n",
        "107800"
       ]
      },
      {
       "output_type": "stream",
       "stream": "stdout",
       "text": [
        "  articles pickled\n",
        "107900"
       ]
      },
      {
       "output_type": "stream",
       "stream": "stdout",
       "text": [
        "  articles pickled\n",
        "108000"
       ]
      },
      {
       "output_type": "stream",
       "stream": "stdout",
       "text": [
        "  articles pickled\n",
        "108100"
       ]
      },
      {
       "output_type": "stream",
       "stream": "stdout",
       "text": [
        "  articles pickled\n",
        "108200"
       ]
      },
      {
       "output_type": "stream",
       "stream": "stdout",
       "text": [
        "  articles pickled\n",
        "108300"
       ]
      },
      {
       "output_type": "stream",
       "stream": "stdout",
       "text": [
        "  articles pickled\n",
        "108400"
       ]
      },
      {
       "output_type": "stream",
       "stream": "stdout",
       "text": [
        "  articles pickled\n",
        "108500"
       ]
      },
      {
       "output_type": "stream",
       "stream": "stdout",
       "text": [
        "  articles pickled\n",
        "108600"
       ]
      },
      {
       "output_type": "stream",
       "stream": "stdout",
       "text": [
        "  articles pickled\n",
        "108700"
       ]
      },
      {
       "output_type": "stream",
       "stream": "stdout",
       "text": [
        "  articles pickled\n",
        "108800"
       ]
      },
      {
       "output_type": "stream",
       "stream": "stdout",
       "text": [
        "  articles pickled\n",
        "108900"
       ]
      },
      {
       "output_type": "stream",
       "stream": "stdout",
       "text": [
        "  articles pickled\n",
        "109000"
       ]
      },
      {
       "output_type": "stream",
       "stream": "stdout",
       "text": [
        "  articles pickled\n",
        "109100"
       ]
      },
      {
       "output_type": "stream",
       "stream": "stdout",
       "text": [
        "  articles pickled\n",
        "109200"
       ]
      },
      {
       "output_type": "stream",
       "stream": "stdout",
       "text": [
        "  articles pickled\n",
        "109300"
       ]
      },
      {
       "output_type": "stream",
       "stream": "stdout",
       "text": [
        "  articles pickled\n",
        "109400"
       ]
      },
      {
       "output_type": "stream",
       "stream": "stdout",
       "text": [
        "  articles pickled\n",
        "109500"
       ]
      },
      {
       "output_type": "stream",
       "stream": "stdout",
       "text": [
        "  articles pickled\n",
        "109600"
       ]
      },
      {
       "output_type": "stream",
       "stream": "stdout",
       "text": [
        "  articles pickled\n",
        "109700"
       ]
      },
      {
       "output_type": "stream",
       "stream": "stdout",
       "text": [
        "  articles pickled\n",
        "109800"
       ]
      },
      {
       "output_type": "stream",
       "stream": "stdout",
       "text": [
        "  articles pickled\n",
        "109900"
       ]
      },
      {
       "output_type": "stream",
       "stream": "stdout",
       "text": [
        "  articles pickled\n",
        "110000"
       ]
      },
      {
       "output_type": "stream",
       "stream": "stdout",
       "text": [
        "  articles pickled\n",
        "110100"
       ]
      },
      {
       "output_type": "stream",
       "stream": "stdout",
       "text": [
        "  articles pickled\n",
        "110200"
       ]
      },
      {
       "output_type": "stream",
       "stream": "stdout",
       "text": [
        "  articles pickled\n",
        "110300"
       ]
      },
      {
       "output_type": "stream",
       "stream": "stdout",
       "text": [
        "  articles pickled\n",
        "110400"
       ]
      },
      {
       "output_type": "stream",
       "stream": "stdout",
       "text": [
        "  articles pickled\n",
        "110500"
       ]
      },
      {
       "output_type": "stream",
       "stream": "stdout",
       "text": [
        "  articles pickled\n",
        "110600"
       ]
      },
      {
       "output_type": "stream",
       "stream": "stdout",
       "text": [
        "  articles pickled\n",
        "110700"
       ]
      },
      {
       "output_type": "stream",
       "stream": "stdout",
       "text": [
        "  articles pickled\n",
        "110800"
       ]
      },
      {
       "output_type": "stream",
       "stream": "stdout",
       "text": [
        "  articles pickled\n",
        "110900"
       ]
      },
      {
       "output_type": "stream",
       "stream": "stdout",
       "text": [
        "  articles pickled\n",
        "111000"
       ]
      },
      {
       "output_type": "stream",
       "stream": "stdout",
       "text": [
        "  articles pickled\n",
        "111100"
       ]
      },
      {
       "output_type": "stream",
       "stream": "stdout",
       "text": [
        "  articles pickled\n",
        "111200"
       ]
      },
      {
       "output_type": "stream",
       "stream": "stdout",
       "text": [
        "  articles pickled\n",
        "111300"
       ]
      },
      {
       "output_type": "stream",
       "stream": "stdout",
       "text": [
        "  articles pickled\n",
        "111400"
       ]
      },
      {
       "output_type": "stream",
       "stream": "stdout",
       "text": [
        "  articles pickled\n",
        "111500"
       ]
      },
      {
       "output_type": "stream",
       "stream": "stdout",
       "text": [
        "  articles pickled\n",
        "111600"
       ]
      },
      {
       "output_type": "stream",
       "stream": "stdout",
       "text": [
        "  articles pickled\n",
        "111700"
       ]
      },
      {
       "output_type": "stream",
       "stream": "stdout",
       "text": [
        "  articles pickled\n",
        "111800"
       ]
      },
      {
       "output_type": "stream",
       "stream": "stdout",
       "text": [
        "  articles pickled\n",
        "111900"
       ]
      },
      {
       "output_type": "stream",
       "stream": "stdout",
       "text": [
        "  articles pickled\n",
        "112000"
       ]
      },
      {
       "output_type": "stream",
       "stream": "stdout",
       "text": [
        "  articles pickled\n",
        "112100"
       ]
      },
      {
       "output_type": "stream",
       "stream": "stdout",
       "text": [
        "  articles pickled\n",
        "112200"
       ]
      },
      {
       "output_type": "stream",
       "stream": "stdout",
       "text": [
        "  articles pickled\n",
        "112300"
       ]
      },
      {
       "output_type": "stream",
       "stream": "stdout",
       "text": [
        "  articles pickled\n",
        "112400"
       ]
      },
      {
       "output_type": "stream",
       "stream": "stdout",
       "text": [
        "  articles pickled\n",
        "112500"
       ]
      },
      {
       "output_type": "stream",
       "stream": "stdout",
       "text": [
        "  articles pickled\n",
        "112600"
       ]
      },
      {
       "output_type": "stream",
       "stream": "stdout",
       "text": [
        "  articles pickled\n",
        "112700"
       ]
      },
      {
       "output_type": "stream",
       "stream": "stdout",
       "text": [
        "  articles pickled\n",
        "112800"
       ]
      },
      {
       "output_type": "stream",
       "stream": "stdout",
       "text": [
        "  articles pickled\n",
        "112900"
       ]
      },
      {
       "output_type": "stream",
       "stream": "stdout",
       "text": [
        "  articles pickled\n",
        "113000"
       ]
      },
      {
       "output_type": "stream",
       "stream": "stdout",
       "text": [
        "  articles pickled\n",
        "113100"
       ]
      },
      {
       "output_type": "stream",
       "stream": "stdout",
       "text": [
        "  articles pickled\n",
        "113200"
       ]
      },
      {
       "output_type": "stream",
       "stream": "stdout",
       "text": [
        "  articles pickled\n",
        "113300"
       ]
      },
      {
       "output_type": "stream",
       "stream": "stdout",
       "text": [
        "  articles pickled\n",
        "113400"
       ]
      },
      {
       "output_type": "stream",
       "stream": "stdout",
       "text": [
        "  articles pickled\n",
        "113500"
       ]
      },
      {
       "output_type": "stream",
       "stream": "stdout",
       "text": [
        "  articles pickled\n",
        "113600"
       ]
      },
      {
       "output_type": "stream",
       "stream": "stdout",
       "text": [
        "  articles pickled\n",
        "113700"
       ]
      },
      {
       "output_type": "stream",
       "stream": "stdout",
       "text": [
        "  articles pickled\n",
        "113800"
       ]
      },
      {
       "output_type": "stream",
       "stream": "stdout",
       "text": [
        "  articles pickled\n",
        "113900"
       ]
      },
      {
       "output_type": "stream",
       "stream": "stdout",
       "text": [
        "  articles pickled\n",
        "114000"
       ]
      },
      {
       "output_type": "stream",
       "stream": "stdout",
       "text": [
        "  articles pickled\n",
        "114100"
       ]
      },
      {
       "output_type": "stream",
       "stream": "stdout",
       "text": [
        "  articles pickled\n",
        "114200"
       ]
      },
      {
       "output_type": "stream",
       "stream": "stdout",
       "text": [
        "  articles pickled\n",
        "114300"
       ]
      },
      {
       "output_type": "stream",
       "stream": "stdout",
       "text": [
        "  articles pickled\n",
        "114400"
       ]
      },
      {
       "output_type": "stream",
       "stream": "stdout",
       "text": [
        "  articles pickled\n",
        "114500"
       ]
      },
      {
       "output_type": "stream",
       "stream": "stdout",
       "text": [
        "  articles pickled\n",
        "114600"
       ]
      },
      {
       "output_type": "stream",
       "stream": "stdout",
       "text": [
        "  articles pickled\n",
        "114700"
       ]
      },
      {
       "output_type": "stream",
       "stream": "stdout",
       "text": [
        "  articles pickled\n",
        "114800"
       ]
      },
      {
       "output_type": "stream",
       "stream": "stdout",
       "text": [
        "  articles pickled\n",
        "114900"
       ]
      },
      {
       "output_type": "stream",
       "stream": "stdout",
       "text": [
        "  articles pickled\n",
        "115000"
       ]
      },
      {
       "output_type": "stream",
       "stream": "stdout",
       "text": [
        "  articles pickled\n",
        "115100"
       ]
      },
      {
       "output_type": "stream",
       "stream": "stdout",
       "text": [
        "  articles pickled\n",
        "115200"
       ]
      },
      {
       "output_type": "stream",
       "stream": "stdout",
       "text": [
        "  articles pickled\n",
        "115300"
       ]
      },
      {
       "output_type": "stream",
       "stream": "stdout",
       "text": [
        "  articles pickled\n",
        "115400"
       ]
      },
      {
       "output_type": "stream",
       "stream": "stdout",
       "text": [
        "  articles pickled\n",
        "115500"
       ]
      },
      {
       "output_type": "stream",
       "stream": "stdout",
       "text": [
        "  articles pickled\n",
        "115600"
       ]
      },
      {
       "output_type": "stream",
       "stream": "stdout",
       "text": [
        "  articles pickled\n",
        "115700"
       ]
      },
      {
       "output_type": "stream",
       "stream": "stdout",
       "text": [
        "  articles pickled\n",
        "115800"
       ]
      },
      {
       "output_type": "stream",
       "stream": "stdout",
       "text": [
        "  articles pickled\n",
        "115900"
       ]
      },
      {
       "output_type": "stream",
       "stream": "stdout",
       "text": [
        "  articles pickled\n",
        "116000"
       ]
      },
      {
       "output_type": "stream",
       "stream": "stdout",
       "text": [
        "  articles pickled\n",
        "116100"
       ]
      },
      {
       "output_type": "stream",
       "stream": "stdout",
       "text": [
        "  articles pickled\n",
        "116200"
       ]
      },
      {
       "output_type": "stream",
       "stream": "stdout",
       "text": [
        "  articles pickled\n",
        "116300"
       ]
      },
      {
       "output_type": "stream",
       "stream": "stdout",
       "text": [
        "  articles pickled\n",
        "116400"
       ]
      },
      {
       "output_type": "stream",
       "stream": "stdout",
       "text": [
        "  articles pickled\n",
        "116500"
       ]
      },
      {
       "output_type": "stream",
       "stream": "stdout",
       "text": [
        "  articles pickled\n",
        "116600"
       ]
      },
      {
       "output_type": "stream",
       "stream": "stdout",
       "text": [
        "  articles pickled\n",
        "116700"
       ]
      },
      {
       "output_type": "stream",
       "stream": "stdout",
       "text": [
        "  articles pickled\n",
        "116800"
       ]
      },
      {
       "output_type": "stream",
       "stream": "stdout",
       "text": [
        "  articles pickled\n",
        "116900"
       ]
      },
      {
       "output_type": "stream",
       "stream": "stdout",
       "text": [
        "  articles pickled\n",
        "117000"
       ]
      },
      {
       "output_type": "stream",
       "stream": "stdout",
       "text": [
        "  articles pickled\n",
        "117100"
       ]
      },
      {
       "output_type": "stream",
       "stream": "stdout",
       "text": [
        "  articles pickled\n",
        "117200"
       ]
      },
      {
       "output_type": "stream",
       "stream": "stdout",
       "text": [
        "  articles pickled\n",
        "117300"
       ]
      },
      {
       "output_type": "stream",
       "stream": "stdout",
       "text": [
        "  articles pickled\n",
        "117400"
       ]
      },
      {
       "output_type": "stream",
       "stream": "stdout",
       "text": [
        "  articles pickled\n",
        "117500"
       ]
      },
      {
       "output_type": "stream",
       "stream": "stdout",
       "text": [
        "  articles pickled\n",
        "117600"
       ]
      },
      {
       "output_type": "stream",
       "stream": "stdout",
       "text": [
        "  articles pickled\n",
        "117700"
       ]
      },
      {
       "output_type": "stream",
       "stream": "stdout",
       "text": [
        "  articles pickled\n",
        "117800"
       ]
      },
      {
       "output_type": "stream",
       "stream": "stdout",
       "text": [
        "  articles pickled\n",
        "117900"
       ]
      },
      {
       "output_type": "stream",
       "stream": "stdout",
       "text": [
        "  articles pickled\n",
        "118000"
       ]
      },
      {
       "output_type": "stream",
       "stream": "stdout",
       "text": [
        "  articles pickled\n",
        "118100"
       ]
      },
      {
       "output_type": "stream",
       "stream": "stdout",
       "text": [
        "  articles pickled\n",
        "118200"
       ]
      },
      {
       "output_type": "stream",
       "stream": "stdout",
       "text": [
        "  articles pickled\n",
        "118300"
       ]
      },
      {
       "output_type": "stream",
       "stream": "stdout",
       "text": [
        "  articles pickled\n",
        "118400"
       ]
      },
      {
       "output_type": "stream",
       "stream": "stdout",
       "text": [
        "  articles pickled\n",
        "118500"
       ]
      },
      {
       "output_type": "stream",
       "stream": "stdout",
       "text": [
        "  articles pickled\n",
        "118600"
       ]
      },
      {
       "output_type": "stream",
       "stream": "stdout",
       "text": [
        "  articles pickled\n",
        "118700"
       ]
      },
      {
       "output_type": "stream",
       "stream": "stdout",
       "text": [
        "  articles pickled\n",
        "118800"
       ]
      },
      {
       "output_type": "stream",
       "stream": "stdout",
       "text": [
        "  articles pickled\n",
        "118900"
       ]
      },
      {
       "output_type": "stream",
       "stream": "stdout",
       "text": [
        "  articles pickled\n",
        "119000"
       ]
      },
      {
       "output_type": "stream",
       "stream": "stdout",
       "text": [
        "  articles pickled\n",
        "119100"
       ]
      },
      {
       "output_type": "stream",
       "stream": "stdout",
       "text": [
        "  articles pickled\n",
        "119200"
       ]
      },
      {
       "output_type": "stream",
       "stream": "stdout",
       "text": [
        "  articles pickled\n",
        "119300"
       ]
      },
      {
       "output_type": "stream",
       "stream": "stdout",
       "text": [
        "  articles pickled\n",
        "119400"
       ]
      },
      {
       "output_type": "stream",
       "stream": "stdout",
       "text": [
        "  articles pickled\n",
        "119500"
       ]
      },
      {
       "output_type": "stream",
       "stream": "stdout",
       "text": [
        "  articles pickled\n",
        "119600"
       ]
      },
      {
       "output_type": "stream",
       "stream": "stdout",
       "text": [
        "  articles pickled\n",
        "119700"
       ]
      },
      {
       "output_type": "stream",
       "stream": "stdout",
       "text": [
        "  articles pickled\n",
        "DONE!"
       ]
      },
      {
       "output_type": "stream",
       "stream": "stdout",
       "text": [
        "\n"
       ]
      }
     ],
     "prompt_number": 10
    },
    {
     "cell_type": "heading",
     "level": 2,
     "metadata": {},
     "source": [
      "Exploring Output"
     ]
    },
    {
     "cell_type": "code",
     "collapsed": false,
     "input": [
      "#concatenates pickled files\n",
      "\n",
      "pieces = []\n",
      "\n",
      "for i in range(0,1196):\n",
      "    path = '../data/pickles/plos_pickle_{0}.pkl'.format(i)\n",
      "    frame = pd.read_pickle(path)\n",
      "    \n",
      "    pieces.append(frame)\n",
      "\n",
      "all_plos_df_for_export = pd.concat(pieces)"
     ],
     "language": "python",
     "metadata": {},
     "outputs": [],
     "prompt_number": 14
    },
    {
     "cell_type": "code",
     "collapsed": false,
     "input": [
      "all_plos_df_for_export.to_pickle('../data/all_plos_df.pkl')"
     ],
     "language": "python",
     "metadata": {},
     "outputs": [],
     "prompt_number": 22
    },
    {
     "cell_type": "code",
     "collapsed": false,
     "input": [
      "all_plos_df = pd.read_pickle('../data/all_plos_df.pkl')"
     ],
     "language": "python",
     "metadata": {},
     "outputs": [],
     "prompt_number": 23
    },
    {
     "cell_type": "code",
     "collapsed": false,
     "input": [
      "# total number of articles\n",
      "len(all_plos_df)"
     ],
     "language": "python",
     "metadata": {},
     "outputs": [
      {
       "metadata": {},
       "output_type": "pyout",
       "prompt_number": 24,
       "text": [
        "115489"
       ]
      }
     ],
     "prompt_number": 24
    },
    {
     "cell_type": "code",
     "collapsed": false,
     "input": [
      "all_plos_df.sort(columns = 'id').head()"
     ],
     "language": "python",
     "metadata": {},
     "outputs": [
      {
       "html": [
        "<div style=\"max-height:1000px;max-width:1500px;overflow:auto;\">\n",
        "<table border=\"1\" class=\"dataframe\">\n",
        "  <thead>\n",
        "    <tr style=\"text-align: right;\">\n",
        "      <th></th>\n",
        "      <th>abstract</th>\n",
        "      <th>author</th>\n",
        "      <th>id</th>\n",
        "      <th>journal</th>\n",
        "      <th>publication_date</th>\n",
        "      <th>score</th>\n",
        "      <th>subject</th>\n",
        "      <th>title_display</th>\n",
        "    </tr>\n",
        "  </thead>\n",
        "  <tbody>\n",
        "    <tr>\n",
        "      <th>4 </th>\n",
        "      <td> [\\n        During lymphocyte development, V(D)...</td>\n",
        "      <td> [Alfred Ian Lee, Sebastian D Fugmann, Lindsay ...</td>\n",
        "      <td> 10.1371/journal.pbio.0000001</td>\n",
        "      <td> PLoS Biology</td>\n",
        "      <td> 2003-10-13T00:00:00Z</td>\n",
        "      <td> 1</td>\n",
        "      <td> [/Biology and life sciences/Molecular biology/...</td>\n",
        "      <td> A Functional Analysis of the Spacer of V(D)J R...</td>\n",
        "    </tr>\n",
        "    <tr>\n",
        "      <th>16</th>\n",
        "      <td> [\\n        Because of the constant threat pose...</td>\n",
        "      <td> [David Wang, Anatoly Urisman, Yu-Tsueng Liu, M...</td>\n",
        "      <td> 10.1371/journal.pbio.0000002</td>\n",
        "      <td> PLoS Biology</td>\n",
        "      <td> 2003-11-17T00:00:00Z</td>\n",
        "      <td> 1</td>\n",
        "      <td> [/Biology and life sciences/Molecular biology/...</td>\n",
        "      <td> Viral Discovery and Sequence Recovery Using DN...</td>\n",
        "    </tr>\n",
        "    <tr>\n",
        "      <th>48</th>\n",
        "      <td>                                                []</td>\n",
        "      <td>                                               NaN</td>\n",
        "      <td> 10.1371/journal.pbio.0000003</td>\n",
        "      <td> PLoS Biology</td>\n",
        "      <td> 2003-11-17T00:00:00Z</td>\n",
        "      <td> 1</td>\n",
        "      <td> [/Biology and life sciences/Organisms/Viruses/...</td>\n",
        "      <td>                     Gene Chip for Viral Discovery</td>\n",
        "    </tr>\n",
        "    <tr>\n",
        "      <th>35</th>\n",
        "      <td>                                                []</td>\n",
        "      <td>                                               NaN</td>\n",
        "      <td> 10.1371/journal.pbio.0000004</td>\n",
        "      <td> PLoS Biology</td>\n",
        "      <td> 2003-10-13T00:00:00Z</td>\n",
        "      <td> 1</td>\n",
        "      <td> [/Medicine and health sciences/Immunology/Immu...</td>\n",
        "      <td>                Functional Analysis of RSS Spacers</td>\n",
        "    </tr>\n",
        "    <tr>\n",
        "      <th>22</th>\n",
        "      <td> [\\n        Plasmodium falciparum is the causat...</td>\n",
        "      <td> [Zbynek Bozdech, Manuel Llin\u00e1s, Brian Lee Pull...</td>\n",
        "      <td> 10.1371/journal.pbio.0000005</td>\n",
        "      <td> PLoS Biology</td>\n",
        "      <td> 2003-08-18T00:00:00Z</td>\n",
        "      <td> 1</td>\n",
        "      <td> [/Biology and life sciences/Biochemistry/Prote...</td>\n",
        "      <td> The Transcriptome of the Intraerythrocytic Dev...</td>\n",
        "    </tr>\n",
        "  </tbody>\n",
        "</table>\n",
        "<p>5 rows \u00d7 8 columns</p>\n",
        "</div>"
       ],
       "metadata": {},
       "output_type": "pyout",
       "prompt_number": 26,
       "text": [
        "                                             abstract  \\\n",
        "4   [\\n        During lymphocyte development, V(D)...   \n",
        "16  [\\n        Because of the constant threat pose...   \n",
        "48                                                 []   \n",
        "35                                                 []   \n",
        "22  [\\n        Plasmodium falciparum is the causat...   \n",
        "\n",
        "                                               author  \\\n",
        "4   [Alfred Ian Lee, Sebastian D Fugmann, Lindsay ...   \n",
        "16  [David Wang, Anatoly Urisman, Yu-Tsueng Liu, M...   \n",
        "48                                                NaN   \n",
        "35                                                NaN   \n",
        "22  [Zbynek Bozdech, Manuel Llin\u00e1s, Brian Lee Pull...   \n",
        "\n",
        "                              id       journal      publication_date  score  \\\n",
        "4   10.1371/journal.pbio.0000001  PLoS Biology  2003-10-13T00:00:00Z      1   \n",
        "16  10.1371/journal.pbio.0000002  PLoS Biology  2003-11-17T00:00:00Z      1   \n",
        "48  10.1371/journal.pbio.0000003  PLoS Biology  2003-11-17T00:00:00Z      1   \n",
        "35  10.1371/journal.pbio.0000004  PLoS Biology  2003-10-13T00:00:00Z      1   \n",
        "22  10.1371/journal.pbio.0000005  PLoS Biology  2003-08-18T00:00:00Z      1   \n",
        "\n",
        "                                              subject  \\\n",
        "4   [/Biology and life sciences/Molecular biology/...   \n",
        "16  [/Biology and life sciences/Molecular biology/...   \n",
        "48  [/Biology and life sciences/Organisms/Viruses/...   \n",
        "35  [/Medicine and health sciences/Immunology/Immu...   \n",
        "22  [/Biology and life sciences/Biochemistry/Prote...   \n",
        "\n",
        "                                        title_display  \n",
        "4   A Functional Analysis of the Spacer of V(D)J R...  \n",
        "16  Viral Discovery and Sequence Recovery Using DN...  \n",
        "48                      Gene Chip for Viral Discovery  \n",
        "35                 Functional Analysis of RSS Spacers  \n",
        "22  The Transcriptome of the Intraerythrocytic Dev...  \n",
        "\n",
        "[5 rows x 8 columns]"
       ]
      }
     ],
     "prompt_number": 26
    },
    {
     "cell_type": "code",
     "collapsed": false,
     "input": [
      "len(list(all_plos_df.id))"
     ],
     "language": "python",
     "metadata": {},
     "outputs": [
      {
       "metadata": {},
       "output_type": "pyout",
       "prompt_number": 18,
       "text": [
        "115489"
       ]
      }
     ],
     "prompt_number": 18
    },
    {
     "cell_type": "code",
     "collapsed": false,
     "input": [
      "print list(all_plos_df.subject)[0]"
     ],
     "language": "python",
     "metadata": {},
     "outputs": []
    },
    {
     "cell_type": "code",
     "collapsed": false,
     "input": [
      "all_plos_df.tail()"
     ],
     "language": "python",
     "metadata": {},
     "outputs": [
      {
       "html": [
        "<div style=\"max-height:1000px;max-width:1500px;overflow:auto;\">\n",
        "<table border=\"1\" class=\"dataframe\">\n",
        "  <thead>\n",
        "    <tr style=\"text-align: right;\">\n",
        "      <th></th>\n",
        "      <th>abstract</th>\n",
        "      <th>author</th>\n",
        "      <th>id</th>\n",
        "      <th>journal</th>\n",
        "      <th>publication_date</th>\n",
        "      <th>score</th>\n",
        "      <th>subject</th>\n",
        "      <th>title_display</th>\n",
        "    </tr>\n",
        "  </thead>\n",
        "  <tbody>\n",
        "    <tr>\n",
        "      <th>95</th>\n",
        "      <td> [Background: Sperm from C57BL/6 mice are diffi...</td>\n",
        "      <td> [G Charles Ostermeier, Michael V Wiles, Jane S...</td>\n",
        "      <td> 10.1371/journal.pone.0002792</td>\n",
        "      <td> PLoS ONE</td>\n",
        "      <td> 2008-07-30T00:00:00Z</td>\n",
        "      <td> 1</td>\n",
        "      <td> [/Biology and life sciences/Biotechnology/Gene...</td>\n",
        "      <td> Conserving, Distributing and Managing Genetica...</td>\n",
        "    </tr>\n",
        "    <tr>\n",
        "      <th>96</th>\n",
        "      <td> [Background: This study was conducted to deter...</td>\n",
        "      <td> [Mahamadou S Sissoko, Abdoulaye Dabo, Hamidou ...</td>\n",
        "      <td> 10.1371/journal.pone.0006732</td>\n",
        "      <td> PLoS ONE</td>\n",
        "      <td> 2009-10-05T00:00:00Z</td>\n",
        "      <td> 1</td>\n",
        "      <td> [/Research and analysis methods/Research desig...</td>\n",
        "      <td> Efficacy of Artesunate + Sulfamethoxypyrazine/...</td>\n",
        "    </tr>\n",
        "    <tr>\n",
        "      <th>97</th>\n",
        "      <td> [Background: In southern China, a wild ectomyc...</td>\n",
        "      <td> [Mochan Li, Junfeng Liang, Yanchun Li, Bang Fe...</td>\n",
        "      <td> 10.1371/journal.pone.0010684</td>\n",
        "      <td> PLoS ONE</td>\n",
        "      <td> 2010-05-18T00:00:00Z</td>\n",
        "      <td> 1</td>\n",
        "      <td> [/Research and analysis methods/Molecular biol...</td>\n",
        "      <td> Genetic Diversity of Dahongjun, the Commercial...</td>\n",
        "    </tr>\n",
        "    <tr>\n",
        "      <th>98</th>\n",
        "      <td> [Background: To examine the corneal epithelial...</td>\n",
        "      <td> [I-Jong Wang, Ray Jui-Fang Tsai, Lung-Kun Yeh,...</td>\n",
        "      <td> 10.1371/journal.pone.0014537</td>\n",
        "      <td> PLoS ONE</td>\n",
        "      <td> 2011-01-14T00:00:00Z</td>\n",
        "      <td> 1</td>\n",
        "      <td> [/Biology and life sciences/Anatomy/Ocular sys...</td>\n",
        "      <td> Changes in Corneal Basal Epithelial Phenotypes...</td>\n",
        "    </tr>\n",
        "    <tr>\n",
        "      <th>99</th>\n",
        "      <td> [\\n        In order to further understand the ...</td>\n",
        "      <td> [Daniel Wiswede, Svenja Taubner, Thomas F M\u00fcnt...</td>\n",
        "      <td> 10.1371/journal.pone.0022599</td>\n",
        "      <td> PLoS ONE</td>\n",
        "      <td> 2011-07-21T00:00:00Z</td>\n",
        "      <td> 1</td>\n",
        "      <td> [/Biology and life sciences/Psychology/Behavio...</td>\n",
        "      <td> Neurophysiological Correlates of Laboratory-In...</td>\n",
        "    </tr>\n",
        "  </tbody>\n",
        "</table>\n",
        "<p>5 rows \u00d7 8 columns</p>\n",
        "</div>"
       ],
       "metadata": {},
       "output_type": "pyout",
       "prompt_number": 12,
       "text": [
        "                                             abstract  \\\n",
        "95  [Background: Sperm from C57BL/6 mice are diffi...   \n",
        "96  [Background: This study was conducted to deter...   \n",
        "97  [Background: In southern China, a wild ectomyc...   \n",
        "98  [Background: To examine the corneal epithelial...   \n",
        "99  [\\n        In order to further understand the ...   \n",
        "\n",
        "                                               author  \\\n",
        "95  [G Charles Ostermeier, Michael V Wiles, Jane S...   \n",
        "96  [Mahamadou S Sissoko, Abdoulaye Dabo, Hamidou ...   \n",
        "97  [Mochan Li, Junfeng Liang, Yanchun Li, Bang Fe...   \n",
        "98  [I-Jong Wang, Ray Jui-Fang Tsai, Lung-Kun Yeh,...   \n",
        "99  [Daniel Wiswede, Svenja Taubner, Thomas F M\u00fcnt...   \n",
        "\n",
        "                              id   journal      publication_date  score  \\\n",
        "95  10.1371/journal.pone.0002792  PLoS ONE  2008-07-30T00:00:00Z      1   \n",
        "96  10.1371/journal.pone.0006732  PLoS ONE  2009-10-05T00:00:00Z      1   \n",
        "97  10.1371/journal.pone.0010684  PLoS ONE  2010-05-18T00:00:00Z      1   \n",
        "98  10.1371/journal.pone.0014537  PLoS ONE  2011-01-14T00:00:00Z      1   \n",
        "99  10.1371/journal.pone.0022599  PLoS ONE  2011-07-21T00:00:00Z      1   \n",
        "\n",
        "                                              subject  \\\n",
        "95  [/Biology and life sciences/Biotechnology/Gene...   \n",
        "96  [/Research and analysis methods/Research desig...   \n",
        "97  [/Research and analysis methods/Molecular biol...   \n",
        "98  [/Biology and life sciences/Anatomy/Ocular sys...   \n",
        "99  [/Biology and life sciences/Psychology/Behavio...   \n",
        "\n",
        "                                        title_display  \n",
        "95  Conserving, Distributing and Managing Genetica...  \n",
        "96  Efficacy of Artesunate + Sulfamethoxypyrazine/...  \n",
        "97  Genetic Diversity of Dahongjun, the Commercial...  \n",
        "98  Changes in Corneal Basal Epithelial Phenotypes...  \n",
        "99  Neurophysiological Correlates of Laboratory-In...  \n",
        "\n",
        "[5 rows x 8 columns]"
       ]
      }
     ],
     "prompt_number": 12
    },
    {
     "cell_type": "heading",
     "level": 2,
     "metadata": {},
     "source": [
      "Cleaning Output"
     ]
    },
    {
     "cell_type": "markdown",
     "metadata": {},
     "source": [
      "####Testing retry decorator\n",
      "\n",
      "This is making sure that the retry decorator works"
     ]
    },
    {
     "cell_type": "code",
     "collapsed": false,
     "input": [
      "import random\n",
      "\n",
      "@retry\n",
      "def do_something_unreliable():\n",
      "    if random.randint(0, 2) > 1:\n",
      "        raise IOError(\"Broken sauce, everything is hosed!!!111one\")\n",
      "    else:\n",
      "        return \"Awesome sauce!\"\n",
      "\n",
      "print do_something_unreliable()"
     ],
     "language": "python",
     "metadata": {},
     "outputs": [
      {
       "output_type": "stream",
       "stream": "stdout",
       "text": [
        "Awesome sauce!\n"
       ]
      }
     ],
     "prompt_number": 26
    },
    {
     "cell_type": "code",
     "collapsed": false,
     "input": [],
     "language": "python",
     "metadata": {},
     "outputs": []
    }
   ],
   "metadata": {}
  }
 ]
}