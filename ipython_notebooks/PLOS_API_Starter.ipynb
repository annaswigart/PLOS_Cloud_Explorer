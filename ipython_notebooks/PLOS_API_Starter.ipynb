{
 "metadata": {
  "name": "",
  "signature": "sha256:9a75d588f9148143ce65a3ddcc13d118bc6b2a137c315be70a3861641d89d841"
 },
 "nbformat": 3,
 "nbformat_minor": 0,
 "worksheets": [
  {
   "cells": [
    {
     "cell_type": "code",
     "collapsed": false,
     "input": [
      "#some PLOS API examples: http://api.plos.org/search-examples/plos_search.py"
     ],
     "language": "python",
     "metadata": {},
     "outputs": []
    },
    {
     "cell_type": "code",
     "collapsed": false,
     "input": [
      "#Sample PLOS api code for use with python Solr library Sunburnt\n",
      "#( https://github.com/tow/sunburnt )\n",
      "#!Note! requires sunburnt's external libraries: httplib2,lxml \n",
      "#https://groups.google.com/d/topic/plos-api-developers/zv591sFz6TM/discussion\n",
      "\n",
      "import sunburnt\n",
      "import urllib2\n",
      "import settings\n",
      "\n",
      "class PlosInterface(sunburnt.SolrInterface):\n",
      "    def __init__(self,api_key):\n",
      "        plos_url = \"http://api.plos.org/search\"\n",
      "        #either\n",
      "\tplos_schema  = urllib2.urlopen(\"http://api.plos.org/search-examples/schema.xml\")\n",
      "\t#or (be polite, use stored file instead of urlopen)\n",
      "\t#plos_schema = open('/home/dbuschho/workspace/publication_timeline/plos_schema.xml')\n",
      "\t\t\t\t\t\t#localfile handle open('../plos_schema.xml') from\n",
      "                                                #http://api.plos.org/search-examples/schema.xml\n",
      "        #Python base class magic ... make this class a SolrInterface like object\n",
      "        #note that schemadoc if requested by url will be loaded                                      \n",
      "        super(PlosInterface, self).__init__(url=plos_url,schemadoc=plos_schema)\n",
      "        #Replace default connection with one that \n",
      "        self.conn = PlosInterface.PlosConnection(url=plos_url,api_key=api_key)    \n",
      "    \n",
      "    #Create specific PlosConnection subclass of SolrConnection\n",
      "    #to force addition of API_KEY query param to all queries\n",
      "    #(defined within PlosInterface class to keep namespace clean)\n",
      "    class PlosConnection(sunburnt.sunburnt.SolrConnection):\n",
      "        api_key = settings.PLOS_KEY\n",
      "        def __init__(self, url, api_key):\n",
      "            self.api_key = api_key\n",
      "            super(PlosInterface.PlosConnection, self).__init__(url=url)\n",
      "        def select(self, params):\n",
      "            params.append((u'api_key',self.api_key))\n",
      "            return sunburnt.sunburnt.SolrConnection.select(self,params)\n",
      " \n",
      " \n",
      " \n",
      "#Actual test code\n",
      "if __name__ == '__main__':\n",
      "    plos_interface = PlosInterface(api_key= settings.PLOS_KEY)\n",
      "    \n",
      "    count   = 0 #Count number of results printed\n",
      "    start   = 0\n",
      "    rows    =10\n",
      "    \n",
      "    while True:\n",
      "        results = plos_interface.query(title=u'Chemistry').paginate(start,rows).execute()\n",
      "                            #handle while loop bookkeeping\n",
      "        start += rows       #increment query loop\n",
      "        \n",
      "\tif(not results):    #stop loop if no more results\n",
      "            break           #see http://stackoverflow.com/questions/6631128\n",
      "        \n",
      "        #Actually do something with data received\n",
      "        for result in results:\n",
      "            print result\n",
      "            count += 1\n",
      "        \n",
      "    print count"
     ],
     "language": "python",
     "metadata": {},
     "outputs": [
      {
       "ename": "TypeError",
       "evalue": "__init__() takes exactly 5 arguments (2 given)",
       "output_type": "pyerr",
       "traceback": [
        "\u001b[0;31m---------------------------------------------------------------------------\u001b[0m\n\u001b[0;31mTypeError\u001b[0m                                 Traceback (most recent call last)",
        "\u001b[0;32m<ipython-input-2-49692d7eb8a4>\u001b[0m in \u001b[0;36m<module>\u001b[0;34m()\u001b[0m\n\u001b[1;32m     39\u001b[0m \u001b[0;31m#Actual test code\u001b[0m\u001b[0;34m\u001b[0m\u001b[0;34m\u001b[0m\u001b[0m\n\u001b[1;32m     40\u001b[0m \u001b[0;32mif\u001b[0m \u001b[0m__name__\u001b[0m \u001b[0;34m==\u001b[0m \u001b[0;34m'__main__'\u001b[0m\u001b[0;34m:\u001b[0m\u001b[0;34m\u001b[0m\u001b[0m\n\u001b[0;32m---> 41\u001b[0;31m     \u001b[0mplos_interface\u001b[0m \u001b[0;34m=\u001b[0m \u001b[0mPlosInterface\u001b[0m\u001b[0;34m(\u001b[0m\u001b[0mapi_key\u001b[0m\u001b[0;34m=\u001b[0m \u001b[0msettings\u001b[0m\u001b[0;34m.\u001b[0m\u001b[0mPLOS_KEY\u001b[0m\u001b[0;34m)\u001b[0m\u001b[0;34m\u001b[0m\u001b[0m\n\u001b[0m\u001b[1;32m     42\u001b[0m \u001b[0;34m\u001b[0m\u001b[0m\n\u001b[1;32m     43\u001b[0m     \u001b[0mcount\u001b[0m   \u001b[0;34m=\u001b[0m \u001b[0;36m0\u001b[0m \u001b[0;31m#Count number of results printed\u001b[0m\u001b[0;34m\u001b[0m\u001b[0m\n",
        "\u001b[0;32m<ipython-input-2-49692d7eb8a4>\u001b[0m in \u001b[0;36m__init__\u001b[0;34m(self, api_key)\u001b[0m\n\u001b[1;32m     21\u001b[0m         \u001b[0msuper\u001b[0m\u001b[0;34m(\u001b[0m\u001b[0mPlosInterface\u001b[0m\u001b[0;34m,\u001b[0m \u001b[0mself\u001b[0m\u001b[0;34m)\u001b[0m\u001b[0;34m.\u001b[0m\u001b[0m__init__\u001b[0m\u001b[0;34m(\u001b[0m\u001b[0murl\u001b[0m\u001b[0;34m=\u001b[0m\u001b[0mplos_url\u001b[0m\u001b[0;34m,\u001b[0m\u001b[0mschemadoc\u001b[0m\u001b[0;34m=\u001b[0m\u001b[0mplos_schema\u001b[0m\u001b[0;34m)\u001b[0m\u001b[0;34m\u001b[0m\u001b[0m\n\u001b[1;32m     22\u001b[0m         \u001b[0;31m#Replace default connection with one that\u001b[0m\u001b[0;34m\u001b[0m\u001b[0;34m\u001b[0m\u001b[0m\n\u001b[0;32m---> 23\u001b[0;31m         \u001b[0mself\u001b[0m\u001b[0;34m.\u001b[0m\u001b[0mconn\u001b[0m \u001b[0;34m=\u001b[0m \u001b[0mPlosInterface\u001b[0m\u001b[0;34m.\u001b[0m\u001b[0mPlosConnection\u001b[0m\u001b[0;34m(\u001b[0m\u001b[0murl\u001b[0m\u001b[0;34m=\u001b[0m\u001b[0mplos_url\u001b[0m\u001b[0;34m,\u001b[0m\u001b[0mapi_key\u001b[0m\u001b[0;34m=\u001b[0m\u001b[0mapi_key\u001b[0m\u001b[0;34m)\u001b[0m\u001b[0;34m\u001b[0m\u001b[0m\n\u001b[0m\u001b[1;32m     24\u001b[0m \u001b[0;34m\u001b[0m\u001b[0m\n\u001b[1;32m     25\u001b[0m     \u001b[0;31m#Create specific PlosConnection subclass of SolrConnection\u001b[0m\u001b[0;34m\u001b[0m\u001b[0;34m\u001b[0m\u001b[0m\n",
        "\u001b[0;32m<ipython-input-2-49692d7eb8a4>\u001b[0m in \u001b[0;36m__init__\u001b[0;34m(self, url, api_key)\u001b[0m\n\u001b[1;32m     30\u001b[0m         \u001b[0;32mdef\u001b[0m \u001b[0m__init__\u001b[0m\u001b[0;34m(\u001b[0m\u001b[0mself\u001b[0m\u001b[0;34m,\u001b[0m \u001b[0murl\u001b[0m\u001b[0;34m,\u001b[0m \u001b[0mapi_key\u001b[0m\u001b[0;34m)\u001b[0m\u001b[0;34m:\u001b[0m\u001b[0;34m\u001b[0m\u001b[0m\n\u001b[1;32m     31\u001b[0m             \u001b[0mself\u001b[0m\u001b[0;34m.\u001b[0m\u001b[0mapi_key\u001b[0m \u001b[0;34m=\u001b[0m \u001b[0mapi_key\u001b[0m\u001b[0;34m\u001b[0m\u001b[0m\n\u001b[0;32m---> 32\u001b[0;31m             \u001b[0msuper\u001b[0m\u001b[0;34m(\u001b[0m\u001b[0mPlosInterface\u001b[0m\u001b[0;34m.\u001b[0m\u001b[0mPlosConnection\u001b[0m\u001b[0;34m,\u001b[0m \u001b[0mself\u001b[0m\u001b[0;34m)\u001b[0m\u001b[0;34m.\u001b[0m\u001b[0m__init__\u001b[0m\u001b[0;34m(\u001b[0m\u001b[0murl\u001b[0m\u001b[0;34m=\u001b[0m\u001b[0murl\u001b[0m\u001b[0;34m)\u001b[0m\u001b[0;34m\u001b[0m\u001b[0m\n\u001b[0m\u001b[1;32m     33\u001b[0m         \u001b[0;32mdef\u001b[0m \u001b[0mselect\u001b[0m\u001b[0;34m(\u001b[0m\u001b[0mself\u001b[0m\u001b[0;34m,\u001b[0m \u001b[0mparams\u001b[0m\u001b[0;34m)\u001b[0m\u001b[0;34m:\u001b[0m\u001b[0;34m\u001b[0m\u001b[0m\n\u001b[1;32m     34\u001b[0m             \u001b[0mparams\u001b[0m\u001b[0;34m.\u001b[0m\u001b[0mappend\u001b[0m\u001b[0;34m(\u001b[0m\u001b[0;34m(\u001b[0m\u001b[0;34mu'api_key'\u001b[0m\u001b[0;34m,\u001b[0m\u001b[0mself\u001b[0m\u001b[0;34m.\u001b[0m\u001b[0mapi_key\u001b[0m\u001b[0;34m)\u001b[0m\u001b[0;34m)\u001b[0m\u001b[0;34m\u001b[0m\u001b[0m\n",
        "\u001b[0;31mTypeError\u001b[0m: __init__() takes exactly 5 arguments (2 given)"
       ]
      }
     ],
     "prompt_number": 2
    },
    {
     "cell_type": "code",
     "collapsed": false,
     "input": [],
     "language": "python",
     "metadata": {},
     "outputs": []
    }
   ],
   "metadata": {}
  }
 ]
}