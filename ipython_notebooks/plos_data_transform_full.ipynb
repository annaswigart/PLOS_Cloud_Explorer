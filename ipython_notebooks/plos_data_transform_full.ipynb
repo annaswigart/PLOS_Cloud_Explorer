{
 "metadata": {
  "name": "",
  "signature": "sha256:27d85adb680b9e56eeee5515f96b74eae0043e71e39924afcbc59ca77bdeb010"
 },
 "nbformat": 3,
 "nbformat_minor": 0,
 "worksheets": [
  {
   "cells": [
    {
     "cell_type": "code",
     "collapsed": false,
     "input": [
      "from __future__ import unicode_literals\n",
      "import json\n",
      "import numpy as np\n",
      "import pandas as pd\n",
      "from pandas import DataFrame, Series"
     ],
     "language": "python",
     "metadata": {},
     "outputs": [],
     "prompt_number": 1
    },
    {
     "cell_type": "markdown",
     "metadata": {},
     "source": [
      "# Transforming batch-collected data\n",
      "\n",
      "The desired data structure for article information is the following JSON object:\n",
      "\n",
      "```\n",
      "articles:\n",
      "  [ <doi>:\n",
      "      { author: [ ... ]\n",
      "        title:\n",
      "        journal:\n",
      "        publication_date: <yyyy>\n",
      "        subject: [ <full subject /-separated strings>, ... ]\n",
      "        subj_top: [ set of top levels of each subject ]\n",
      "        subj_leaf: [ set of last terms of each subject ]\n",
      "      },\n",
      "    ...\n",
      "  ]\n",
      "```"
     ]
    },
    {
     "cell_type": "code",
     "collapsed": false,
     "input": [
      "df = pd.read_pickle('../data/all_plos_df.pkl')\n",
      "df.head()"
     ],
     "language": "python",
     "metadata": {},
     "outputs": [
      {
       "html": [
        "<div style=\"max-height:1000px;max-width:1500px;overflow:auto;\">\n",
        "<table border=\"1\" class=\"dataframe\">\n",
        "  <thead>\n",
        "    <tr style=\"text-align: right;\">\n",
        "      <th></th>\n",
        "      <th>abstract</th>\n",
        "      <th>author</th>\n",
        "      <th>id</th>\n",
        "      <th>journal</th>\n",
        "      <th>publication_date</th>\n",
        "      <th>score</th>\n",
        "      <th>subject</th>\n",
        "      <th>title_display</th>\n",
        "    </tr>\n",
        "  </thead>\n",
        "  <tbody>\n",
        "    <tr>\n",
        "      <th>0</th>\n",
        "      <td> [\\nVoltage-gated ion channels are main players...</td>\n",
        "      <td> [David G\u00f3mez-Varela, Tobias Kohl, Manuela Schm...</td>\n",
        "      <td> 10.1371/journal.pone.0008858</td>\n",
        "      <td>     PLoS ONE</td>\n",
        "      <td> 2010-01-25T00:00:00Z</td>\n",
        "      <td> 1</td>\n",
        "      <td> [/Biology and life sciences/Biochemistry/Prote...</td>\n",
        "      <td> Characterization of Eag1 Channel Lateral Mobil...</td>\n",
        "    </tr>\n",
        "    <tr>\n",
        "      <th>1</th>\n",
        "      <td> [\\nMicrovesicles are plasma membrane-derived v...</td>\n",
        "      <td> [Alex Yuan, Erica L Farber, Ana Lia Rapoport, ...</td>\n",
        "      <td> 10.1371/journal.pone.0004722</td>\n",
        "      <td>     PLoS ONE</td>\n",
        "      <td> 2009-03-06T00:00:00Z</td>\n",
        "      <td> 1</td>\n",
        "      <td> [/Biology and life sciences/Cell biology/Cellu...</td>\n",
        "      <td> Transfer of MicroRNAs by Embryonic Stem Cell M...</td>\n",
        "    </tr>\n",
        "    <tr>\n",
        "      <th>2</th>\n",
        "      <td> [\\n\\t\\t\\t\\tColorectal cancer (CRC) is the seco...</td>\n",
        "      <td> [Marjaana Pussila, Laura Sarantaus, Denis Derm...</td>\n",
        "      <td> 10.1371/journal.pone.0076865</td>\n",
        "      <td>     PLoS ONE</td>\n",
        "      <td> 2013-10-08T00:00:00Z</td>\n",
        "      <td> 1</td>\n",
        "      <td> [/Biology and life sciences/Biochemistry/DNA/D...</td>\n",
        "      <td> Cancer-Predicting Gene Expression Changes in C...</td>\n",
        "    </tr>\n",
        "    <tr>\n",
        "      <th>3</th>\n",
        "      <td> [\\n        Open access (OA) to the research li...</td>\n",
        "      <td>                               [Gunther Eysenbach]</td>\n",
        "      <td> 10.1371/journal.pbio.0040157</td>\n",
        "      <td> PLoS Biology</td>\n",
        "      <td> 2006-05-16T00:00:00Z</td>\n",
        "      <td> 1</td>\n",
        "      <td> [/Research and analysis methods/Research asses...</td>\n",
        "      <td>        Citation Advantage of Open Access Articles</td>\n",
        "    </tr>\n",
        "    <tr>\n",
        "      <th>4</th>\n",
        "      <td> [\\n\\t\\t\\t\\t\\n\\t\\t\\t\\tLive cell imaging of mRNA...</td>\n",
        "      <td> [Juan Yin, Duanhao Zhu, Zhiping Zhang, Wei Wan...</td>\n",
        "      <td> 10.1371/journal.pone.0080851</td>\n",
        "      <td>     PLoS ONE</td>\n",
        "      <td> 2013-11-15T00:00:00Z</td>\n",
        "      <td> 1</td>\n",
        "      <td> [/Biology and life sciences/Biochemistry/Prote...</td>\n",
        "      <td> Imaging of mRNA\u2013Protein Interactions in Live C...</td>\n",
        "    </tr>\n",
        "  </tbody>\n",
        "</table>\n",
        "<p>5 rows \u00d7 8 columns</p>\n",
        "</div>"
       ],
       "metadata": {},
       "output_type": "pyout",
       "prompt_number": 2,
       "text": [
        "                                            abstract  \\\n",
        "0  [\\nVoltage-gated ion channels are main players...   \n",
        "1  [\\nMicrovesicles are plasma membrane-derived v...   \n",
        "2  [\\n\\t\\t\\t\\tColorectal cancer (CRC) is the seco...   \n",
        "3  [\\n        Open access (OA) to the research li...   \n",
        "4  [\\n\\t\\t\\t\\t\\n\\t\\t\\t\\tLive cell imaging of mRNA...   \n",
        "\n",
        "                                              author  \\\n",
        "0  [David G\u00f3mez-Varela, Tobias Kohl, Manuela Schm...   \n",
        "1  [Alex Yuan, Erica L Farber, Ana Lia Rapoport, ...   \n",
        "2  [Marjaana Pussila, Laura Sarantaus, Denis Derm...   \n",
        "3                                [Gunther Eysenbach]   \n",
        "4  [Juan Yin, Duanhao Zhu, Zhiping Zhang, Wei Wan...   \n",
        "\n",
        "                             id       journal      publication_date  score  \\\n",
        "0  10.1371/journal.pone.0008858      PLoS ONE  2010-01-25T00:00:00Z      1   \n",
        "1  10.1371/journal.pone.0004722      PLoS ONE  2009-03-06T00:00:00Z      1   \n",
        "2  10.1371/journal.pone.0076865      PLoS ONE  2013-10-08T00:00:00Z      1   \n",
        "3  10.1371/journal.pbio.0040157  PLoS Biology  2006-05-16T00:00:00Z      1   \n",
        "4  10.1371/journal.pone.0080851      PLoS ONE  2013-11-15T00:00:00Z      1   \n",
        "\n",
        "                                             subject  \\\n",
        "0  [/Biology and life sciences/Biochemistry/Prote...   \n",
        "1  [/Biology and life sciences/Cell biology/Cellu...   \n",
        "2  [/Biology and life sciences/Biochemistry/DNA/D...   \n",
        "3  [/Research and analysis methods/Research asses...   \n",
        "4  [/Biology and life sciences/Biochemistry/Prote...   \n",
        "\n",
        "                                       title_display  \n",
        "0  Characterization of Eag1 Channel Lateral Mobil...  \n",
        "1  Transfer of MicroRNAs by Embryonic Stem Cell M...  \n",
        "2  Cancer-Predicting Gene Expression Changes in C...  \n",
        "3         Citation Advantage of Open Access Articles  \n",
        "4  Imaging of mRNA\u2013Protein Interactions in Live C...  \n",
        "\n",
        "[5 rows x 8 columns]"
       ]
      }
     ],
     "prompt_number": 2
    },
    {
     "cell_type": "code",
     "collapsed": false,
     "input": [
      "#df = pd.read_pickle('../data/all_plos_df.pkl')\n",
      "\n",
      "# Dropping...\n",
      "df.drop(['author', 'title_display', 'journal', 'abstract', 'score'], axis=1, inplace=True)\n",
      "\n",
      "df.set_index('id', inplace=True)\n",
      "#df.columns = ['author', 'journal', 'publication_date', 'subject', 'title']\n",
      "df.columns = ['publication_date', 'subject']\n",
      "#df = df.reindex(columns=['author', 'title', 'journal', 'publication_date', 'subject'])\n",
      "\n",
      "# We just want the year.\n",
      "df.publication_date = df.publication_date.str[:4]\n",
      "\n",
      "df.head()"
     ],
     "language": "python",
     "metadata": {},
     "outputs": [
      {
       "html": [
        "<div style=\"max-height:1000px;max-width:1500px;overflow:auto;\">\n",
        "<table border=\"1\" class=\"dataframe\">\n",
        "  <thead>\n",
        "    <tr style=\"text-align: right;\">\n",
        "      <th></th>\n",
        "      <th>publication_date</th>\n",
        "      <th>subject</th>\n",
        "    </tr>\n",
        "    <tr>\n",
        "      <th>id</th>\n",
        "      <th></th>\n",
        "      <th></th>\n",
        "    </tr>\n",
        "  </thead>\n",
        "  <tbody>\n",
        "    <tr>\n",
        "      <th>10.1371/journal.pone.0008858</th>\n",
        "      <td> 2010</td>\n",
        "      <td> [/Biology and life sciences/Biochemistry/Prote...</td>\n",
        "    </tr>\n",
        "    <tr>\n",
        "      <th>10.1371/journal.pone.0004722</th>\n",
        "      <td> 2009</td>\n",
        "      <td> [/Biology and life sciences/Cell biology/Cellu...</td>\n",
        "    </tr>\n",
        "    <tr>\n",
        "      <th>10.1371/journal.pone.0076865</th>\n",
        "      <td> 2013</td>\n",
        "      <td> [/Biology and life sciences/Biochemistry/DNA/D...</td>\n",
        "    </tr>\n",
        "    <tr>\n",
        "      <th>10.1371/journal.pbio.0040157</th>\n",
        "      <td> 2006</td>\n",
        "      <td> [/Research and analysis methods/Research asses...</td>\n",
        "    </tr>\n",
        "    <tr>\n",
        "      <th>10.1371/journal.pone.0080851</th>\n",
        "      <td> 2013</td>\n",
        "      <td> [/Biology and life sciences/Biochemistry/Prote...</td>\n",
        "    </tr>\n",
        "  </tbody>\n",
        "</table>\n",
        "<p>5 rows \u00d7 2 columns</p>\n",
        "</div>"
       ],
       "metadata": {},
       "output_type": "pyout",
       "prompt_number": 3,
       "text": [
        "                             publication_date  \\\n",
        "id                                              \n",
        "10.1371/journal.pone.0008858             2010   \n",
        "10.1371/journal.pone.0004722             2009   \n",
        "10.1371/journal.pone.0076865             2013   \n",
        "10.1371/journal.pbio.0040157             2006   \n",
        "10.1371/journal.pone.0080851             2013   \n",
        "\n",
        "                                                                        subject  \n",
        "id                                                                               \n",
        "10.1371/journal.pone.0008858  [/Biology and life sciences/Biochemistry/Prote...  \n",
        "10.1371/journal.pone.0004722  [/Biology and life sciences/Cell biology/Cellu...  \n",
        "10.1371/journal.pone.0076865  [/Biology and life sciences/Biochemistry/DNA/D...  \n",
        "10.1371/journal.pbio.0040157  [/Research and analysis methods/Research asses...  \n",
        "10.1371/journal.pone.0080851  [/Biology and life sciences/Biochemistry/Prote...  \n",
        "\n",
        "[5 rows x 2 columns]"
       ]
      }
     ],
     "prompt_number": 3
    },
    {
     "cell_type": "code",
     "collapsed": false,
     "input": [
      "def get_subj_top(subjects):\n",
      "    subj_top = set()\n",
      "    for s in subjects:\n",
      "        # the string gets split at its first character, so not [0] here:\n",
      "        subj_top.add(s.split('/')[1])\n",
      "    return subj_top\n",
      "\n",
      "def get_subj_leaf(subjects):\n",
      "    subj_top = set()\n",
      "    for s in subjects:\n",
      "        subj_top.add(s.split('/')[-1])\n",
      "    return subj_top"
     ],
     "language": "python",
     "metadata": {},
     "outputs": [],
     "prompt_number": 4
    },
    {
     "cell_type": "code",
     "collapsed": false,
     "input": [
      "df['subj_top'] = df.subject.apply(get_subj_top)\n",
      "df['subj_leaf'] = df.subject.apply(get_subj_leaf)"
     ],
     "language": "python",
     "metadata": {},
     "outputs": [],
     "prompt_number": 5
    },
    {
     "cell_type": "code",
     "collapsed": false,
     "input": [
      "df.sort_index().head()"
     ],
     "language": "python",
     "metadata": {},
     "outputs": [
      {
       "html": [
        "<div style=\"max-height:1000px;max-width:1500px;overflow:auto;\">\n",
        "<table border=\"1\" class=\"dataframe\">\n",
        "  <thead>\n",
        "    <tr style=\"text-align: right;\">\n",
        "      <th></th>\n",
        "      <th>publication_date</th>\n",
        "      <th>subject</th>\n",
        "      <th>subj_top</th>\n",
        "      <th>subj_leaf</th>\n",
        "    </tr>\n",
        "    <tr>\n",
        "      <th>id</th>\n",
        "      <th></th>\n",
        "      <th></th>\n",
        "      <th></th>\n",
        "      <th></th>\n",
        "    </tr>\n",
        "  </thead>\n",
        "  <tbody>\n",
        "    <tr>\n",
        "      <th>10.1371/journal.pbio.0000001</th>\n",
        "      <td> 2003</td>\n",
        "      <td> [/Biology and life sciences/Molecular biology/...</td>\n",
        "      <td> set([Biology and life sciences, Physical scien...</td>\n",
        "      <td> set([Recombinant proteins, Nucleotide sequenci...</td>\n",
        "    </tr>\n",
        "    <tr>\n",
        "      <th>10.1371/journal.pbio.0000002</th>\n",
        "      <td> 2003</td>\n",
        "      <td> [/Biology and life sciences/Molecular biology/...</td>\n",
        "      <td> set([Biology and life sciences, Physical scien...</td>\n",
        "      <td> set([DNA sequences, Microarrays, Oligonucleoti...</td>\n",
        "    </tr>\n",
        "    <tr>\n",
        "      <th>10.1371/journal.pbio.0000003</th>\n",
        "      <td> 2003</td>\n",
        "      <td> [/Biology and life sciences/Organisms/Viruses/...</td>\n",
        "      <td> set([Biology and life sciences, Medicine and h...</td>\n",
        "      <td> set([DNA sequences, West Nile virus, Sequence ...</td>\n",
        "    </tr>\n",
        "    <tr>\n",
        "      <th>10.1371/journal.pbio.0000004</th>\n",
        "      <td> 2003</td>\n",
        "      <td> [/Medicine and health sciences/Immunology/Immu...</td>\n",
        "      <td> set([Biology and life sciences, Medicine and h...</td>\n",
        "      <td> set([Recombinant proteins, Antibodies, Immune ...</td>\n",
        "    </tr>\n",
        "    <tr>\n",
        "      <th>10.1371/journal.pbio.0000005</th>\n",
        "      <td> 2003</td>\n",
        "      <td> [/Biology and life sciences/Biochemistry/Prote...</td>\n",
        "      <td> set([Biology and life sciences, Physical scien...</td>\n",
        "      <td> set([Plasmodium, Merozoites, Oligonucleotides,...</td>\n",
        "    </tr>\n",
        "  </tbody>\n",
        "</table>\n",
        "<p>5 rows \u00d7 4 columns</p>\n",
        "</div>"
       ],
       "metadata": {},
       "output_type": "pyout",
       "prompt_number": 6,
       "text": [
        "                             publication_date  \\\n",
        "id                                              \n",
        "10.1371/journal.pbio.0000001             2003   \n",
        "10.1371/journal.pbio.0000002             2003   \n",
        "10.1371/journal.pbio.0000003             2003   \n",
        "10.1371/journal.pbio.0000004             2003   \n",
        "10.1371/journal.pbio.0000005             2003   \n",
        "\n",
        "                                                                        subject  \\\n",
        "id                                                                                \n",
        "10.1371/journal.pbio.0000001  [/Biology and life sciences/Molecular biology/...   \n",
        "10.1371/journal.pbio.0000002  [/Biology and life sciences/Molecular biology/...   \n",
        "10.1371/journal.pbio.0000003  [/Biology and life sciences/Organisms/Viruses/...   \n",
        "10.1371/journal.pbio.0000004  [/Medicine and health sciences/Immunology/Immu...   \n",
        "10.1371/journal.pbio.0000005  [/Biology and life sciences/Biochemistry/Prote...   \n",
        "\n",
        "                                                                       subj_top  \\\n",
        "id                                                                                \n",
        "10.1371/journal.pbio.0000001  set([Biology and life sciences, Physical scien...   \n",
        "10.1371/journal.pbio.0000002  set([Biology and life sciences, Physical scien...   \n",
        "10.1371/journal.pbio.0000003  set([Biology and life sciences, Medicine and h...   \n",
        "10.1371/journal.pbio.0000004  set([Biology and life sciences, Medicine and h...   \n",
        "10.1371/journal.pbio.0000005  set([Biology and life sciences, Physical scien...   \n",
        "\n",
        "                                                                      subj_leaf  \n",
        "id                                                                               \n",
        "10.1371/journal.pbio.0000001  set([Recombinant proteins, Nucleotide sequenci...  \n",
        "10.1371/journal.pbio.0000002  set([DNA sequences, Microarrays, Oligonucleoti...  \n",
        "10.1371/journal.pbio.0000003  set([DNA sequences, West Nile virus, Sequence ...  \n",
        "10.1371/journal.pbio.0000004  set([Recombinant proteins, Antibodies, Immune ...  \n",
        "10.1371/journal.pbio.0000005  set([Plasmodium, Merozoites, Oligonucleotides,...  \n",
        "\n",
        "[5 rows x 4 columns]"
       ]
      }
     ],
     "prompt_number": 6
    },
    {
     "cell_type": "markdown",
     "metadata": {},
     "source": [
      "## Here is where we check to see if I did it right..."
     ]
    },
    {
     "cell_type": "code",
     "collapsed": false,
     "input": [
      "df.head().to_json(orient='index', force_ascii=False)"
     ],
     "language": "python",
     "metadata": {},
     "outputs": [
      {
       "metadata": {},
       "output_type": "pyout",
       "prompt_number": 7,
       "text": [
        "'{\"10.1371\\\\/journal.pone.0008858\":{\"publication_date\":\"2010\",\"subject\":[\"\\\\/Biology and life sciences\\\\/Biochemistry\\\\/Proteins\\\\/Ion channels\",\"\\\\/Medicine and health sciences\\\\/Anatomy\\\\/Nervous system\\\\/Synapses\",\"\\\\/Biology and life sciences\\\\/Cell biology\\\\/Cellular types\\\\/Animal cells\\\\/Neurons\\\\/Nerve fibers\\\\/Presynaptic terminals\",\"\\\\/Medicine and health sciences\\\\/Physiology\\\\/Electrophysiology\\\\/Neurophysiology\\\\/Ion channels\",\"\\\\/Biology and life sciences\\\\/Physiology\\\\/Electrophysiology\\\\/Ion channels\\\\/Voltage-gated ion channels\",\"\\\\/Biology and life sciences\\\\/Neuroscience\\\\/Neurophysiology\\\\/Ion channels\",\"\\\\/Engineering and technology\\\\/Nanotechnology\\\\/Quantum dots\",\"\\\\/Physical sciences\\\\/Physics\\\\/Biophysics\\\\/Ion channels\\\\/Voltage-gated ion channels\",\"\\\\/Medicine and health sciences\\\\/Physiology\\\\/Electrophysiology\\\\/Ion channels\",\"\\\\/Medicine and health sciences\\\\/Physiology\\\\/Electrophysiology\\\\/Neurophysiology\\\\/Synapses\",\"\\\\/Biology and life sciences\\\\/Biochemistry\\\\/Proteins\\\\/Ion channels\\\\/Voltage-gated ion channels\",\"\\\\/Biology and life sciences\\\\/Biophysics\\\\/Ion channels\\\\/Voltage-gated ion channels\",\"\\\\/Biology and life sciences\\\\/Cell biology\\\\/Cellular types\\\\/Animal cells\\\\/Neurons\",\"\\\\/Medicine and health sciences\\\\/Physiology\\\\/Electrophysiology\\\\/Ion channels\\\\/Voltage-gated ion channels\",\"\\\\/Biology and life sciences\\\\/Neuroscience\\\\/Neurophysiology\\\\/Ion channels\\\\/Voltage-gated ion channels\",\"\\\\/Biology and life sciences\\\\/Neuroscience\\\\/Neurophysiology\\\\/Synapses\",\"\\\\/Biology and life sciences\\\\/Physiology\\\\/Electrophysiology\\\\/Neurophysiology\\\\/Ion channels\\\\/Voltage-gated ion channels\",\"\\\\/Biology and life sciences\\\\/Physiology\\\\/Electrophysiology\\\\/Ion channels\",\"\\\\/Physical sciences\\\\/Physics\\\\/Biophysics\\\\/Ion channels\",\"\\\\/Biology and life sciences\\\\/Cell biology\\\\/Cellular structures and organelles\\\\/Cell membranes\",\"\\\\/Biology and life sciences\\\\/Physiology\\\\/Electrophysiology\\\\/Neurophysiology\\\\/Ion channels\",\"\\\\/Biology and life sciences\\\\/Cell biology\\\\/Cellular structures and organelles\\\\/Cytoskeleton\",\"\\\\/Medicine and health sciences\\\\/Physiology\\\\/Electrophysiology\\\\/Neurophysiology\\\\/Ion channels\\\\/Voltage-gated ion channels\",\"\\\\/Biology and life sciences\\\\/Biophysics\\\\/Ion channels\",\"\\\\/Biology and life sciences\\\\/Anatomy\\\\/Nervous system\\\\/Synapses\",\"\\\\/Biology and life sciences\\\\/Physiology\\\\/Electrophysiology\\\\/Neurophysiology\\\\/Synapses\"],\"subj_top\":[\"Biology and life sciences\",\"Physical sciences\",\"Medicine and health sciences\",\"Engineering and technology\"],\"subj_leaf\":[\"Cytoskeleton\",\"Presynaptic terminals\",\"Neurons\",\"Synapses\",\"Cell membranes\",\"Ion channels\",\"Quantum dots\",\"Voltage-gated ion channels\"]},\"10.1371\\\\/journal.pone.0004722\":{\"publication_date\":\"2009\",\"subject\":[\"\\\\/Biology and life sciences\\\\/Cell biology\\\\/Cellular types\\\\/Animal cells\\\\/Stem cells\\\\/Embryonic stem cells\",\"\\\\/Biology and life sciences\\\\/Genetics\\\\/Gene expression\\\\/Gene regulation\\\\/MicroRNA\",\"\\\\/Biology and life sciences\\\\/Molecular biology\\\\/Molecular biology techniques\\\\/Artificial gene amplification and extension\\\\/Polymerase chain reaction\",\"\\\\/Biology and life sciences\\\\/Biochemistry\\\\/RNA\\\\/Messenger RNA\",\"\\\\/Biology and life sciences\\\\/Molecular biology\\\\/Molecular biology techniques\\\\/Artificial gene amplification and extension\\\\/Polymerase chain reaction\\\\/Reverse transcriptase-polymerase chain reaction\",\"\\\\/Biology and life sciences\\\\/Biochemistry\\\\/RNA\\\\/MicroRNA\",\"\\\\/Biology and life sciences\\\\/Biochemistry\\\\/RNA\\\\/Small interfering RNA\",\"\\\\/Research and analysis methods\\\\/Molecular biology techniques\\\\/Biomolecular isolation\\\\/RNA isolation\",\"\\\\/Biology and life sciences\\\\/Cell biology\\\\/Cellular types\\\\/Animal cells\\\\/Stem cells\\\\/Stem cell niche\",\"\\\\/Research and analysis methods\\\\/Molecular biology techniques\\\\/Artificial gene amplification and extension\\\\/Polymerase chain reaction\",\"\\\\/Research and analysis methods\\\\/Molecular biology techniques\\\\/Artificial gene amplification and extension\\\\/Polymerase chain reaction\\\\/Reverse transcriptase-polymerase chain reaction\",\"\\\\/Biology and life sciences\\\\/Molecular biology\\\\/Molecular biology techniques\\\\/Biomolecular isolation\\\\/RNA isolation\"],\"subj_top\":[\"Biology and life sciences\",\"Research and analysis methods\"],\"subj_leaf\":[\"MicroRNA\",\"Stem cell niche\",\"Embryonic stem cells\",\"Messenger RNA\",\"Small interfering RNA\",\"Reverse transcriptase-polymerase chain reaction\",\"Polymerase chain reaction\",\"RNA isolation\"]},\"10.1371\\\\/journal.pone.0076865\":{\"publication_date\":\"2013\",\"subject\":[\"\\\\/Biology and life sciences\\\\/Biochemistry\\\\/DNA\\\\/DNA modification\\\\/DNA methylation\",\"\\\\/Biology and life sciences\\\\/Cell biology\\\\/Signal transduction\\\\/Cell signaling\\\\/Signaling cascades\\\\/Wnt signaling cascade\",\"\\\\/Biology and life sciences\\\\/Genetics\\\\/Epigenetics\\\\/DNA modification\\\\/DNA methylation\",\"\\\\/Biology and life sciences\\\\/Genetics\\\\/DNA\\\\/DNA modification\\\\/DNA methylation\",\"\\\\/Biology and life sciences\\\\/Nutrition\\\\/Diet\",\"\\\\/Medicine and health sciences\\\\/Anatomy\\\\/Digestive system\\\\/Gastrointestinal tract\\\\/Colon\",\"\\\\/Biology and life sciences\\\\/Anatomy\\\\/Digestive system\\\\/Gastrointestinal tract\\\\/Colon\",\"\\\\/Biology and life sciences\\\\/Genetics\\\\/Gene expression\\\\/DNA modification\\\\/DNA methylation\",\"\\\\/Physical sciences\\\\/Chemistry\\\\/Chemical reactions\\\\/Methylation\",\"\\\\/Medicine and health sciences\\\\/Oncology\\\\/Cancers and neoplasms\\\\/Colorectal cancer\",\"\\\\/Biology and life sciences\\\\/Genetics\\\\/Gene expression\",\"\\\\/Medicine and health sciences\\\\/Nutrition\\\\/Diet\",\"\\\\/Research and analysis methods\\\\/Extraction techniques\\\\/RNA extraction\"],\"subj_top\":[\"Biology and life sciences\",\"Physical sciences\",\"Medicine and health sciences\",\"Research and analysis methods\"],\"subj_leaf\":[\"RNA extraction\",\"Colorectal cancer\",\"Methylation\",\"Wnt signaling cascade\",\"Diet\",\"DNA methylation\",\"Colon\",\"Gene expression\"]},\"10.1371\\\\/journal.pbio.0040157\":{\"publication_date\":\"2006\",\"subject\":[\"\\\\/Research and analysis methods\\\\/Research assessment\\\\/Bibliometrics\",\"\\\\/Computer and information sciences\\\\/Library science\\\\/Institutional repositories\",\"\\\\/Computer and information sciences\\\\/Computer networks\\\\/Internet\",\"\\\\/Physical sciences\\\\/Mathematics\\\\/Statistics (mathematics)\\\\/Statistical methods\\\\/Regression analysis\\\\/Linear regression analysis\",\"\\\\/Research and analysis methods\\\\/Research assessment\\\\/Peer review\",\"\\\\/Research and analysis methods\\\\/Research assessment\\\\/Publication practices\\\\/Open access\",\"\\\\/Research and analysis methods\\\\/Mathematical and statistical techniques\\\\/Statistical methods\\\\/Regression analysis\\\\/Linear regression analysis\",\"\\\\/Physical sciences\\\\/Mathematics\\\\/Statistics (mathematics)\\\\/Confidence intervals\",\"\\\\/People and places\\\\/Population groupings\\\\/Professions\\\\/Scientists\"],\"subj_top\":[\"Physical sciences\",\"People and places\",\"Research and analysis methods\",\"Computer and information sciences\"],\"subj_leaf\":[\"Bibliometrics\",\"Confidence intervals\",\"Institutional repositories\",\"Scientists\",\"Open access\",\"Internet\",\"Peer review\",\"Linear regression analysis\"]},\"10.1371\\\\/journal.pone.0080851\":{\"publication_date\":\"2013\",\"subject\":[\"\\\\/Biology and life sciences\\\\/Biochemistry\\\\/Proteins\\\\/Protein interactions\",\"\\\\/Medicine and health sciences\\\\/Pathology and laboratory medicine\\\\/Pathogens\\\\/Microbial pathogens\\\\/Viral pathogens\\\\/Immunodeficiency viruses\\\\/HIV\",\"\\\\/Biology and life sciences\\\\/Organisms\\\\/Viruses\\\\/Immunodeficiency viruses\\\\/HIV\",\"\\\\/Research and analysis methods\\\\/Precipitation techniques\\\\/Immunoprecipitation\\\\/Co-immunoprecipitation\",\"\\\\/Biology and life sciences\\\\/Organisms\\\\/Viruses\\\\/RNA viruses\\\\/Orthomyxoviruses\\\\/Influenza viruses\\\\/Influenza A virus\",\"\\\\/Biology and life sciences\\\\/Organisms\\\\/Viruses\\\\/Viral pathogens\\\\/Orthomyxoviruses\\\\/Influenza viruses\\\\/Influenza A virus\",\"\\\\/Biology and life sciences\\\\/Biochemistry\\\\/RNA\\\\/Messenger RNA\",\"\\\\/Biology and life sciences\\\\/Microbiology\\\\/Medical microbiology\\\\/Microbial pathogens\\\\/Viral pathogens\\\\/Retroviruses\\\\/HIV\",\"\\\\/Biology and life sciences\\\\/Organisms\\\\/Viruses\\\\/Viral pathogens\\\\/Retroviruses\\\\/HIV\",\"\\\\/Biology and life sciences\\\\/Organisms\\\\/Viruses\\\\/Viral pathogens\\\\/Immunodeficiency viruses\\\\/HIV\",\"\\\\/Biology and life sciences\\\\/Organisms\\\\/Viruses\\\\/RNA viruses\\\\/Retroviruses\\\\/HIV\",\"\\\\/Medicine and health sciences\\\\/Infectious diseases\\\\/Viral diseases\\\\/Influenza\",\"\\\\/Biology and life sciences\\\\/Biochemistry\\\\/Proteins\\\\/Luminescent proteins\\\\/Yellow fluorescent protein\",\"\\\\/Biology and life sciences\\\\/Biochemistry\\\\/RNA\\\\/Messenger RNA\\\\/Untranslated regions\\\\/5\\xe2\\x80\\x99UTR\",\"\\\\/Medicine and health sciences\\\\/Pathology and laboratory medicine\\\\/Pathogens\\\\/Microbial pathogens\\\\/Viral pathogens\\\\/Orthomyxoviruses\\\\/Influenza viruses\\\\/Influenza A virus\",\"\\\\/Medicine and health sciences\\\\/Pathology and laboratory medicine\\\\/Pathogens\\\\/Microbial pathogens\\\\/Viral pathogens\\\\/Retroviruses\\\\/HIV\",\"\\\\/Biology and life sciences\\\\/Microbiology\\\\/Medical microbiology\\\\/Microbial pathogens\\\\/Viral pathogens\\\\/Immunodeficiency viruses\\\\/HIV\",\"\\\\/Biology and life sciences\\\\/Microbiology\\\\/Medical microbiology\\\\/Microbial pathogens\\\\/Viral pathogens\\\\/Orthomyxoviruses\\\\/Influenza viruses\\\\/Influenza A virus\"],\"subj_top\":[\"Biology and life sciences\",\"Medicine and health sciences\",\"Research and analysis methods\"],\"subj_leaf\":[\"Yellow fluorescent protein\",\"Influenza\",\"HIV\",\"Protein interactions\",\"Messenger RNA\",\"5\\xe2\\x80\\x99UTR\",\"Co-immunoprecipitation\",\"Influenza A virus\"]}}'"
       ]
      }
     ],
     "prompt_number": 7
    },
    {
     "cell_type": "markdown",
     "metadata": {},
     "source": [
      "## If all is OK, export.."
     ]
    },
    {
     "cell_type": "code",
     "collapsed": false,
     "input": [
      "df.to_json(path_or_buf='../data/all_plos.json', orient='index', force_ascii=False)"
     ],
     "language": "python",
     "metadata": {},
     "outputs": [],
     "prompt_number": 8
    },
    {
     "cell_type": "markdown",
     "metadata": {},
     "source": [
      "# Transforming the PLOS thesaurus\n",
      "\n",
      "The PLOS thesaurus was kindly provided to us as a spreadsheet with thousands of rows, one node per row. It is a polyhierarchy represented in the form of a tree. We need to transform it into a JSON object that also includes article counts for all the nodes in the tree.\n",
      "\n",
      "An example of the desired data structure for PLOS thesaurus:\n",
      "\n",
      "```\n",
      "{ \n",
      "  \"name\": \"Computer and information sciences\",\n",
      "  \"count\": ###,\n",
      "  \"children\": [\n",
      "    {\n",
      "      \"name\": \"Information technology\",\n",
      "      \"count\": ###,\n",
      "      \"children\": [\n",
      "        {\"name\": \"Data mining\", \"count\": ###},\n",
      "        {\"name\": \"Data reduction\", \"count\": ###}, \n",
      "        {\n",
      "          \"name\":  \"Databases\",\n",
      "          \"count\": ###,\n",
      "          \"children\": [\n",
      "            {\"name\": \"Relational databases\", \"count\": ###}\n",
      "          ]\n",
      "        },\n",
      "        ...,\n",
      "        {\"name\": \"Text mining\",\"count\": ###} \n",
      "      ]\n",
      "    }\n",
      "  ]\n",
      "}, \n",
      "...\n",
      "```\n",
      "\n",
      "In Python, each node is a dict. Children are specified as a list of dicts. The whole thing is a list of nodes, therefore, a list of dicts."
     ]
    },
    {
     "cell_type": "code",
     "collapsed": false,
     "input": [
      "# Let's make sure we are counting articles correctly for each subject node.\n",
      "\n",
      "def count_articles(df, subject_path):\n",
      "    s = df.subject.apply(lambda s: str(s))\n",
      "    matching = s[s.str.contains(subject_path)]\n",
      "    return len(matching)\n",
      "\n",
      "print 'Total articles:', len(df)\n",
      "print 'Science policy:', count_articles(df, 'Science policy')\n",
      "print 'Science policy/Bioethics:', count_articles(df, 'Science policy/Bioethics')"
     ],
     "language": "python",
     "metadata": {},
     "outputs": [
      {
       "output_type": "stream",
       "stream": "stdout",
       "text": [
        "Total articles: 115489\n",
        "Science policy: "
       ]
      },
      {
       "output_type": "stream",
       "stream": "stdout",
       "text": [
        "518\n",
        "Science policy/Bioethics: "
       ]
      },
      {
       "output_type": "stream",
       "stream": "stdout",
       "text": [
        "71\n"
       ]
      }
     ],
     "prompt_number": 9
    },
    {
     "cell_type": "code",
     "collapsed": false,
     "input": [
      "import xlrd\n",
      "from collections import defaultdict\n",
      "\n",
      "def tree_from_spreadsheet(f, df, verbose=False):\n",
      "    \n",
      "    subjects = df.subject.apply(lambda s: str(s))\n",
      "    \n",
      "    book = xlrd.open_workbook(f)\n",
      "    pt = book.sheet_by_index(0)\n",
      "    # spreadsheet cells : (row, col) :: cell A1 = (0, 0)\n",
      "\n",
      "    # Initialize a list to contain the thesaurus.\n",
      "    # Our test case will only have one item in this list.\n",
      "    pt_test = []\n",
      "\n",
      "    # Keep track of the path in the tree.\n",
      "    cur_path = Series([np.nan]*10)\n",
      "\n",
      "    for r in range(1, pt.nrows):\n",
      "        # Start on row two.\n",
      "\n",
      "        # Columns: the hierarchy goes up to 10 tiers.\n",
      "        for c in range(10):\n",
      "            if pt.cell_value(r, c):\n",
      "                # If this condition is satisfied, we are at the node that's in this line.\n",
      "\n",
      "                # Construct the path to this node.\n",
      "                # Clean strings because some terms (RNA nomenclature) cause unicode error\n",
      "                text = pt.cell_value(r, c).replace(u'\\u2019', \"'\")\n",
      "                cur_path[c] = text\n",
      "                cur_path[c+1:] = np.nan\n",
      "                path_list = list(cur_path.dropna())\n",
      "                tier = len(path_list)\n",
      "                path_str = '/'.join(path_list)\n",
      "                if verbose:\n",
      "                    print tier, path_str\n",
      "\n",
      "                # Add the node to the JSON-like tree structure.\n",
      "                node = defaultdict(list)\n",
      "                node['name'] = text\n",
      "                node['count']=  len(subjects[subjects.str.contains(path_str)])\n",
      "\n",
      "                # This part is completely ridiculous. But it seems to work.\n",
      "                if tier == 1:\n",
      "                    pt_test.append(node)\n",
      "                    pt_test.append\n",
      "                elif tier == 2:\n",
      "                    pt_test[-1]['children'].append(node)\n",
      "                elif tier == 3:\n",
      "                    pt_test[-1]['children'][-1]['children'].append(node)\n",
      "                elif tier == 4:\n",
      "                    pt_test[-1]['children'][-1]['children'][-1]['children'].append(node)\n",
      "                elif tier == 5:\n",
      "                    pt_test[-1]['children'][-1]['children'][-1]['children'].append(node)\n",
      "                elif tier == 6:\n",
      "                    pt_test[-1]['children'][-1]['children'][-1]['children'][-1]['children'].append(node)\n",
      "                elif tier == 7:\n",
      "                    pt_test[-1]['children'][-1]['children'][-1]['children'][-1]['children'][-1]['children'].append(node)\n",
      "                elif tier == 8:\n",
      "                    pt_test[-1]['children'][-1]['children'][-1]['children'][-1]['children'][-1]['children'][-1]['children'].append(node)\n",
      "                elif tier == 9:\n",
      "                    pt_test[-1]['children'][-1]['children'][-1]['children'][-1]['children'][-1]['children'][-1]['children'][-1]['children'].append(node)\n",
      "                elif tier == 10:\n",
      "                    pt_test[-1]['children'][-1]['children'][-1]['children'][-1]['children'][-1]['children'][-1]['children'][-1]['children'][-1]['children'].append(node)\n",
      "\n",
      "                # Go to next row after finding a term. There is only one term listed per row.\n",
      "                break\n",
      "\n",
      "    return pt_test"
     ],
     "language": "python",
     "metadata": {},
     "outputs": [],
     "prompt_number": 10
    },
    {
     "cell_type": "markdown",
     "metadata": {},
     "source": [
      "## Prototyping\n",
      "\n",
      "Experimenting on a smaller subset of the thesaurus: the very small ``Science policy`` branch."
     ]
    },
    {
     "cell_type": "code",
     "collapsed": false,
     "input": [
      "plosthes_test_file = '../data/plosthes_test.xlsx'\n",
      "\n",
      "json.dumps(tree_from_spreadsheet(plosthes_test_file, df, verbose=True))"
     ],
     "language": "python",
     "metadata": {},
     "outputs": [
      {
       "output_type": "stream",
       "stream": "stdout",
       "text": [
        "1 Science policy\n",
        "2"
       ]
      },
      {
       "output_type": "stream",
       "stream": "stdout",
       "text": [
        " Science policy/Bioethics\n",
        "3"
       ]
      },
      {
       "output_type": "stream",
       "stream": "stdout",
       "text": [
        " Science policy/Bioethics/Justice in science\n",
        "3"
       ]
      },
      {
       "output_type": "stream",
       "stream": "stdout",
       "text": [
        " Science policy/Bioethics/Respect for human dignity\n",
        "3"
       ]
      },
      {
       "output_type": "stream",
       "stream": "stdout",
       "text": [
        " Science policy/Bioethics/Sanctity of life\n",
        "3"
       ]
      },
      {
       "output_type": "stream",
       "stream": "stdout",
       "text": [
        " Science policy/Bioethics/Scientific beneficence\n",
        "3"
       ]
      },
      {
       "output_type": "stream",
       "stream": "stdout",
       "text": [
        " Science policy/Bioethics/Scientific nonmaleficence\n",
        "2"
       ]
      },
      {
       "output_type": "stream",
       "stream": "stdout",
       "text": [
        " Science policy/Material transfer agreements\n",
        "2"
       ]
      },
      {
       "output_type": "stream",
       "stream": "stdout",
       "text": [
        " Science policy/Research funding\n",
        "3"
       ]
      },
      {
       "output_type": "stream",
       "stream": "stdout",
       "text": [
        " Science policy/Research funding/Corporate funding of science\n",
        "3"
       ]
      },
      {
       "output_type": "stream",
       "stream": "stdout",
       "text": [
        " Science policy/Research funding/Government funding of science\n",
        "3"
       ]
      },
      {
       "output_type": "stream",
       "stream": "stdout",
       "text": [
        " Science policy/Research funding/Institutional funding of science\n",
        "3"
       ]
      },
      {
       "output_type": "stream",
       "stream": "stdout",
       "text": [
        " Science policy/Research funding/Military funding of science\n",
        "3"
       ]
      },
      {
       "output_type": "stream",
       "stream": "stdout",
       "text": [
        " Science policy/Research funding/Philanthropic funding of science\n",
        "3"
       ]
      },
      {
       "output_type": "stream",
       "stream": "stdout",
       "text": [
        " Science policy/Research funding/Research grants\n",
        "2"
       ]
      },
      {
       "output_type": "stream",
       "stream": "stdout",
       "text": [
        " Science policy/Research integrity\n",
        "3"
       ]
      },
      {
       "output_type": "stream",
       "stream": "stdout",
       "text": [
        " Science policy/Research integrity/Publication ethics\n",
        "3"
       ]
      },
      {
       "output_type": "stream",
       "stream": "stdout",
       "text": [
        " Science policy/Research integrity/Scientific misconduct\n",
        "2"
       ]
      },
      {
       "output_type": "stream",
       "stream": "stdout",
       "text": [
        " Science policy/Science and technology workforce\n",
        "3"
       ]
      },
      {
       "output_type": "stream",
       "stream": "stdout",
       "text": [
        " Science policy/Science and technology workforce/Careers in research\n",
        "2"
       ]
      },
      {
       "output_type": "stream",
       "stream": "stdout",
       "text": [
        " Science policy/Science education\n",
        "3"
       ]
      },
      {
       "output_type": "stream",
       "stream": "stdout",
       "text": [
        " Science policy/Science education/Science fairs\n",
        "2"
       ]
      },
      {
       "output_type": "stream",
       "stream": "stdout",
       "text": [
        " Science policy/Science policy and economics\n",
        "2"
       ]
      },
      {
       "output_type": "stream",
       "stream": "stdout",
       "text": [
        " Science policy/Technology regulations\n"
       ]
      },
      {
       "metadata": {},
       "output_type": "pyout",
       "prompt_number": 15,
       "text": [
        "'[{\"count\": 518, \"name\": \"Science policy\", \"children\": [{\"count\": 71, \"name\": \"Bioethics\", \"children\": [{\"count\": 1, \"name\": \"Justice in science\"}, {\"count\": 2, \"name\": \"Respect for human dignity\"}, {\"count\": 1, \"name\": \"Sanctity of life\"}, {\"count\": 2, \"name\": \"Scientific beneficence\"}, {\"count\": 1, \"name\": \"Scientific nonmaleficence\"}]}, {\"count\": 1, \"name\": \"Material transfer agreements\"}, {\"count\": 198, \"name\": \"Research funding\", \"children\": [{\"count\": 17, \"name\": \"Corporate funding of science\"}, {\"count\": 67, \"name\": \"Government funding of science\"}, {\"count\": 18, \"name\": \"Institutional funding of science\"}, {\"count\": 2, \"name\": \"Military funding of science\"}, {\"count\": 4, \"name\": \"Philanthropic funding of science\"}, {\"count\": 91, \"name\": \"Research grants\"}]}, {\"count\": 96, \"name\": \"Research integrity\", \"children\": [{\"count\": 68, \"name\": \"Publication ethics\"}, {\"count\": 17, \"name\": \"Scientific misconduct\"}]}, {\"count\": 31, \"name\": \"Science and technology workforce\", \"children\": [{\"count\": 31, \"name\": \"Careers in research\"}]}, {\"count\": 26, \"name\": \"Science education\", \"children\": [{\"count\": 0, \"name\": \"Science fairs\"}]}, {\"count\": 3, \"name\": \"Science policy and economics\"}, {\"count\": 6, \"name\": \"Technology regulations\"}]}]'"
       ]
      }
     ],
     "prompt_number": 15
    },
    {
     "cell_type": "markdown",
     "metadata": {},
     "source": [
      "## Ready for full conversion and export?\n",
      "\n",
      "Warning: it takes a minute."
     ]
    },
    {
     "cell_type": "code",
     "collapsed": false,
     "input": [
      "plosthes_full_file = '../data/plosthes.2014-1.full.xlsx'\n",
      "\n",
      "plos_tree = tree_from_spreadsheet(plosthes_full_file, df)\n",
      "\n",
      "with open('../data/plos_tree.json', 'wb') as f:\n",
      "    json.dump(plos_tree, f)"
     ],
     "language": "python",
     "metadata": {},
     "outputs": [
      {
       "output_type": "stream",
       "stream": "stderr",
       "text": [
        "/Users/agswigart/anaconda/envs/myenv/lib/python2.7/site-packages/pandas/core/strings.py:184: UserWarning: This pattern has match groups. To actually get the groups, use str.extract.\n",
        "  \" groups, use str.extract.\", UserWarning)\n"
       ]
      }
     ],
     "prompt_number": 11
    }
   ],
   "metadata": {}
  }
 ]
}