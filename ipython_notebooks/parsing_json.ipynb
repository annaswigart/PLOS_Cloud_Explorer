{
 "metadata": {
  "name": "",
  "signature": "sha256:78ba045631daa244849350978694e45388ffc0d7d86b98a839e12a5beaf9d098"
 },
 "nbformat": 3,
 "nbformat_minor": 0,
 "worksheets": [
  {
   "cells": [
    {
     "cell_type": "code",
     "collapsed": false,
     "input": [
      "import pandas as pd\n",
      "import json"
     ],
     "language": "python",
     "metadata": {},
     "outputs": [
      {
       "output_type": "stream",
       "stream": "stderr",
       "text": [
        "/Users/colingerber/anaconda/lib/python2.7/site-packages/pytz-2013b-py2.7.egg/pytz/__init__.py:35: UserWarning: Module argparse was already imported from /Users/colingerber/anaconda/python.app/Contents/lib/python2.7/argparse.pyc, but /Users/colingerber/anaconda/lib/python2.7/site-packages is being added to sys.path\n",
        "  from pkg_resources import resource_stream\n"
       ]
      }
     ],
     "prompt_number": 1
    },
    {
     "cell_type": "code",
     "collapsed": false,
     "input": [
      "with open('biotechnew.json', 'rb') as fp:\n",
      "    data = json.load(fp)"
     ],
     "language": "python",
     "metadata": {},
     "outputs": [],
     "prompt_number": 2
    },
    {
     "cell_type": "code",
     "collapsed": false,
     "input": [
      "print data['response']"
     ],
     "language": "python",
     "metadata": {},
     "outputs": [
      {
       "output_type": "stream",
       "stream": "stdout",
       "text": [
        "{u'start': 0, u'maxScore': 1.2068938, u'numFound': 30682, u'docs': [{u'journal': u'PLoS ONE', u'article_type': u'Research Article', u'score': 1.2068938, u'publication_date': u'2014-01-29T00:00:00Z', u'eissn': u'1932-6203', u'id': u'10.1371/journal.pone.0086174/title'}, {u'journal': u'PLoS ONE', u'article_type': u'Research Article', u'score': 1.2068938, u'publication_date': u'2014-01-29T00:00:00Z', u'eissn': u'1932-6203', u'id': u'10.1371/journal.pone.0086174/abstract'}, {u'journal': u'PLoS ONE', u'article_type': u'Research Article', u'score': 1.2068938, u'publication_date': u'2014-01-29T00:00:00Z', u'eissn': u'1932-6203', u'id': u'10.1371/journal.pone.0086174/references'}, {u'journal': u'PLoS ONE', u'article_type': u'Research Article', u'score': 1.2068938, u'publication_date': u'2014-01-29T00:00:00Z', u'eissn': u'1932-6203', u'id': u'10.1371/journal.pone.0086174/body'}, {u'journal': u'PLoS ONE', u'article_type': u'Research Article', u'score': 1.2068938, u'publication_date': u'2014-01-29T00:00:00Z', u'eissn': u'1932-6203', u'id': u'10.1371/journal.pone.0086174/introduction'}, {u'journal': u'PLoS ONE', u'article_type': u'Research Article', u'score': 1.2068938, u'publication_date': u'2014-01-29T00:00:00Z', u'eissn': u'1932-6203', u'id': u'10.1371/journal.pone.0086174/results_and_discussion'}, {u'journal': u'PLoS ONE', u'article_type': u'Research Article', u'score': 1.2068938, u'publication_date': u'2014-01-29T00:00:00Z', u'eissn': u'1932-6203', u'id': u'10.1371/journal.pone.0086174/materials_and_methods'}, {u'journal': u'PLoS ONE', u'article_type': u'Research Article', u'score': 1.2068938, u'publication_date': u'2014-01-29T00:00:00Z', u'eissn': u'1932-6203', u'id': u'10.1371/journal.pone.0086174/conclusions'}, {u'journal': u'PLoS ONE', u'id': u'10.1371/journal.pone.0086174', u'author_display': [u'Latifah Amin', u'Md. Abul Kalam Azad', u'Mohd Hanafy Gausmian', u'Faizah Zulkifli'], u'article_type': u'Research Article', u'score': 1.2068938, u'title_display': u'Determinants of Public Attitudes to Genetically Modified Salmon', u'publication_date': u'2014-01-29T00:00:00Z', u'eissn': u'1932-6203', u'abstract': [u'\\nThe objective of this paper is to assess the attitude of Malaysian stakeholders to genetically modified (GM) salmon and to identify the factors that influence their acceptance of GM salmon using a structural equation model. A survey was carried out on 434 representatives from various stakeholder groups in the Klang Valley region of Malaysia. Public attitude towards GM salmon was measured using self-developed questionnaires with seven-point Likert scales. The findings of this study have confirmed that public attitudes towards GM salmon is a complex issue and should be seen as a multi-faceted process. The most important direct predictors for the encouragement of GM salmon are the specific application-linked perceptions about religious acceptability of GM salmon followed by perceived risks and benefits, familiarity, and general promise of modern biotechnology. Encouragement of GM salmon also involves the interplay among other factors such as general concerns of biotechnology, threatening the natural order of things, the need for labeling, the need for patenting, confidence in regulation, and societal values. The research findings can serve as a database that will be useful for understanding the social construct of public attitude towards GM foods in a developing country.\\n']}, {u'journal': u'PLoS ONE', u'id': u'10.1371/journal.pone.0070686', u'author_display': [u'Yonggang Yang', u'Meiying Xu', u'Zhili He', u'Jun Guo', u'Guoping Sun', u'Jizhong Zhou'], u'article_type': u'Research Article', u'score': 1.1148808, u'title_display': u'Microbial Electricity Generation Enhances Decabromodiphenyl Ether (BDE-209) Degradation', u'publication_date': u'2013-08-05T00:00:00Z', u'eissn': u'1932-6203', u'abstract': [u'\\nDue to environmental persistence and biotoxicity of polybrominated diphenyl ethers (PBDEs), it is urgent to develop potential technologies to remediate PBDEs. Introducing electrodes for microbial electricity generation to stimulate the anaerobic degradation of organic pollutants is highly promising for bioremediation. However, it is still not clear whether the degradation of PBDEs could be promoted by this strategy. In this study, we hypothesized that the degradation of PBDEs (e.g., BDE-209) would be enhanced under microbial electricity generation condition. The functional compositions and structures of microbial communities in closed-circuit microbial fuel cell (c-MFC) and open-circuit microbial fuel cell (o-MFC) systems for BDE-209 degradation were detected by a comprehensive functional gene array, GeoChip 4.0, and linked with PBDE degradations. The results indicated that distinctly different microbial community structures were formed between c-MFCs and o-MFCs, and that lower concentrations of BDE-209 and the resulting lower brominated PBDE products were detected in c-MFCs after 70-day performance. The diversity and abundance of a variety of functional genes in c-MFCs were significantly higher than those in o-MFCs. Most genes involved in chlorinated solvent reductive dechlorination, hydroxylation, methoxylation and aromatic hydrocarbon degradation were highly enriched in c-MFCs and significantly positively correlated with the removal of PBDEs. Various other microbial functional genes for carbon, nitrogen, phosphorus and sulfur cycling, as well as energy transformation process, were also significantly increased in c-MFCs. Together, these results suggest that PBDE degradation could be enhanced by introducing the electrodes for microbial electricity generation and by specifically stimulating microbial functional genes.\\n']}, {u'journal': u'PLoS ONE', u'article_type': u'Research Article', u'score': 1.1148808, u'publication_date': u'2013-08-05T00:00:00Z', u'eissn': u'1932-6203', u'id': u'10.1371/journal.pone.0070686/title'}, {u'journal': u'PLoS ONE', u'article_type': u'Research Article', u'score': 1.1148808, u'publication_date': u'2013-08-05T00:00:00Z', u'eissn': u'1932-6203', u'id': u'10.1371/journal.pone.0070686/abstract'}, {u'journal': u'PLoS ONE', u'article_type': u'Research Article', u'score': 1.1148808, u'publication_date': u'2013-08-05T00:00:00Z', u'eissn': u'1932-6203', u'id': u'10.1371/journal.pone.0070686/references'}, {u'journal': u'PLoS ONE', u'article_type': u'Research Article', u'score': 1.1148808, u'publication_date': u'2013-08-05T00:00:00Z', u'eissn': u'1932-6203', u'id': u'10.1371/journal.pone.0070686/body'}, {u'journal': u'PLoS ONE', u'article_type': u'Research Article', u'score': 1.1148808, u'publication_date': u'2013-08-05T00:00:00Z', u'eissn': u'1932-6203', u'id': u'10.1371/journal.pone.0070686/introduction'}, {u'journal': u'PLoS ONE', u'article_type': u'Research Article', u'score': 1.1148808, u'publication_date': u'2013-08-05T00:00:00Z', u'eissn': u'1932-6203', u'id': u'10.1371/journal.pone.0070686/results_and_discussion'}, {u'journal': u'PLoS ONE', u'article_type': u'Research Article', u'score': 1.1148808, u'publication_date': u'2013-08-05T00:00:00Z', u'eissn': u'1932-6203', u'id': u'10.1371/journal.pone.0070686/materials_and_methods'}, {u'journal': u'PLoS ONE', u'article_type': u'Research Article', u'score': 1.1148808, u'publication_date': u'2013-08-05T00:00:00Z', u'eissn': u'1932-6203', u'id': u'10.1371/journal.pone.0070686/supporting_information'}, {u'abstract': [u'\\n        Intensive use of chlorpyrifos has resulted in its ubiquitous presence as a contaminant in surface streams and soils. It is thus critically essential to develop bioremediation methods to degrade and eliminate this pollutant from environments. We present here that a new fungal strain Hu-01 with high chlorpyrifos-degradation activity was isolated and identified as Cladosporium cladosporioides based on the morphology and 5.8S rDNA gene analysis. Strain Hu-01 utilized 50 mg\\xb7L\\u22121 of chlorpyrifos as the sole carbon of source, and tolerated high concentration of chlorpyrifos up to 500 mg\\xb7L\\u22121. The optimum degradation conditions were determined to be 26.8\\xb0C and pH 6.5 based on the response surface methodology (RSM). Under these conditions, strain Hu-01 completely metabolized the supplemented chlorpyrifos (50 mg\\xb7L\\u22121) within 5 d. During the biodegradation process, transient accumulation of 3,5,6-trichloro-2-pyridinol (TCP) was observed. However, this intermediate product did not accumulate in the medium and disappeared quickly. No persistent accumulative metabolite was detected by gas chromatopraphy-mass spectrometry (GC-MS) analysis at the end of experiment. Furthermore, degradation kinetics of chlorpyrifos and TCP followed the first-order model. Compared to the non-inoculated controls, the half-lives (t1/2) of chlorpyrifos and TCP significantly reduced by 688.0 and 986.9 h with the inoculum, respectively. The isolate harbors the metabolic pathway for the complete detoxification of chlorpyrifos and its hydrolysis product TCP, thus suggesting the fungus may be a promising candidate for bioremediation of chlorpyrifos-contaminated water, soil or crop.\\n      '], u'author_display': [u'Shaohua Chen', u'Chenglan Liu', u'Chuyan Peng', u'Hongmei Liu', u'Meiying Hu', u'Guohua Zhong'], u'article_type': u'Research Article', u'score': 1.1148808, u'title_display': u'Biodegradation of Chlorpyrifos and Its Hydrolysis Product 3,5,6-Trichloro-2-Pyridinol by a New Fungal Strain <i>Cladosporium cladosporioides</i> Hu-01', u'publication_date': u'2012-10-08T00:00:00Z', u'eissn': u'1932-6203', u'id': u'10.1371/journal.pone.0047205'}, {u'publication_date': u'2012-10-08T00:00:00Z', u'eissn': u'1932-6203', u'id': u'10.1371/journal.pone.0047205/title', u'score': 1.1148808, u'article_type': u'Research Article'}, {u'publication_date': u'2012-10-08T00:00:00Z', u'eissn': u'1932-6203', u'id': u'10.1371/journal.pone.0047205/abstract', u'score': 1.1148808, u'article_type': u'Research Article'}, {u'publication_date': u'2012-10-08T00:00:00Z', u'eissn': u'1932-6203', u'id': u'10.1371/journal.pone.0047205/references', u'score': 1.1148808, u'article_type': u'Research Article'}, {u'publication_date': u'2012-10-08T00:00:00Z', u'eissn': u'1932-6203', u'id': u'10.1371/journal.pone.0047205/body', u'score': 1.1148808, u'article_type': u'Research Article'}, {u'publication_date': u'2012-10-08T00:00:00Z', u'eissn': u'1932-6203', u'id': u'10.1371/journal.pone.0047205/introduction', u'score': 1.1148808, u'article_type': u'Research Article'}, {u'publication_date': u'2012-10-08T00:00:00Z', u'eissn': u'1932-6203', u'id': u'10.1371/journal.pone.0047205/results_and_discussion', u'score': 1.1148808, u'article_type': u'Research Article'}, {u'publication_date': u'2012-10-08T00:00:00Z', u'eissn': u'1932-6203', u'id': u'10.1371/journal.pone.0047205/materials_and_methods', u'score': 1.1148808, u'article_type': u'Research Article'}, {u'publication_date': u'2012-10-08T00:00:00Z', u'eissn': u'1932-6203', u'id': u'10.1371/journal.pone.0047205/supporting_information', u'score': 1.1148808, u'article_type': u'Research Article'}, {u'journal': u'PLoS ONE', u'id': u'10.1371/journal.pone.0037140', u'author_display': [u'Cristina A. Viegas', u'Catarina Costa', u'Sandra Andr\\xe9', u'Paula Viana', u'Rui Ribeiro', u'Matilde Moreira-Santos'], u'article_type': u'Research Article', u'score': 1.1148808, u'title_display': u'Does <i>S</i>-Metolachlor Affect the Performance of <i>Pseudomonas</i> sp. Strain ADP as Bioaugmentation Bacterium for Atrazine-Contaminated Soils?', u'publication_date': u'2012-05-15T00:00:00Z', u'eissn': u'1932-6203', u'abstract': [u'\\n        Atrazine (ATZ) and S-metolachlor (S-MET) are two herbicides widely used, often as mixtures. The present work examined whether the presence of S-MET affects the ATZ-biodegradation activity of the bioaugmentation bacterium Pseudomonas sp. strain ADP in a crop soil. S-MET concentrations were selected for their relevance in worst-case scenarios of soil contamination by a commercial formulation containing both herbicides. At concentrations representative of application of high doses of the formulation (up to 50 \\xb5g g\\u22121 of soil, corresponding to a dose approximately 50\\xd7 higher than the recommended field dose (RD)), the presence of pure S-MET significantly affected neither bacteria survival (\\u223c107 initial viable cells g\\u22121 of soil) nor its ATZ-mineralization activity. Consistently, biodegradation experiments, in larger soil microcosms spiked with 20\\xd7 or 50\\xd7RD of the double formulation and inoculated with the bacterium, revealed ATZ to be rapidly (in up to 5 days) and extensively (>96%) removed from the soil. During the 5 days, concentration of S-MET decreased moderately to about 60% of the initial, both in inoculated and non-inoculated microcosms. Concomitantly, an accumulation of the two metabolites S-MET ethanesulfonic acid and S-MET oxanilic acid was found. Despite the dissipation of almost all the ATZ from the treated soils, the respective eluates were still highly toxic to an aquatic microalgae species, being as toxic as those from the untreated soil. We suggest that this high toxicity may be due to the S-MET and/or its metabolites remaining in the soil.\\n      ']}, {u'journal': u'PLoS ONE', u'article_type': u'Research Article', u'score': 1.1148808, u'publication_date': u'2012-05-15T00:00:00Z', u'eissn': u'1932-6203', u'id': u'10.1371/journal.pone.0037140/title'}, {u'journal': u'PLoS ONE', u'article_type': u'Research Article', u'score': 1.1148808, u'publication_date': u'2012-05-15T00:00:00Z', u'eissn': u'1932-6203', u'id': u'10.1371/journal.pone.0037140/abstract'}, {u'journal': u'PLoS ONE', u'article_type': u'Research Article', u'score': 1.1148808, u'publication_date': u'2012-05-15T00:00:00Z', u'eissn': u'1932-6203', u'id': u'10.1371/journal.pone.0037140/references'}, {u'journal': u'PLoS ONE', u'article_type': u'Research Article', u'score': 1.1148808, u'publication_date': u'2012-05-15T00:00:00Z', u'eissn': u'1932-6203', u'id': u'10.1371/journal.pone.0037140/body'}, {u'journal': u'PLoS ONE', u'article_type': u'Research Article', u'score': 1.1148808, u'publication_date': u'2012-05-15T00:00:00Z', u'eissn': u'1932-6203', u'id': u'10.1371/journal.pone.0037140/introduction'}, {u'journal': u'PLoS ONE', u'article_type': u'Research Article', u'score': 1.1148808, u'publication_date': u'2012-05-15T00:00:00Z', u'eissn': u'1932-6203', u'id': u'10.1371/journal.pone.0037140/results_and_discussion'}, {u'journal': u'PLoS ONE', u'article_type': u'Research Article', u'score': 1.1148808, u'publication_date': u'2012-05-15T00:00:00Z', u'eissn': u'1932-6203', u'id': u'10.1371/journal.pone.0037140/materials_and_methods'}, {u'journal': u'PLoS ONE', u'article_type': u'Research Article', u'score': 0.98542464, u'publication_date': u'2013-05-17T00:00:00Z', u'eissn': u'1932-6203', u'id': u'10.1371/journal.pone.0063181/title'}, {u'journal': u'PLoS ONE', u'article_type': u'Research Article', u'score': 0.98542464, u'publication_date': u'2013-05-17T00:00:00Z', u'eissn': u'1932-6203', u'id': u'10.1371/journal.pone.0063181/abstract'}, {u'journal': u'PLoS ONE', u'article_type': u'Research Article', u'score': 0.98542464, u'publication_date': u'2013-05-17T00:00:00Z', u'eissn': u'1932-6203', u'id': u'10.1371/journal.pone.0063181/references'}, {u'journal': u'PLoS ONE', u'article_type': u'Research Article', u'score': 0.98542464, u'publication_date': u'2013-05-17T00:00:00Z', u'eissn': u'1932-6203', u'id': u'10.1371/journal.pone.0063181/body'}, {u'journal': u'PLoS ONE', u'article_type': u'Research Article', u'score': 0.98542464, u'publication_date': u'2013-05-17T00:00:00Z', u'eissn': u'1932-6203', u'id': u'10.1371/journal.pone.0063181/introduction'}, {u'journal': u'PLoS ONE', u'article_type': u'Research Article', u'score': 0.98542464, u'publication_date': u'2013-05-17T00:00:00Z', u'eissn': u'1932-6203', u'id': u'10.1371/journal.pone.0063181/results_and_discussion'}, {u'journal': u'PLoS ONE', u'id': u'10.1371/journal.pone.0063181', u'author_display': [u'Stephen T. Chambers', u'David Murdoch', u'Arthur Morris', u'David Holland', u'Paul Pappas', u'Manel Almela', u'Nuria Fern\\xe1ndez-Hidalgo', u'Benito Almirante', u'Emilio Bouza', u'Davide Forno', u'Ana del Rio', u'Margaret M. Hannan', u'John Harkness', u'Zeina A. Kanafani', u'Tahaniyat Lalani', u'Selwyn Lang', u'Nigel Raymond', u'Kerry Read', u'Tatiana Vinogradova', u'Christopher W. Woods', u'Dannah Wray', u'G. Ralph Corey', u'Vivian H. Chu', u'International Collaboration on Endocarditis Prospective Cohort Study (ICE-PCS) Investigators '], u'article_type': u'Research Article', u'score': 0.98542464, u'title_display': u'HACEK Infective Endocarditis: Characteristics and Outcomes from a Large, Multi-National Cohort', u'publication_date': u'2013-05-17T00:00:00Z', u'eissn': u'1932-6203', u'abstract': [u'\\nThe HACEK organisms (Haemophilus species, Aggregatibacter species, Cardiobacterium hominis, Eikenella corrodens, and Kingella species) are rare causes of infective endocarditis (IE). The objective of this study is to describe the clinical characteristics and outcomes of patients with HACEK endocarditis (HE) in a large multi-national cohort. Patients hospitalized with definite or possible infective endocarditis by the International Collaboration on Endocarditis Prospective Cohort Study in 64 hospitals from 28 countries were included and characteristics of HE patients compared with IE due to other pathogens. Of 5591 patients enrolled, 77 (1.4%) had HE. HE was associated with a younger age (47 vs. 61 years; p<0.001), a higher prevalence of immunologic/vascular manifestations (32% vs. 20%; p<0.008) and stroke (25% vs. 17% p\\u200a=\\u200a0.05) but a lower prevalence of congestive heart failure (15% vs. 30%; p\\u200a=\\u200a0.004), death in-hospital (4% vs. 18%; p\\u200a=\\u200a0.001) or after 1 year follow-up (6% vs. 20%; p\\u200a=\\u200a0.01) than IE due to other pathogens (n\\u200a=\\u200a5514). On multivariable analysis, stroke was associated with mitral valve vegetations (OR 3.60; CI 1.34\\u20139.65; p<0.01) and younger age (OR 0.62; CI 0.49\\u20130.90; p<0.01). The overall outcome of HE was excellent with the in-hospital mortality (4%) significantly better than for non-HE (18%; p<0.001). Prosthetic valve endocarditis was more common in HE (35%) than non-HE (24%). The outcome of prosthetic valve and native valve HE was excellent whether treated medically or with surgery. Current treatment is very successful for the management of both native valve prosthetic valve HE but further studies are needed to determine why HE has a predilection for younger people and to cause stroke. The small number of patients and observational design limit inferences on treatment strategies. Self selection of study sites limits epidemiological inferences.\\n']}, {u'abstract': [u'Objective: To estimate the effectiveness of anterior cervical discectomy with arthroplasty (ACDA) compared to anterior cervical discectomy with fusion (ACDF) for patient-important outcomes for single-level cervical spondylosis. Data sources: Electronic databases (MEDLINE, EMBASE, Cochrane Register for Randomized Controlled Trials, BIOSIS and LILACS), archives of spine meetings and bibliographies of relevant articles. Study selection: We included RCTs of ACDF versus ACDA in adult patients with single-level cervical spondylosis reporting at least one of the following outcomes: functionality, neurological success, neck pain, arm pain, quality of life, surgery for adjacent level degeneration (ALD), reoperation and dysphonia/dysphagia. We used no language restrictions. We performed title and abstract screening and full text screening independently and in duplicate. Data synthesis: We used random-effects model to pool data using mean difference (MD) for continuous outcomes and relative risk (RR) for dichotomous outcomes. We used GRADE to evaluate the quality of evidence for each outcome. Results: Of 2804 citations, 9 articles reporting on 9 trials (1778 participants) were eligible. ACDA is associated with a clinically significant lower incidence of neurologic failure (RR \\u200a=\\u200a0.53, 95% CI \\u200a=\\u200a0.37\\u20130.75, p\\u200a=\\u200a0.0004) and improvement in the Neck pain visual analogue scale (VAS) (MD \\u200a=\\u200a6.56, 95% CI \\u200a=\\u200a3.22\\u20139.90, p\\u200a=\\u200a0.0001; Minimal clinically important difference (MCID) \\u200a=\\u200a2.5. ACDA is associated with a statistically but not clinically significant improvement in Arm pain VAS and SF-36 physical component summary. ACDA is associated with non-statistically significant higher improvement in the Neck Disability Index Score and lower incidence of ALD requiring surgery, reoperation, and dysphagia/dysphonia. Conclusions: There is no strong evidence to support the routine use of ACDA over ACDF in single-level cervical spondylosis. Current trials lack long-term data required to assess safety as well as surgery for ALD. We suggest that ACDA in patients with single level cervical spondylosis is an option although its benefits and indication over ACDF remain in question. '], u'author_display': [u'Aria Fallah', u'Elie A. Akl', u'Shanil Ebrahim', u'George M. Ibrahim', u'Alireza Mansouri', u'Clary J. Foote', u'Yuqing Zhang', u'Michael G. Fehlings'], u'article_type': u'Research Article', u'score': 0.98542464, u'title_display': u'Anterior Cervical Discectomy with Arthroplasty versus Arthrodesis for Single-Level Cervical Spondylosis: A Systematic Review and Meta-Analysis', u'publication_date': u'2012-08-17T00:00:00Z', u'eissn': u'1932-6203', u'id': u'10.1371/journal.pone.0043407'}, {u'publication_date': u'2012-08-17T00:00:00Z', u'eissn': u'1932-6203', u'id': u'10.1371/journal.pone.0043407/title', u'score': 0.98542464, u'article_type': u'Research Article'}, {u'publication_date': u'2012-08-17T00:00:00Z', u'eissn': u'1932-6203', u'id': u'10.1371/journal.pone.0043407/abstract', u'score': 0.98542464, u'article_type': u'Research Article'}, {u'publication_date': u'2012-08-17T00:00:00Z', u'eissn': u'1932-6203', u'id': u'10.1371/journal.pone.0043407/references', u'score': 0.98542464, u'article_type': u'Research Article'}, {u'publication_date': u'2012-08-17T00:00:00Z', u'eissn': u'1932-6203', u'id': u'10.1371/journal.pone.0043407/body', u'score': 0.98542464, u'article_type': u'Research Article'}, {u'publication_date': u'2012-08-17T00:00:00Z', u'eissn': u'1932-6203', u'id': u'10.1371/journal.pone.0043407/introduction', u'score': 0.98542464, u'article_type': u'Research Article'}, {u'publication_date': u'2012-08-17T00:00:00Z', u'eissn': u'1932-6203', u'id': u'10.1371/journal.pone.0043407/results_and_discussion', u'score': 0.98542464, u'article_type': u'Research Article'}, {u'publication_date': u'2012-08-17T00:00:00Z', u'eissn': u'1932-6203', u'id': u'10.1371/journal.pone.0043407/materials_and_methods', u'score': 0.98542464, u'article_type': u'Research Article'}, {u'publication_date': u'2012-08-17T00:00:00Z', u'eissn': u'1932-6203', u'id': u'10.1371/journal.pone.0043407/supporting_information', u'score': 0.98542464, u'article_type': u'Research Article'}, {u'journal': u'PLoS ONE', u'id': u'10.1371/journal.pone.0023195', u'author_display': [u'Sabine Neuss', u'Bernd Denecke', u'Lin Gan', u'Qiong Lin', u'Manfred Bovi', u'Christian Apel', u'Michael W\\xf6ltje', u'Anandhan Dhanasingh', u'Jochen Salber', u'Ruth Kn\\xfcchel', u'Martin Zenke'], u'article_type': u'Research Article', u'score': 0.98542464, u'title_display': u'Transcriptome Analysis of MSC and MSC-Derived Osteoblasts on Resomer\\xae LT706 and PCL: Impact of Biomaterial Substrate on Osteogenic Differentiation', u'publication_date': u'2011-09-14T00:00:00Z', u'eissn': u'1932-6203', u'abstract': [u'Background: Mesenchymal stem cells (MSC) represent a particularly attractive cell type for bone tissue engineering because of their ex vivo expansion potential and multipotent differentiation capacity. MSC are readily differentiated towards mature osteoblasts with well-established protocols. However, tissue engineering frequently involves three-dimensional scaffolds which (i) allow for cell adhesion in a spatial environment and (ii) meet application-specific criteria, such as stiffness, degradability and biocompatibility. Methodology/Principal Findings: In the present study, we analysed two synthetic, long-term degradable polymers for their impact on MSC-based bone tissue engineering: PLLA-co-TMC (Resomer\\xae LT706) and poly(\\u03b5-caprolactone) (PCL). Both polymers enhance the osteogenic differentiation compared to tissue culture polystyrene (TCPS) as determined by Alizarin red stainings, scanning electron microscopy, PCR and whole genome expression analysis. Resomer\\xae LT706 and PCL differ in their influence on gene expression, with Resomer\\xae LT706 being more potent in supporting osteogenic differentiation of MSC. The major trigger on the osteogenic fate, however, is from osteogenic induction medium. Conclusion: This study demonstrates an enhanced osteogenic differentiation of MSC on Resomer\\xae LT706 and PCL compared to TCPS. MSC cultured on Resomer\\xae LT706 showed higher numbers of genes involved in skeletal development and bone formation. This identifies Resomer\\xae LT706 as particularly attractive scaffold material for bone tissue engineering. ']}, {u'journal': u'PLoS ONE', u'article_type': u'Research Article', u'score': 0.98542464, u'publication_date': u'2011-09-14T00:00:00Z', u'eissn': u'1932-6203', u'id': u'10.1371/journal.pone.0023195/introduction'}, {u'journal': u'PLoS ONE', u'article_type': u'Research Article', u'score': 0.98542464, u'publication_date': u'2011-09-14T00:00:00Z', u'eissn': u'1932-6203', u'id': u'10.1371/journal.pone.0023195/results_and_discussion'}, {u'journal': u'PLoS ONE', u'article_type': u'Research Article', u'score': 0.98542464, u'publication_date': u'2011-09-14T00:00:00Z', u'eissn': u'1932-6203', u'id': u'10.1371/journal.pone.0023195/title'}, {u'journal': u'PLoS ONE', u'article_type': u'Research Article', u'score': 0.98542464, u'publication_date': u'2011-09-14T00:00:00Z', u'eissn': u'1932-6203', u'id': u'10.1371/journal.pone.0023195/abstract'}, {u'journal': u'PLoS ONE', u'article_type': u'Research Article', u'score': 0.98542464, u'publication_date': u'2011-09-14T00:00:00Z', u'eissn': u'1932-6203', u'id': u'10.1371/journal.pone.0023195/references'}, {u'journal': u'PLoS ONE', u'article_type': u'Research Article', u'score': 0.98542464, u'publication_date': u'2011-09-14T00:00:00Z', u'eissn': u'1932-6203', u'id': u'10.1371/journal.pone.0023195/body'}, {u'journal': u'PLoS ONE', u'article_type': u'Research Article', u'score': 0.98542464, u'publication_date': u'2011-09-14T00:00:00Z', u'eissn': u'1932-6203', u'id': u'10.1371/journal.pone.0023195/materials_and_methods'}, {u'journal': u'PLoS ONE', u'article_type': u'Research Article', u'score': 0.98542464, u'publication_date': u'2011-09-14T00:00:00Z', u'eissn': u'1932-6203', u'id': u'10.1371/journal.pone.0023195/supporting_information'}, {u'journal': u'PLoS ONE', u'id': u'10.1371/journal.pone.0081631', u'author_display': [u'David A. Roberts', u'Rocky de Nys', u'Nicholas A. Paul'], u'article_type': u'Research Article', u'score': 0.98542464, u'title_display': u'The Effect of CO<sub>2</sub> on Algal Growth in Industrial Waste Water for Bioenergy and Bioremediation Applications', u'publication_date': u'2013-11-22T00:00:00Z', u'eissn': u'1932-6203', u'abstract': [u'\\n\\t\\t\\t\\tThe energy, mining and mineral processing industries are point sources of metal-contaminated waste water and carbon dioxide (CO2). Freshwater macroalgae from the genus Oedogonium can be grown in metal-contaminated waste water to generate biomass for bioenergy applications and concomitantly bioremediate metals. However, interactions between CO2 addition and algal growth, which can affect bioremediation, remain untested. The addition of CO2 to algal cultures in the Ash Dam Water (ADW) from a coal-fired power station increased the biomass productivity of Oedogonium sp. from 6.8 g dry weight (DW) m-2 d-1 to a maximum of 22.5 g DW m-2 d-1. The greater productivity increased the rate of bioremediation of most elements. However, over time carbon-amended cultures experienced a decline in productivity. Possible explanations include metal toxicity at low pH or essential trace element limitation as a result of competition between toxic and essential trace elements for uptake into algae. Higher productivity increased bioremediation rate and yielded more biomass for bioenergy applications, making maintenance of maximum productivity the central aim of the integrated culture model. To do so it will be necessary to resolve the mechanisms responsible for declining yields over time in carbon-amended cultures. Regardless, our data demonstrate that freshwater macroalgae are ideal candidates for bioremediation of metal-contaminated waste streams. Algal culture delivered significant improvement in ADW quality, reducing 5 elements that were initially in excess of water quality criteria (Al, As, Cd, Ni and Zn) to meet guidelines within two to four weeks.\\n\\t\\t\\t']}, {u'journal': u'PLoS ONE', u'article_type': u'Research Article', u'score': 0.98542464, u'publication_date': u'2013-11-22T00:00:00Z', u'eissn': u'1932-6203', u'id': u'10.1371/journal.pone.0081631/body'}, {u'journal': u'PLoS ONE', u'article_type': u'Research Article', u'score': 0.98542464, u'publication_date': u'2013-11-22T00:00:00Z', u'eissn': u'1932-6203', u'id': u'10.1371/journal.pone.0081631/title'}, {u'journal': u'PLoS ONE', u'article_type': u'Research Article', u'score': 0.98542464, u'publication_date': u'2013-11-22T00:00:00Z', u'eissn': u'1932-6203', u'id': u'10.1371/journal.pone.0081631/abstract'}, {u'journal': u'PLoS ONE', u'article_type': u'Research Article', u'score': 0.98542464, u'publication_date': u'2013-11-22T00:00:00Z', u'eissn': u'1932-6203', u'id': u'10.1371/journal.pone.0081631/references'}, {u'journal': u'PLoS ONE', u'article_type': u'Research Article', u'score': 0.98542464, u'publication_date': u'2013-11-22T00:00:00Z', u'eissn': u'1932-6203', u'id': u'10.1371/journal.pone.0081631/materials_and_methods'}, {u'journal': u'PLoS ONE', u'article_type': u'Research Article', u'score': 0.98542464, u'publication_date': u'2013-11-22T00:00:00Z', u'eissn': u'1932-6203', u'id': u'10.1371/journal.pone.0081631/supporting_information'}, {u'journal': u'PLoS ONE', u'article_type': u'Research Article', u'score': 0.98542464, u'publication_date': u'2013-11-22T00:00:00Z', u'eissn': u'1932-6203', u'id': u'10.1371/journal.pone.0081631/introduction'}, {u'journal': u'PLoS ONE', u'article_type': u'Research Article', u'score': 0.98542464, u'publication_date': u'2013-11-22T00:00:00Z', u'eissn': u'1932-6203', u'id': u'10.1371/journal.pone.0081631/results_and_discussion'}, {u'abstract': [u'Background: The complex characteristics and unclear biological fate of biomacromolecules (BMM), including colloidal and soluble microbial products (SMP), extracellular polymeric substances (EPS) and membrane surface foulants (MSF), are crucial factors that limit our understanding of membrane fouling in membrane bioreactors (MBRs). Findings: In this study, the microbial transformation of BMM was investigated in a lab-scale MBR by well-controlled bioassay tests. The results of experimental measurements and mathematical modeling show that SMP, EPS, and MSF had different biodegradation behaviors and kinetic models. Based on the multi-exponential G models, SMP were mainly composed of slowly biodegradable polysaccharides (PS), proteins (PN), and non-biodegradable humic substances (HS). In contrast, EPS contained a large number of readily biodegradable PN, slowly biodegradable PS and HS. MSF were dominated by slowly biodegradable PS, which had a degradation rate constant similar to that of SMP-PS, while degradation behaviors of MSF-PN and MSF-HS were much more similar to those of EPS-PN and EPS-HS, respectively. In addition, the large-molecular weight (MW) compounds (>100 kDa) in BMM were found to have a faster microbial transformation rate compared to the small-MW compounds (<5 kDa). The parallel factor (PARAFAC) modeling of three-dimensional fluorescence excitation-emission matrix (EEM) spectra showed that the tryptophan-like PN were one of the major fractions in the BMM and they were more readily biodegradable than the HS. Besides microbial mineralization, humification and hydrolysis could be viewed as two important biotransformation mechanisms of large-MW compounds during the biodegradation process. Significance: The results of this work can aid in tracking the origin of membrane foulants from the perspective of the biotransformation behaviors of SMP, EPS, and MSF. '], u'author_display': [u'Zhongbo Zhou', u'Fangang Meng', u'So-Ryong Chae', u'Guocheng Huang', u'Wenjie Fu', u'Xiaoshan Jia', u'Shiyu Li', u'Guang-Hao Chen'], u'article_type': u'Research Article', u'score': 0.98542464, u'title_display': u'Microbial Transformation of Biomacromolecules in a Membrane Bioreactor: Implications for Membrane Fouling Investigation', u'publication_date': u'2012-08-09T00:00:00Z', u'eissn': u'1932-6203', u'id': u'10.1371/journal.pone.0042270'}, {u'publication_date': u'2012-08-09T00:00:00Z', u'eissn': u'1932-6203', u'id': u'10.1371/journal.pone.0042270/title', u'score': 0.98542464, u'article_type': u'Research Article'}, {u'publication_date': u'2012-08-09T00:00:00Z', u'eissn': u'1932-6203', u'id': u'10.1371/journal.pone.0042270/abstract', u'score': 0.98542464, u'article_type': u'Research Article'}, {u'publication_date': u'2012-08-09T00:00:00Z', u'eissn': u'1932-6203', u'id': u'10.1371/journal.pone.0042270/references', u'score': 0.98542464, u'article_type': u'Research Article'}, {u'publication_date': u'2012-08-09T00:00:00Z', u'eissn': u'1932-6203', u'id': u'10.1371/journal.pone.0042270/body', u'score': 0.98542464, u'article_type': u'Research Article'}, {u'publication_date': u'2012-08-09T00:00:00Z', u'eissn': u'1932-6203', u'id': u'10.1371/journal.pone.0042270/introduction', u'score': 0.98542464, u'article_type': u'Research Article'}, {u'publication_date': u'2012-08-09T00:00:00Z', u'eissn': u'1932-6203', u'id': u'10.1371/journal.pone.0042270/results_and_discussion', u'score': 0.98542464, u'article_type': u'Research Article'}, {u'publication_date': u'2012-08-09T00:00:00Z', u'eissn': u'1932-6203', u'id': u'10.1371/journal.pone.0042270/supporting_information', u'score': 0.98542464, u'article_type': u'Research Article'}, {u'journal': u'PLoS ONE', u'article_type': u'Research Article', u'score': 0.98542464, u'publication_date': u'2011-04-15T00:00:00Z', u'eissn': u'1932-6203', u'id': u'10.1371/journal.pone.0018585/title'}, {u'journal': u'PLoS ONE', u'article_type': u'Research Article', u'score': 0.98542464, u'publication_date': u'2011-04-15T00:00:00Z', u'eissn': u'1932-6203', u'id': u'10.1371/journal.pone.0018585/abstract'}, {u'journal': u'PLoS ONE', u'article_type': u'Research Article', u'score': 0.98542464, u'publication_date': u'2011-04-15T00:00:00Z', u'eissn': u'1932-6203', u'id': u'10.1371/journal.pone.0018585/references'}, {u'journal': u'PLoS ONE', u'article_type': u'Research Article', u'score': 0.98542464, u'publication_date': u'2011-04-15T00:00:00Z', u'eissn': u'1932-6203', u'id': u'10.1371/journal.pone.0018585/body'}, {u'journal': u'PLoS ONE', u'article_type': u'Research Article', u'score': 0.98542464, u'publication_date': u'2011-04-15T00:00:00Z', u'eissn': u'1932-6203', u'id': u'10.1371/journal.pone.0018585/introduction'}, {u'journal': u'PLoS ONE', u'article_type': u'Research Article', u'score': 0.98542464, u'publication_date': u'2011-04-15T00:00:00Z', u'eissn': u'1932-6203', u'id': u'10.1371/journal.pone.0018585/results_and_discussion'}, {u'journal': u'PLoS ONE', u'article_type': u'Research Article', u'score': 0.98542464, u'publication_date': u'2011-04-15T00:00:00Z', u'eissn': u'1932-6203', u'id': u'10.1371/journal.pone.0018585/materials_and_methods'}, {u'journal': u'PLoS ONE', u'id': u'10.1371/journal.pone.0018585', u'author_display': [u'Edward M. Fisher', u'Jessica L. Williams', u'Ronald E. Shaffer'], u'article_type': u'Research Article', u'score': 0.98542464, u'title_display': u'Evaluation of Microwave Steam Bags for the Decontamination of Filtering Facepiece Respirators', u'publication_date': u'2011-04-15T00:00:00Z', u'eissn': u'1932-6203', u'abstract': [u\"\\n        Reusing filtering facepiece respirators (FFRs) has been suggested as a strategy to conserve available supplies for home and healthcare environments during an influenza pandemic. For reuse to be possible, used FFRs must be decontaminated before redonning to reduce the risk of virus transmission; however, there are no approved methods for FFR decontamination. An effective method must reduce the microbial threat, maintain the function of the FFR, and present no residual chemical hazard. The method should be readily available, inexpensive and easily implemented by healthcare workers and the general public. Many of the general decontamination protocols used in healthcare and home settings are unable to address all of the desired qualities of an efficient FFR decontamination protocol. The goal of this study is to evaluate the use of two commercially available steam bags, marketed to the public for disinfecting infant feeding equipment, for FFR decontamination. The FFRs were decontaminated with microwave generated steam following the manufacturers' instructions then evaluated for water absorption and filtration efficiency for up to three steam exposures. Water absorption of the FFR was found to be model specific as FFRs constructed with hydrophilic materials absorbed more water. The steam had little effect on FFR performance as filtration efficiency of the treated FFRs remained above 95%. The decontamination efficacy of the steam bag was assessed using bacteriophage MS2 as a surrogate for a pathogenic virus. The tested steam bags were found to be 99.9% effective for inactivating MS2 on FFRs; however, more research is required to determine the effectiveness against respiratory pathogens.\\n      \"]}, {u'journal': u'PLoS ONE', u'id': u'10.1371/journal.pone.0022122', u'author_display': [u'Jiangang Wang', u'Yan Li', u'Jiahai Shi', u'Jie Han', u'Chunlei Xu', u'Changsheng Ma', u'Xu Meng'], u'article_type': u'Research Article', u'score': 0.98542464, u'title_display': u'Minimally Invasive Surgical Versus Catheter Ablation for the Long-Lasting Persistent Atrial Fibrillation', u'publication_date': u'2011-07-13T00:00:00Z', u'eissn': u'1932-6203', u'abstract': [u'Objective: To assess the efficacy of video-assisted minimally invasive surgical vs. catheter ablation for the long-standing persistent AF. Methods: We performed a retrospective comparative analysis in a series of 166 long-standing persistent AF patients treated between 2006 and 2009 with either video-assisted minimally invasive ablation (83 patients), or catheter ablations (83 patients). The catheter group was screened using a \\u2018pair-matched case-control\\u2019 methodology in order to select appropriate statistical comparison candidates out of 169 long-standing persistent AF patients which were potentially suitable for surgery, but have been treated with catheter approaches in order to balance major prognostic factors between the two groups. Follow-up for all patients ranged from 1 to 3.6 years. Results: No patient died postoperatively. One patient suffered from stroke in the surgical group but recovered before discharge. Freedom from AF was obtained in 59.0% and 74.7% during follow-up in the catheter group and the surgical group respectively (P\\u200a=\\u200a0.047). Patients in the catheter group had a significantly higher rate of recurrent arrhythmia (P\\u200a=\\u200a0.011, hazard ratio: 0.555, 95% CI: 0.354 to 0.872) compared with the surgically treated group. The freedom from antiarrhythmic drugs was 44.6% in the catheter group and 61.4% in the surgical group (P\\u200a=\\u200a0.043). Conclusions: The video-assisted minimally invasive ablation was safe and effective, and had an optimistic success rate for patients with long-standing persistent AF in our retrospective comparative study. Thus, further randomized studies addressing this issue seem to be justified. ']}, {u'journal': u'PLoS ONE', u'article_type': u'Research Article', u'score': 0.98542464, u'publication_date': u'2011-07-13T00:00:00Z', u'eissn': u'1932-6203', u'id': u'10.1371/journal.pone.0022122/title'}, {u'journal': u'PLoS ONE', u'article_type': u'Research Article', u'score': 0.98542464, u'publication_date': u'2011-07-13T00:00:00Z', u'eissn': u'1932-6203', u'id': u'10.1371/journal.pone.0022122/abstract'}, {u'journal': u'PLoS ONE', u'article_type': u'Research Article', u'score': 0.98542464, u'publication_date': u'2011-07-13T00:00:00Z', u'eissn': u'1932-6203', u'id': u'10.1371/journal.pone.0022122/references'}, {u'journal': u'PLoS ONE', u'article_type': u'Research Article', u'score': 0.98542464, u'publication_date': u'2011-07-13T00:00:00Z', u'eissn': u'1932-6203', u'id': u'10.1371/journal.pone.0022122/body'}, {u'journal': u'PLoS ONE', u'article_type': u'Research Article', u'score': 0.98542464, u'publication_date': u'2011-07-13T00:00:00Z', u'eissn': u'1932-6203', u'id': u'10.1371/journal.pone.0022122/introduction'}, {u'journal': u'PLoS ONE', u'article_type': u'Research Article', u'score': 0.98542464, u'publication_date': u'2011-07-13T00:00:00Z', u'eissn': u'1932-6203', u'id': u'10.1371/journal.pone.0022122/results_and_discussion'}, {u'journal': u'PLoS ONE', u'article_type': u'Research Article', u'score': 0.98542464, u'publication_date': u'2011-07-13T00:00:00Z', u'eissn': u'1932-6203', u'id': u'10.1371/journal.pone.0022122/materials_and_methods'}, {u'journal': u'PLoS Biology', u'id': u'10.1371/journal.pbio.1000549', u'author_display': [u'Claire Marris', u'Nikolas Rose'], u'article_type': u'Editorial', u'score': 0.98542464, u'title_display': u'Open Engagement: Exploring Public Participation in the Biosciences', u'publication_date': u'2010-11-30T00:00:00Z', u'eissn': u'1545-7885', u'abstract': [u'']}, {u'journal': u'PLoS Biology', u'article_type': u'Editorial', u'score': 0.98542464, u'publication_date': u'2010-11-30T00:00:00Z', u'eissn': u'1545-7885', u'id': u'10.1371/journal.pbio.1000549/title'}, {u'journal': u'PLoS Biology', u'article_type': u'Editorial', u'score': 0.98542464, u'publication_date': u'2010-11-30T00:00:00Z', u'eissn': u'1545-7885', u'id': u'10.1371/journal.pbio.1000549/abstract'}, {u'journal': u'PLoS Biology', u'article_type': u'Editorial', u'score': 0.98542464, u'publication_date': u'2010-11-30T00:00:00Z', u'eissn': u'1545-7885', u'id': u'10.1371/journal.pbio.1000549/references'}, {u'journal': u'PLoS Biology', u'article_type': u'Editorial', u'score': 0.98542464, u'publication_date': u'2010-11-30T00:00:00Z', u'eissn': u'1545-7885', u'id': u'10.1371/journal.pbio.1000549/body'}, {u'journal': u'PLoS ONE', u'article_type': u'Research Article', u'score': 0.98542464, u'publication_date': u'2013-05-15T00:00:00Z', u'eissn': u'1932-6203', u'id': u'10.1371/journal.pone.0060911/abstract'}, {u'journal': u'PLoS ONE', u'article_type': u'Research Article', u'score': 0.98542464, u'publication_date': u'2013-05-15T00:00:00Z', u'eissn': u'1932-6203', u'id': u'10.1371/journal.pone.0060911/references'}]}\n"
       ]
      }
     ],
     "prompt_number": 3
    },
    {
     "cell_type": "code",
     "collapsed": false,
     "input": [
      "print data['response']['docs'][0]['journal']"
     ],
     "language": "python",
     "metadata": {},
     "outputs": [
      {
       "output_type": "stream",
       "stream": "stdout",
       "text": [
        "PLoS ONE\n"
       ]
      }
     ],
     "prompt_number": 4
    },
    {
     "cell_type": "code",
     "collapsed": false,
     "input": [
      "for item in data['response']['docs']:\n",
      "    print item.keys()"
     ],
     "language": "python",
     "metadata": {},
     "outputs": [
      {
       "output_type": "stream",
       "stream": "stdout",
       "text": [
        "[u'journal', u'article_type', u'score', u'publication_date', u'eissn', u'id']\n",
        "[u'journal', u'article_type', u'score', u'publication_date', u'eissn', u'id']\n",
        "[u'journal', u'article_type', u'score', u'publication_date', u'eissn', u'id']\n",
        "[u'journal', u'article_type', u'score', u'publication_date', u'eissn', u'id']\n",
        "[u'journal', u'article_type', u'score', u'publication_date', u'eissn', u'id']\n",
        "[u'journal', u'article_type', u'score', u'publication_date', u'eissn', u'id']\n",
        "[u'journal', u'article_type', u'score', u'publication_date', u'eissn', u'id']\n",
        "[u'journal', u'article_type', u'score', u'publication_date', u'eissn', u'id']\n",
        "[u'journal', u'id', u'author_display', u'article_type', u'score', u'title_display', u'publication_date', u'eissn', u'abstract']\n",
        "[u'journal', u'id', u'author_display', u'article_type', u'score', u'title_display', u'publication_date', u'eissn', u'abstract']\n",
        "[u'journal', u'article_type', u'score', u'publication_date', u'eissn', u'id']\n",
        "[u'journal', u'article_type', u'score', u'publication_date', u'eissn', u'id']\n",
        "[u'journal', u'article_type', u'score', u'publication_date', u'eissn', u'id']\n",
        "[u'journal', u'article_type', u'score', u'publication_date', u'eissn', u'id']\n",
        "[u'journal', u'article_type', u'score', u'publication_date', u'eissn', u'id']\n",
        "[u'journal', u'article_type', u'score', u'publication_date', u'eissn', u'id']\n",
        "[u'journal', u'article_type', u'score', u'publication_date', u'eissn', u'id']\n",
        "[u'journal', u'article_type', u'score', u'publication_date', u'eissn', u'id']\n",
        "[u'abstract', u'author_display', u'article_type', u'score', u'title_display', u'publication_date', u'eissn', u'id']\n",
        "[u'publication_date', u'eissn', u'id', u'score', u'article_type']\n",
        "[u'publication_date', u'eissn', u'id', u'score', u'article_type']\n",
        "[u'publication_date', u'eissn', u'id', u'score', u'article_type']\n",
        "[u'publication_date', u'eissn', u'id', u'score', u'article_type']\n",
        "[u'publication_date', u'eissn', u'id', u'score', u'article_type']\n",
        "[u'publication_date', u'eissn', u'id', u'score', u'article_type']\n",
        "[u'publication_date', u'eissn', u'id', u'score', u'article_type']\n",
        "[u'publication_date', u'eissn', u'id', u'score', u'article_type']\n",
        "[u'journal', u'id', u'author_display', u'article_type', u'score', u'title_display', u'publication_date', u'eissn', u'abstract']\n",
        "[u'journal', u'article_type', u'score', u'publication_date', u'eissn', u'id']\n",
        "[u'journal', u'article_type', u'score', u'publication_date', u'eissn', u'id']\n",
        "[u'journal', u'article_type', u'score', u'publication_date', u'eissn', u'id']\n",
        "[u'journal', u'article_type', u'score', u'publication_date', u'eissn', u'id']\n",
        "[u'journal', u'article_type', u'score', u'publication_date', u'eissn', u'id']\n",
        "[u'journal', u'article_type', u'score', u'publication_date', u'eissn', u'id']\n",
        "[u'journal', u'article_type', u'score', u'publication_date', u'eissn', u'id']\n",
        "[u'journal', u'article_type', u'score', u'publication_date', u'eissn', u'id']\n",
        "[u'journal', u'article_type', u'score', u'publication_date', u'eissn', u'id']\n",
        "[u'journal', u'article_type', u'score', u'publication_date', u'eissn', u'id']\n",
        "[u'journal', u'article_type', u'score', u'publication_date', u'eissn', u'id']\n",
        "[u'journal', u'article_type', u'score', u'publication_date', u'eissn', u'id']\n",
        "[u'journal', u'article_type', u'score', u'publication_date', u'eissn', u'id']\n",
        "[u'journal', u'id', u'author_display', u'article_type', u'score', u'title_display', u'publication_date', u'eissn', u'abstract']\n",
        "[u'abstract', u'author_display', u'article_type', u'score', u'title_display', u'publication_date', u'eissn', u'id']\n",
        "[u'publication_date', u'eissn', u'id', u'score', u'article_type']\n",
        "[u'publication_date', u'eissn', u'id', u'score', u'article_type']\n",
        "[u'publication_date', u'eissn', u'id', u'score', u'article_type']\n",
        "[u'publication_date', u'eissn', u'id', u'score', u'article_type']\n",
        "[u'publication_date', u'eissn', u'id', u'score', u'article_type']\n",
        "[u'publication_date', u'eissn', u'id', u'score', u'article_type']\n",
        "[u'publication_date', u'eissn', u'id', u'score', u'article_type']\n",
        "[u'publication_date', u'eissn', u'id', u'score', u'article_type']\n",
        "[u'journal', u'id', u'author_display', u'article_type', u'score', u'title_display', u'publication_date', u'eissn', u'abstract']\n",
        "[u'journal', u'article_type', u'score', u'publication_date', u'eissn', u'id']\n",
        "[u'journal', u'article_type', u'score', u'publication_date', u'eissn', u'id']\n",
        "[u'journal', u'article_type', u'score', u'publication_date', u'eissn', u'id']\n",
        "[u'journal', u'article_type', u'score', u'publication_date', u'eissn', u'id']\n",
        "[u'journal', u'article_type', u'score', u'publication_date', u'eissn', u'id']\n",
        "[u'journal', u'article_type', u'score', u'publication_date', u'eissn', u'id']\n",
        "[u'journal', u'article_type', u'score', u'publication_date', u'eissn', u'id']\n",
        "[u'journal', u'article_type', u'score', u'publication_date', u'eissn', u'id']\n",
        "[u'journal', u'id', u'author_display', u'article_type', u'score', u'title_display', u'publication_date', u'eissn', u'abstract']\n",
        "[u'journal', u'article_type', u'score', u'publication_date', u'eissn', u'id']\n",
        "[u'journal', u'article_type', u'score', u'publication_date', u'eissn', u'id']\n",
        "[u'journal', u'article_type', u'score', u'publication_date', u'eissn', u'id']\n",
        "[u'journal', u'article_type', u'score', u'publication_date', u'eissn', u'id']\n",
        "[u'journal', u'article_type', u'score', u'publication_date', u'eissn', u'id']\n",
        "[u'journal', u'article_type', u'score', u'publication_date', u'eissn', u'id']\n",
        "[u'journal', u'article_type', u'score', u'publication_date', u'eissn', u'id']\n",
        "[u'journal', u'article_type', u'score', u'publication_date', u'eissn', u'id']\n",
        "[u'abstract', u'author_display', u'article_type', u'score', u'title_display', u'publication_date', u'eissn', u'id']\n",
        "[u'publication_date', u'eissn', u'id', u'score', u'article_type']\n",
        "[u'publication_date', u'eissn', u'id', u'score', u'article_type']\n",
        "[u'publication_date', u'eissn', u'id', u'score', u'article_type']\n",
        "[u'publication_date', u'eissn', u'id', u'score', u'article_type']\n",
        "[u'publication_date', u'eissn', u'id', u'score', u'article_type']\n",
        "[u'publication_date', u'eissn', u'id', u'score', u'article_type']\n",
        "[u'publication_date', u'eissn', u'id', u'score', u'article_type']\n",
        "[u'journal', u'article_type', u'score', u'publication_date', u'eissn', u'id']\n",
        "[u'journal', u'article_type', u'score', u'publication_date', u'eissn', u'id']\n",
        "[u'journal', u'article_type', u'score', u'publication_date', u'eissn', u'id']\n",
        "[u'journal', u'article_type', u'score', u'publication_date', u'eissn', u'id']\n",
        "[u'journal', u'article_type', u'score', u'publication_date', u'eissn', u'id']\n",
        "[u'journal', u'article_type', u'score', u'publication_date', u'eissn', u'id']\n",
        "[u'journal', u'article_type', u'score', u'publication_date', u'eissn', u'id']\n",
        "[u'journal', u'id', u'author_display', u'article_type', u'score', u'title_display', u'publication_date', u'eissn', u'abstract']\n",
        "[u'journal', u'id', u'author_display', u'article_type', u'score', u'title_display', u'publication_date', u'eissn', u'abstract']\n",
        "[u'journal', u'article_type', u'score', u'publication_date', u'eissn', u'id']\n",
        "[u'journal', u'article_type', u'score', u'publication_date', u'eissn', u'id']\n",
        "[u'journal', u'article_type', u'score', u'publication_date', u'eissn', u'id']\n",
        "[u'journal', u'article_type', u'score', u'publication_date', u'eissn', u'id']\n",
        "[u'journal', u'article_type', u'score', u'publication_date', u'eissn', u'id']\n",
        "[u'journal', u'article_type', u'score', u'publication_date', u'eissn', u'id']\n",
        "[u'journal', u'article_type', u'score', u'publication_date', u'eissn', u'id']\n",
        "[u'journal', u'id', u'author_display', u'article_type', u'score', u'title_display', u'publication_date', u'eissn', u'abstract']\n",
        "[u'journal', u'article_type', u'score', u'publication_date', u'eissn', u'id']\n",
        "[u'journal', u'article_type', u'score', u'publication_date', u'eissn', u'id']\n",
        "[u'journal', u'article_type', u'score', u'publication_date', u'eissn', u'id']\n",
        "[u'journal', u'article_type', u'score', u'publication_date', u'eissn', u'id']\n",
        "[u'journal', u'article_type', u'score', u'publication_date', u'eissn', u'id']\n",
        "[u'journal', u'article_type', u'score', u'publication_date', u'eissn', u'id']\n"
       ]
      }
     ],
     "prompt_number": 5
    },
    {
     "cell_type": "code",
     "collapsed": false,
     "input": [
      "abstract_list = []\n",
      "for item in data['response']['docs']:\n",
      "    if 'abstract' in item.keys():\n",
      "        abstract_list.append(item['abstract'])\n",
      "print abstract_list"
     ],
     "language": "python",
     "metadata": {},
     "outputs": [
      {
       "output_type": "stream",
       "stream": "stdout",
       "text": [
        "[[u'\\nThe objective of this paper is to assess the attitude of Malaysian stakeholders to genetically modified (GM) salmon and to identify the factors that influence their acceptance of GM salmon using a structural equation model. A survey was carried out on 434 representatives from various stakeholder groups in the Klang Valley region of Malaysia. Public attitude towards GM salmon was measured using self-developed questionnaires with seven-point Likert scales. The findings of this study have confirmed that public attitudes towards GM salmon is a complex issue and should be seen as a multi-faceted process. The most important direct predictors for the encouragement of GM salmon are the specific application-linked perceptions about religious acceptability of GM salmon followed by perceived risks and benefits, familiarity, and general promise of modern biotechnology. Encouragement of GM salmon also involves the interplay among other factors such as general concerns of biotechnology, threatening the natural order of things, the need for labeling, the need for patenting, confidence in regulation, and societal values. The research findings can serve as a database that will be useful for understanding the social construct of public attitude towards GM foods in a developing country.\\n'], [u'\\nDue to environmental persistence and biotoxicity of polybrominated diphenyl ethers (PBDEs), it is urgent to develop potential technologies to remediate PBDEs. Introducing electrodes for microbial electricity generation to stimulate the anaerobic degradation of organic pollutants is highly promising for bioremediation. However, it is still not clear whether the degradation of PBDEs could be promoted by this strategy. In this study, we hypothesized that the degradation of PBDEs (e.g., BDE-209) would be enhanced under microbial electricity generation condition. The functional compositions and structures of microbial communities in closed-circuit microbial fuel cell (c-MFC) and open-circuit microbial fuel cell (o-MFC) systems for BDE-209 degradation were detected by a comprehensive functional gene array, GeoChip 4.0, and linked with PBDE degradations. The results indicated that distinctly different microbial community structures were formed between c-MFCs and o-MFCs, and that lower concentrations of BDE-209 and the resulting lower brominated PBDE products were detected in c-MFCs after 70-day performance. The diversity and abundance of a variety of functional genes in c-MFCs were significantly higher than those in o-MFCs. Most genes involved in chlorinated solvent reductive dechlorination, hydroxylation, methoxylation and aromatic hydrocarbon degradation were highly enriched in c-MFCs and significantly positively correlated with the removal of PBDEs. Various other microbial functional genes for carbon, nitrogen, phosphorus and sulfur cycling, as well as energy transformation process, were also significantly increased in c-MFCs. Together, these results suggest that PBDE degradation could be enhanced by introducing the electrodes for microbial electricity generation and by specifically stimulating microbial functional genes.\\n'], [u'\\n        Intensive use of chlorpyrifos has resulted in its ubiquitous presence as a contaminant in surface streams and soils. It is thus critically essential to develop bioremediation methods to degrade and eliminate this pollutant from environments. We present here that a new fungal strain Hu-01 with high chlorpyrifos-degradation activity was isolated and identified as Cladosporium cladosporioides based on the morphology and 5.8S rDNA gene analysis. Strain Hu-01 utilized 50 mg\\xb7L\\u22121 of chlorpyrifos as the sole carbon of source, and tolerated high concentration of chlorpyrifos up to 500 mg\\xb7L\\u22121. The optimum degradation conditions were determined to be 26.8\\xb0C and pH 6.5 based on the response surface methodology (RSM). Under these conditions, strain Hu-01 completely metabolized the supplemented chlorpyrifos (50 mg\\xb7L\\u22121) within 5 d. During the biodegradation process, transient accumulation of 3,5,6-trichloro-2-pyridinol (TCP) was observed. However, this intermediate product did not accumulate in the medium and disappeared quickly. No persistent accumulative metabolite was detected by gas chromatopraphy-mass spectrometry (GC-MS) analysis at the end of experiment. Furthermore, degradation kinetics of chlorpyrifos and TCP followed the first-order model. Compared to the non-inoculated controls, the half-lives (t1/2) of chlorpyrifos and TCP significantly reduced by 688.0 and 986.9 h with the inoculum, respectively. The isolate harbors the metabolic pathway for the complete detoxification of chlorpyrifos and its hydrolysis product TCP, thus suggesting the fungus may be a promising candidate for bioremediation of chlorpyrifos-contaminated water, soil or crop.\\n      '], [u'\\n        Atrazine (ATZ) and S-metolachlor (S-MET) are two herbicides widely used, often as mixtures. The present work examined whether the presence of S-MET affects the ATZ-biodegradation activity of the bioaugmentation bacterium Pseudomonas sp. strain ADP in a crop soil. S-MET concentrations were selected for their relevance in worst-case scenarios of soil contamination by a commercial formulation containing both herbicides. At concentrations representative of application of high doses of the formulation (up to 50 \\xb5g g\\u22121 of soil, corresponding to a dose approximately 50\\xd7 higher than the recommended field dose (RD)), the presence of pure S-MET significantly affected neither bacteria survival (\\u223c107 initial viable cells g\\u22121 of soil) nor its ATZ-mineralization activity. Consistently, biodegradation experiments, in larger soil microcosms spiked with 20\\xd7 or 50\\xd7RD of the double formulation and inoculated with the bacterium, revealed ATZ to be rapidly (in up to 5 days) and extensively (>96%) removed from the soil. During the 5 days, concentration of S-MET decreased moderately to about 60% of the initial, both in inoculated and non-inoculated microcosms. Concomitantly, an accumulation of the two metabolites S-MET ethanesulfonic acid and S-MET oxanilic acid was found. Despite the dissipation of almost all the ATZ from the treated soils, the respective eluates were still highly toxic to an aquatic microalgae species, being as toxic as those from the untreated soil. We suggest that this high toxicity may be due to the S-MET and/or its metabolites remaining in the soil.\\n      '], [u'\\nThe HACEK organisms (Haemophilus species, Aggregatibacter species, Cardiobacterium hominis, Eikenella corrodens, and Kingella species) are rare causes of infective endocarditis (IE). The objective of this study is to describe the clinical characteristics and outcomes of patients with HACEK endocarditis (HE) in a large multi-national cohort. Patients hospitalized with definite or possible infective endocarditis by the International Collaboration on Endocarditis Prospective Cohort Study in 64 hospitals from 28 countries were included and characteristics of HE patients compared with IE due to other pathogens. Of 5591 patients enrolled, 77 (1.4%) had HE. HE was associated with a younger age (47 vs. 61 years; p<0.001), a higher prevalence of immunologic/vascular manifestations (32% vs. 20%; p<0.008) and stroke (25% vs. 17% p\\u200a=\\u200a0.05) but a lower prevalence of congestive heart failure (15% vs. 30%; p\\u200a=\\u200a0.004), death in-hospital (4% vs. 18%; p\\u200a=\\u200a0.001) or after 1 year follow-up (6% vs. 20%; p\\u200a=\\u200a0.01) than IE due to other pathogens (n\\u200a=\\u200a5514). On multivariable analysis, stroke was associated with mitral valve vegetations (OR 3.60; CI 1.34\\u20139.65; p<0.01) and younger age (OR 0.62; CI 0.49\\u20130.90; p<0.01). The overall outcome of HE was excellent with the in-hospital mortality (4%) significantly better than for non-HE (18%; p<0.001). Prosthetic valve endocarditis was more common in HE (35%) than non-HE (24%). The outcome of prosthetic valve and native valve HE was excellent whether treated medically or with surgery. Current treatment is very successful for the management of both native valve prosthetic valve HE but further studies are needed to determine why HE has a predilection for younger people and to cause stroke. The small number of patients and observational design limit inferences on treatment strategies. Self selection of study sites limits epidemiological inferences.\\n'], [u'Objective: To estimate the effectiveness of anterior cervical discectomy with arthroplasty (ACDA) compared to anterior cervical discectomy with fusion (ACDF) for patient-important outcomes for single-level cervical spondylosis. Data sources: Electronic databases (MEDLINE, EMBASE, Cochrane Register for Randomized Controlled Trials, BIOSIS and LILACS), archives of spine meetings and bibliographies of relevant articles. Study selection: We included RCTs of ACDF versus ACDA in adult patients with single-level cervical spondylosis reporting at least one of the following outcomes: functionality, neurological success, neck pain, arm pain, quality of life, surgery for adjacent level degeneration (ALD), reoperation and dysphonia/dysphagia. We used no language restrictions. We performed title and abstract screening and full text screening independently and in duplicate. Data synthesis: We used random-effects model to pool data using mean difference (MD) for continuous outcomes and relative risk (RR) for dichotomous outcomes. We used GRADE to evaluate the quality of evidence for each outcome. Results: Of 2804 citations, 9 articles reporting on 9 trials (1778 participants) were eligible. ACDA is associated with a clinically significant lower incidence of neurologic failure (RR \\u200a=\\u200a0.53, 95% CI \\u200a=\\u200a0.37\\u20130.75, p\\u200a=\\u200a0.0004) and improvement in the Neck pain visual analogue scale (VAS) (MD \\u200a=\\u200a6.56, 95% CI \\u200a=\\u200a3.22\\u20139.90, p\\u200a=\\u200a0.0001; Minimal clinically important difference (MCID) \\u200a=\\u200a2.5. ACDA is associated with a statistically but not clinically significant improvement in Arm pain VAS and SF-36 physical component summary. ACDA is associated with non-statistically significant higher improvement in the Neck Disability Index Score and lower incidence of ALD requiring surgery, reoperation, and dysphagia/dysphonia. Conclusions: There is no strong evidence to support the routine use of ACDA over ACDF in single-level cervical spondylosis. Current trials lack long-term data required to assess safety as well as surgery for ALD. We suggest that ACDA in patients with single level cervical spondylosis is an option although its benefits and indication over ACDF remain in question. '], [u'Background: Mesenchymal stem cells (MSC) represent a particularly attractive cell type for bone tissue engineering because of their ex vivo expansion potential and multipotent differentiation capacity. MSC are readily differentiated towards mature osteoblasts with well-established protocols. However, tissue engineering frequently involves three-dimensional scaffolds which (i) allow for cell adhesion in a spatial environment and (ii) meet application-specific criteria, such as stiffness, degradability and biocompatibility. Methodology/Principal Findings: In the present study, we analysed two synthetic, long-term degradable polymers for their impact on MSC-based bone tissue engineering: PLLA-co-TMC (Resomer\\xae LT706) and poly(\\u03b5-caprolactone) (PCL). Both polymers enhance the osteogenic differentiation compared to tissue culture polystyrene (TCPS) as determined by Alizarin red stainings, scanning electron microscopy, PCR and whole genome expression analysis. Resomer\\xae LT706 and PCL differ in their influence on gene expression, with Resomer\\xae LT706 being more potent in supporting osteogenic differentiation of MSC. The major trigger on the osteogenic fate, however, is from osteogenic induction medium. Conclusion: This study demonstrates an enhanced osteogenic differentiation of MSC on Resomer\\xae LT706 and PCL compared to TCPS. MSC cultured on Resomer\\xae LT706 showed higher numbers of genes involved in skeletal development and bone formation. This identifies Resomer\\xae LT706 as particularly attractive scaffold material for bone tissue engineering. '], [u'\\n\\t\\t\\t\\tThe energy, mining and mineral processing industries are point sources of metal-contaminated waste water and carbon dioxide (CO2). Freshwater macroalgae from the genus Oedogonium can be grown in metal-contaminated waste water to generate biomass for bioenergy applications and concomitantly bioremediate metals. However, interactions between CO2 addition and algal growth, which can affect bioremediation, remain untested. The addition of CO2 to algal cultures in the Ash Dam Water (ADW) from a coal-fired power station increased the biomass productivity of Oedogonium sp. from 6.8 g dry weight (DW) m-2 d-1 to a maximum of 22.5 g DW m-2 d-1. The greater productivity increased the rate of bioremediation of most elements. However, over time carbon-amended cultures experienced a decline in productivity. Possible explanations include metal toxicity at low pH or essential trace element limitation as a result of competition between toxic and essential trace elements for uptake into algae. Higher productivity increased bioremediation rate and yielded more biomass for bioenergy applications, making maintenance of maximum productivity the central aim of the integrated culture model. To do so it will be necessary to resolve the mechanisms responsible for declining yields over time in carbon-amended cultures. Regardless, our data demonstrate that freshwater macroalgae are ideal candidates for bioremediation of metal-contaminated waste streams. Algal culture delivered significant improvement in ADW quality, reducing 5 elements that were initially in excess of water quality criteria (Al, As, Cd, Ni and Zn) to meet guidelines within two to four weeks.\\n\\t\\t\\t'], [u'Background: The complex characteristics and unclear biological fate of biomacromolecules (BMM), including colloidal and soluble microbial products (SMP), extracellular polymeric substances (EPS) and membrane surface foulants (MSF), are crucial factors that limit our understanding of membrane fouling in membrane bioreactors (MBRs). Findings: In this study, the microbial transformation of BMM was investigated in a lab-scale MBR by well-controlled bioassay tests. The results of experimental measurements and mathematical modeling show that SMP, EPS, and MSF had different biodegradation behaviors and kinetic models. Based on the multi-exponential G models, SMP were mainly composed of slowly biodegradable polysaccharides (PS), proteins (PN), and non-biodegradable humic substances (HS). In contrast, EPS contained a large number of readily biodegradable PN, slowly biodegradable PS and HS. MSF were dominated by slowly biodegradable PS, which had a degradation rate constant similar to that of SMP-PS, while degradation behaviors of MSF-PN and MSF-HS were much more similar to those of EPS-PN and EPS-HS, respectively. In addition, the large-molecular weight (MW) compounds (>100 kDa) in BMM were found to have a faster microbial transformation rate compared to the small-MW compounds (<5 kDa). The parallel factor (PARAFAC) modeling of three-dimensional fluorescence excitation-emission matrix (EEM) spectra showed that the tryptophan-like PN were one of the major fractions in the BMM and they were more readily biodegradable than the HS. Besides microbial mineralization, humification and hydrolysis could be viewed as two important biotransformation mechanisms of large-MW compounds during the biodegradation process. Significance: The results of this work can aid in tracking the origin of membrane foulants from the perspective of the biotransformation behaviors of SMP, EPS, and MSF. '], [u\"\\n        Reusing filtering facepiece respirators (FFRs) has been suggested as a strategy to conserve available supplies for home and healthcare environments during an influenza pandemic. For reuse to be possible, used FFRs must be decontaminated before redonning to reduce the risk of virus transmission; however, there are no approved methods for FFR decontamination. An effective method must reduce the microbial threat, maintain the function of the FFR, and present no residual chemical hazard. The method should be readily available, inexpensive and easily implemented by healthcare workers and the general public. Many of the general decontamination protocols used in healthcare and home settings are unable to address all of the desired qualities of an efficient FFR decontamination protocol. The goal of this study is to evaluate the use of two commercially available steam bags, marketed to the public for disinfecting infant feeding equipment, for FFR decontamination. The FFRs were decontaminated with microwave generated steam following the manufacturers' instructions then evaluated for water absorption and filtration efficiency for up to three steam exposures. Water absorption of the FFR was found to be model specific as FFRs constructed with hydrophilic materials absorbed more water. The steam had little effect on FFR performance as filtration efficiency of the treated FFRs remained above 95%. The decontamination efficacy of the steam bag was assessed using bacteriophage MS2 as a surrogate for a pathogenic virus. The tested steam bags were found to be 99.9% effective for inactivating MS2 on FFRs; however, more research is required to determine the effectiveness against respiratory pathogens.\\n      \"], [u'Objective: To assess the efficacy of video-assisted minimally invasive surgical vs. catheter ablation for the long-standing persistent AF. Methods: We performed a retrospective comparative analysis in a series of 166 long-standing persistent AF patients treated between 2006 and 2009 with either video-assisted minimally invasive ablation (83 patients), or catheter ablations (83 patients). The catheter group was screened using a \\u2018pair-matched case-control\\u2019 methodology in order to select appropriate statistical comparison candidates out of 169 long-standing persistent AF patients which were potentially suitable for surgery, but have been treated with catheter approaches in order to balance major prognostic factors between the two groups. Follow-up for all patients ranged from 1 to 3.6 years. Results: No patient died postoperatively. One patient suffered from stroke in the surgical group but recovered before discharge. Freedom from AF was obtained in 59.0% and 74.7% during follow-up in the catheter group and the surgical group respectively (P\\u200a=\\u200a0.047). Patients in the catheter group had a significantly higher rate of recurrent arrhythmia (P\\u200a=\\u200a0.011, hazard ratio: 0.555, 95% CI: 0.354 to 0.872) compared with the surgically treated group. The freedom from antiarrhythmic drugs was 44.6% in the catheter group and 61.4% in the surgical group (P\\u200a=\\u200a0.043). Conclusions: The video-assisted minimally invasive ablation was safe and effective, and had an optimistic success rate for patients with long-standing persistent AF in our retrospective comparative study. Thus, further randomized studies addressing this issue seem to be justified. '], [u'']]\n"
       ]
      }
     ],
     "prompt_number": 6
    },
    {
     "cell_type": "code",
     "collapsed": false,
     "input": [
      "len(abstract_list)"
     ],
     "language": "python",
     "metadata": {},
     "outputs": [
      {
       "metadata": {},
       "output_type": "pyout",
       "prompt_number": 7,
       "text": [
        "12"
       ]
      }
     ],
     "prompt_number": 7
    },
    {
     "cell_type": "code",
     "collapsed": false,
     "input": [
      "abs_list_strip = []\n",
      "for item in abstract_list:\n",
      "    if len(item[0]):\n",
      "        abs_list_strip.append(item[0].strip())"
     ],
     "language": "python",
     "metadata": {},
     "outputs": [],
     "prompt_number": 8
    },
    {
     "cell_type": "code",
     "collapsed": false,
     "input": [
      "print len(abs_list_strip)"
     ],
     "language": "python",
     "metadata": {},
     "outputs": [
      {
       "output_type": "stream",
       "stream": "stdout",
       "text": [
        "11\n"
       ]
      }
     ],
     "prompt_number": 9
    },
    {
     "cell_type": "code",
     "collapsed": false,
     "input": [
      "abs_df = pd.DataFrame(abs_list_strip, columns=['text'])\n",
      "abs_df"
     ],
     "language": "python",
     "metadata": {},
     "outputs": [
      {
       "html": [
        "<div style=\"max-height:1000px;max-width:1500px;overflow:auto;\">\n",
        "<table border=\"1\" class=\"dataframe\">\n",
        "  <thead>\n",
        "    <tr style=\"text-align: right;\">\n",
        "      <th></th>\n",
        "      <th>text</th>\n",
        "    </tr>\n",
        "  </thead>\n",
        "  <tbody>\n",
        "    <tr>\n",
        "      <th>0 </th>\n",
        "      <td> The objective of this paper is to assess the a...</td>\n",
        "    </tr>\n",
        "    <tr>\n",
        "      <th>1 </th>\n",
        "      <td> Due to environmental persistence and biotoxici...</td>\n",
        "    </tr>\n",
        "    <tr>\n",
        "      <th>2 </th>\n",
        "      <td> Intensive use of chlorpyrifos has resulted in ...</td>\n",
        "    </tr>\n",
        "    <tr>\n",
        "      <th>3 </th>\n",
        "      <td> Atrazine (ATZ) and S-metolachlor (S-MET) are t...</td>\n",
        "    </tr>\n",
        "    <tr>\n",
        "      <th>4 </th>\n",
        "      <td> The HACEK organisms (Haemophilus species, Aggr...</td>\n",
        "    </tr>\n",
        "    <tr>\n",
        "      <th>5 </th>\n",
        "      <td> Objective: To estimate the effectiveness of an...</td>\n",
        "    </tr>\n",
        "    <tr>\n",
        "      <th>6 </th>\n",
        "      <td> Background: Mesenchymal stem cells (MSC) repre...</td>\n",
        "    </tr>\n",
        "    <tr>\n",
        "      <th>7 </th>\n",
        "      <td> The energy, mining and mineral processing indu...</td>\n",
        "    </tr>\n",
        "    <tr>\n",
        "      <th>8 </th>\n",
        "      <td> Background: The complex characteristics and un...</td>\n",
        "    </tr>\n",
        "    <tr>\n",
        "      <th>9 </th>\n",
        "      <td> Reusing filtering facepiece respirators (FFRs)...</td>\n",
        "    </tr>\n",
        "    <tr>\n",
        "      <th>10</th>\n",
        "      <td> Objective: To assess the efficacy of video-ass...</td>\n",
        "    </tr>\n",
        "  </tbody>\n",
        "</table>\n",
        "<p>11 rows \u00d7 1 columns</p>\n",
        "</div>"
       ],
       "metadata": {},
       "output_type": "pyout",
       "prompt_number": 10,
       "text": [
        "                                                 text\n",
        "0   The objective of this paper is to assess the a...\n",
        "1   Due to environmental persistence and biotoxici...\n",
        "2   Intensive use of chlorpyrifos has resulted in ...\n",
        "3   Atrazine (ATZ) and S-metolachlor (S-MET) are t...\n",
        "4   The HACEK organisms (Haemophilus species, Aggr...\n",
        "5   Objective: To estimate the effectiveness of an...\n",
        "6   Background: Mesenchymal stem cells (MSC) repre...\n",
        "7   The energy, mining and mineral processing indu...\n",
        "8   Background: The complex characteristics and un...\n",
        "9   Reusing filtering facepiece respirators (FFRs)...\n",
        "10  Objective: To assess the efficacy of video-ass...\n",
        "\n",
        "[11 rows x 1 columns]"
       ]
      }
     ],
     "prompt_number": 10
    },
    {
     "cell_type": "code",
     "collapsed": false,
     "input": [
      "#following http://nbviewer.ipython.org/github/sanand0/ipython-notebooks/blob/master/Text-analysis.ipynb\n",
      "words = pd.Series(' '.join(abs_df['text']).split(' '))\n",
      "words.value_counts()"
     ],
     "language": "python",
     "metadata": {},
     "outputs": [
      {
       "metadata": {},
       "output_type": "pyout",
       "prompt_number": 11,
       "text": [
        "of      111\n",
        "the     105\n",
        "and      93\n",
        "to       56\n",
        "in       55\n",
        "for      44\n",
        "a        37\n",
        "The      32\n",
        "with     29\n",
        "as       22\n",
        "were     21\n",
        "be       18\n",
        "was      18\n",
        "is       16\n",
        "that     16\n",
        "...\n",
        "among             1\n",
        "values.           1\n",
        "biotechnology,    1\n",
        "biotechnology.    1\n",
        "genus             1\n",
        "days)             1\n",
        "streams           1\n",
        "manifestations    1\n",
        "(MEDLINE,         1\n",
        "against           1\n",
        "26.8\u00b0C            1\n",
        "(FFRs)            1\n",
        "region            1\n",
        "p<0.01)           1\n",
        "represent         1\n",
        "Length: 1297, dtype: int64"
       ]
      }
     ],
     "prompt_number": 11
    },
    {
     "cell_type": "code",
     "collapsed": false,
     "input": [
      "import nltk"
     ],
     "language": "python",
     "metadata": {},
     "outputs": [],
     "prompt_number": 12
    },
    {
     "cell_type": "code",
     "collapsed": false,
     "input": [
      "from nltk.corpus import stopwords\n",
      "ignore = set(stopwords.words('english')) & set(words.unique())\n",
      "words.value_counts().drop(ignore)"
     ],
     "language": "python",
     "metadata": {},
     "outputs": [
      {
       "metadata": {},
       "output_type": "pyout",
       "prompt_number": 13,
       "text": [
        "The              32\n",
        "microbial        14\n",
        "degradation      10\n",
        "patients         10\n",
        "We                9\n",
        "HE                7\n",
        "chlorpyrifos      7\n",
        "GM                7\n",
        "two               7\n",
        "catheter          7\n",
        "significantly     7\n",
        "salmon            7\n",
        "S-MET             7\n",
        "group             7\n",
        "vs.               7\n",
        "...\n",
        "(1778             1\n",
        "among             1\n",
        "values.           1\n",
        "biotechnology,    1\n",
        "biotechnology.    1\n",
        "genus             1\n",
        "days)             1\n",
        "streams           1\n",
        "manifestations    1\n",
        "(MEDLINE,         1\n",
        "26.8\u00b0C            1\n",
        "(FFRs)            1\n",
        "region            1\n",
        "p<0.01)           1\n",
        "represent         1\n",
        "Length: 1223, dtype: int64"
       ]
      }
     ],
     "prompt_number": 13
    },
    {
     "cell_type": "code",
     "collapsed": false,
     "input": [
      "relevant_words = words.str.lower()\n",
      "relevant_words = relevant_words[~relevant_words.str.contains(r'[^a-z]')]\n",
      "relevant_words = relevant_words[relevant_words.str.len() > 1]"
     ],
     "language": "python",
     "metadata": {},
     "outputs": [],
     "prompt_number": 14
    },
    {
     "cell_type": "code",
     "collapsed": false,
     "input": [
      "ignore = set(stopwords.words('english')) & set(relevant_words.unique())\n",
      "relevant_words.value_counts().drop(ignore)"
     ],
     "language": "python",
     "metadata": {},
     "outputs": [
      {
       "metadata": {},
       "output_type": "pyout",
       "prompt_number": 15,
       "text": [
        "microbial        14\n",
        "patients         12\n",
        "degradation      10\n",
        "compared          7\n",
        "chlorpyrifos      7\n",
        "study             7\n",
        "significantly     7\n",
        "two               7\n",
        "salmon            7\n",
        "gm                7\n",
        "group             7\n",
        "higher            7\n",
        "catheter          7\n",
        "rate              6\n",
        "cervical          6\n",
        "...\n",
        "conditions     1\n",
        "neither        1\n",
        "protocols      1\n",
        "score          1\n",
        "parallel       1\n",
        "definite       1\n",
        "scanning       1\n",
        "aim            1\n",
        "hydrocarbon    1\n",
        "aquatic        1\n",
        "relative       1\n",
        "potent         1\n",
        "comparison     1\n",
        "year           1\n",
        "represent      1\n",
        "Length: 769, dtype: int64"
       ]
      }
     ],
     "prompt_number": 15
    },
    {
     "cell_type": "code",
     "collapsed": false,
     "input": [
      "#words that were dropped\n",
      "words.drop(relevant_words.index).str.lower().value_counts().head(30)"
     ],
     "language": "python",
     "metadata": {},
     "outputs": [
      {
       "metadata": {},
       "output_type": "pyout",
       "prompt_number": 16,
       "text": [
        "a                     38\n",
        "however,               8\n",
        "vs.                    7\n",
        "s-met                  7\n",
        "resomer\u00ae               5\n",
        "lt706                  5\n",
        "5                      4\n",
        "soil.                  4\n",
        "long-standing          4\n",
        "c-mfcs                 4\n",
        "hu-01                  3\n",
        "model.                 3\n",
        "species,               3\n",
        "95%                    3\n",
        "study,                 3\n",
        "follow-up              3\n",
        "single-level           3\n",
        "g                      3\n",
        "metal-contaminated     3\n",
        "video-assisted         3\n",
        "smp,                   2\n",
        "analysis.              2\n",
        "conclusions:           2\n",
        "1                      2\n",
        "50                     2\n",
        "respectively.          2\n",
        "(or                    2\n",
        "three-dimensional      2\n",
        "in-hospital            2\n",
        "findings:              2\n",
        "dtype: int64"
       ]
      }
     ],
     "prompt_number": 16
    },
    {
     "cell_type": "code",
     "collapsed": false,
     "input": [
      "relevant_words = words.str.lower()\n",
      "relevant_words = relevant_words[~relevant_words.str.contains(r'[^#@a-z]')]\n",
      "relevant_words = relevant_words[relevant_words.str.len() > 1]\n",
      "ignore = set(stopwords.words('english')) & set(relevant_words.unique())\n",
      "relevant_words.value_counts().drop(ignore)"
     ],
     "language": "python",
     "metadata": {},
     "outputs": [
      {
       "metadata": {},
       "output_type": "pyout",
       "prompt_number": 17,
       "text": [
        "microbial        14\n",
        "patients         12\n",
        "degradation      10\n",
        "compared          7\n",
        "chlorpyrifos      7\n",
        "study             7\n",
        "significantly     7\n",
        "two               7\n",
        "salmon            7\n",
        "gm                7\n",
        "group             7\n",
        "higher            7\n",
        "catheter          7\n",
        "rate              6\n",
        "cervical          6\n",
        "...\n",
        "conditions     1\n",
        "neither        1\n",
        "protocols      1\n",
        "score          1\n",
        "parallel       1\n",
        "definite       1\n",
        "scanning       1\n",
        "aim            1\n",
        "hydrocarbon    1\n",
        "aquatic        1\n",
        "relative       1\n",
        "potent         1\n",
        "comparison     1\n",
        "year           1\n",
        "represent      1\n",
        "Length: 769, dtype: int64"
       ]
      }
     ],
     "prompt_number": 17
    },
    {
     "cell_type": "code",
     "collapsed": false,
     "input": [
      "from nltk.collocations import BigramCollocationFinder\n",
      "from nltk.metrics import BigramAssocMeasures\n",
      "\n",
      "bcf = BigramCollocationFinder.from_words(relevant_words)\n",
      "for pair in bcf.nbest(BigramAssocMeasures.likelihood_ratio, 30):\n",
      "    print ' '.join(pair)"
     ],
     "language": "python",
     "metadata": {},
     "outputs": [
      {
       "output_type": "stream",
       "stream": "stdout",
       "text": [
        "gm salmon\n",
        "electricity generation\n",
        "minimally invasive\n",
        "associated with\n",
        "catheter group\n",
        "slowly biodegradable\n",
        "prosthetic valve\n",
        "bone tissue\n",
        "osteogenic differentiation\n",
        "persistent af\n",
        "this study\n",
        "filtration efficiency\n",
        "freshwater macroalgae\n",
        "particularly attractive\n",
        "retrospective comparative\n",
        "surgical group\n",
        "towards gm\n",
        "microbial electricity\n",
        "based on\n",
        "suggest that\n",
        "of chlorpyrifos\n",
        "could be\n",
        "due to\n",
        "improvement in\n",
        "essential trace\n",
        "younger age\n",
        "compared to\n",
        "fuel cell\n",
        "genes involved\n",
        "ie due\n"
       ]
      }
     ],
     "prompt_number": 18
    },
    {
     "cell_type": "code",
     "collapsed": false,
     "input": [
      "top_words = relevant_words.value_counts().drop(ignore).reset_index()\n",
      "top_words.columns = ['word', 'count']\n",
      "top_words.head(15)"
     ],
     "language": "python",
     "metadata": {},
     "outputs": [
      {
       "html": [
        "<div style=\"max-height:1000px;max-width:1500px;overflow:auto;\">\n",
        "<table border=\"1\" class=\"dataframe\">\n",
        "  <thead>\n",
        "    <tr style=\"text-align: right;\">\n",
        "      <th></th>\n",
        "      <th>word</th>\n",
        "      <th>count</th>\n",
        "    </tr>\n",
        "  </thead>\n",
        "  <tbody>\n",
        "    <tr>\n",
        "      <th>0 </th>\n",
        "      <td>     microbial</td>\n",
        "      <td> 14</td>\n",
        "    </tr>\n",
        "    <tr>\n",
        "      <th>1 </th>\n",
        "      <td>      patients</td>\n",
        "      <td> 12</td>\n",
        "    </tr>\n",
        "    <tr>\n",
        "      <th>2 </th>\n",
        "      <td>   degradation</td>\n",
        "      <td> 10</td>\n",
        "    </tr>\n",
        "    <tr>\n",
        "      <th>3 </th>\n",
        "      <td>      compared</td>\n",
        "      <td>  7</td>\n",
        "    </tr>\n",
        "    <tr>\n",
        "      <th>4 </th>\n",
        "      <td>  chlorpyrifos</td>\n",
        "      <td>  7</td>\n",
        "    </tr>\n",
        "    <tr>\n",
        "      <th>5 </th>\n",
        "      <td>         study</td>\n",
        "      <td>  7</td>\n",
        "    </tr>\n",
        "    <tr>\n",
        "      <th>6 </th>\n",
        "      <td> significantly</td>\n",
        "      <td>  7</td>\n",
        "    </tr>\n",
        "    <tr>\n",
        "      <th>7 </th>\n",
        "      <td>           two</td>\n",
        "      <td>  7</td>\n",
        "    </tr>\n",
        "    <tr>\n",
        "      <th>8 </th>\n",
        "      <td>        salmon</td>\n",
        "      <td>  7</td>\n",
        "    </tr>\n",
        "    <tr>\n",
        "      <th>9 </th>\n",
        "      <td>            gm</td>\n",
        "      <td>  7</td>\n",
        "    </tr>\n",
        "    <tr>\n",
        "      <th>10</th>\n",
        "      <td>         group</td>\n",
        "      <td>  7</td>\n",
        "    </tr>\n",
        "    <tr>\n",
        "      <th>11</th>\n",
        "      <td>        higher</td>\n",
        "      <td>  7</td>\n",
        "    </tr>\n",
        "    <tr>\n",
        "      <th>12</th>\n",
        "      <td>      catheter</td>\n",
        "      <td>  7</td>\n",
        "    </tr>\n",
        "    <tr>\n",
        "      <th>13</th>\n",
        "      <td>          rate</td>\n",
        "      <td>  6</td>\n",
        "    </tr>\n",
        "    <tr>\n",
        "      <th>14</th>\n",
        "      <td>      cervical</td>\n",
        "      <td>  6</td>\n",
        "    </tr>\n",
        "  </tbody>\n",
        "</table>\n",
        "<p>15 rows \u00d7 2 columns</p>\n",
        "</div>"
       ],
       "metadata": {},
       "output_type": "pyout",
       "prompt_number": 19,
       "text": [
        "             word  count\n",
        "0       microbial     14\n",
        "1        patients     12\n",
        "2     degradation     10\n",
        "3        compared      7\n",
        "4    chlorpyrifos      7\n",
        "5           study      7\n",
        "6   significantly      7\n",
        "7             two      7\n",
        "8          salmon      7\n",
        "9              gm      7\n",
        "10          group      7\n",
        "11         higher      7\n",
        "12       catheter      7\n",
        "13           rate      6\n",
        "14       cervical      6\n",
        "\n",
        "[15 rows x 2 columns]"
       ]
      }
     ],
     "prompt_number": 19
    },
    {
     "cell_type": "code",
     "collapsed": false,
     "input": [],
     "language": "python",
     "metadata": {},
     "outputs": []
    },
    {
     "cell_type": "code",
     "collapsed": false,
     "input": [
      "word_list = list(top_words.word)\n",
      "word_str = ' '.join(word_list)\n",
      "print word_str"
     ],
     "language": "python",
     "metadata": {},
     "outputs": [
      {
       "output_type": "stream",
       "stream": "stdout",
       "text": [
        "microbial patients degradation compared chlorpyrifos study significantly two salmon gm group higher catheter rate cervical steam treated acda valve water functional persistent associated biodegradable osteogenic used endocarditis using data ffr lower bioremediation tissue biodegradation genes membrane general ci results public cell towards due surgical strain productivity high differentiation present af improvement ffrs bone increased significant factors readily highly surface attitude toxic soil msc suggest invasive biomass decontamination stroke order transformation gene healthcare quality pbde acdf slowly waste ablation bmm major compounds essential behaviors characteristics found based neck generation assess use formulation minimally whether younger outcomes algal one detected culture electricity clinically concentrations important could presence prosthetic enhanced potential also work effectiveness native randomized atz develop performed hydrolysis current determined followed trace retrospective outcome ie following showed encouragement thus promising need concentration prevalence mechanisms methods remain pain incidence carbon effective different inoculated objective activity oedogonium freshwater pcl efficiency decontaminated electrodes available surgery arm attractive various structures included spondylosis methodology product products infective metabolites ph number reduce particularly candidates addition weight may efficacy fuel still modeling absorption foulants method research meet trials possible evaluate large biotransformation pbdes anterior treatment bioenergy macroalgae failure within cells maximum polymers level difference understanding home influence evidence limit involved risk toxicity patient engineering studies involves issue specific filtration similar hacek substances analysis well required elements complex model freedom introducing acid discectomy comparative tcp excellent dose time reporting screening determine cultures msf must age accumulation findings respiratory diphenyl community vegetations observational proteins adhesion crucial identified perceived small skeletal eikenella biological series energy region mitral safe mean filtering ex predilection doses supplies dw identifies inactivating guidelines concerns matrix equation electron contained candidate intensive compositions removal benefits disability language inexpensive feeding inferences reoperation marketed religious stimulate dominated origin morphology prospective grade four lack ald causes utilized influenza herbicides differ ash suffered estimate foods dioxide suggesting affect diversity comprehensive induction integrated red specifically solvent interactions instructions pathogenic accumulative corresponding approximately humification degeneration commercially completely besides pseudomonas seem include articles uptake ubiquitous archives scenarios osteoblasts pure would confidence revealed select pathway mesenchymal degradable routine screened chemical prognostic direct useful hazard fungus settings composed response natural redonning social survey polybrominated sites register neurological modified abundance pollutant adult transient making excess stimulating visual tested successful kingella heart hydrophilic applications management indicated fractions environment recommended type criteria respective reductive end predictors larger addressing ablations index new rapidly attitudes pcr hospitals selected better systems scaffold organisms decreased versus harbors bacteria affected persistence dam perspective material ethanesulfonic design crop rdna supplemented industries element biomacromolecules maintain dry allow detoxification strong methoxylation address groups infant mature mainly dichotomous supporting desired residual paper including commercial respectively statistical kinetic ranged full suitable chlorinated arthroplasty least much spine success cladosporioides fusion survival fate construct atrazine cardiobacterium remaining measurements rcts intermediate threatening polymeric workers adp cochrane indication adw either safety demonstrates colloidal scale delivered oxanilic bioremediate urgent interplay competition people often mathematical reduced limitation neurologic death scaffolds application recurrent containing cohort grown conserve international optimistic examined correlated almost affects balance aid promoted cause medically evaluated likert resulting goal potentially identify sources hypothesized bioreactors qualities single materials eps died database tracking frequently effect investigated unable development widely extensively microwave eliminate spatial genome field aromatic physical variety microalgae epidemiological ni electronic anaerobic selection describe abstract constant reusing spectrometry demonstrate antiarrhythmic pollutants eluates constructed bioassay kinetics fluorescence faster yields independently rare phosphorus pool smp bibliographies dissipation biosis generated metabolized humic greater factor requiring stem vivo three concomitantly despite reuse carried central communities although disappeared expansion analysed processing power minimal mining disinfecting appropriate promise function tolerated removed technologies societal confirmed complete medium valley reducing resulted low clinical cultured initial support mbr developing implemented cladosporium metal unclear questionnaires mineral approved measured assessed bags virus bioaugmentation collaboration experienced biotoxicity performance genetically absorbed ideal isolated clear expression congestive databases enriched approaches drugs alizarin title impact analogue acceptability surgically soluble little meetings contaminant show fungal numbers obtained isolate responsible self efficient organic positively pathogens necessary spectra serve continuous option metabolic fouling yielded recovered adjacent respirators geochip station needed critically polysaccharides double bacteriophage bacterium easily viewed linked text seen vas generate surrogate stakeholder modern brominated differentiated viable risks accumulate aggregatibacter sulfur representative result relevant among experimental whole genus klang streams manifestations facepiece many limits perceptions suggested declining multivariable degrade point environments moderately optimum multipotent gas formed hospitalized component controlled ethers pn maintenance remediate environmental trigger polystyrene strategy acceptance decline structural contamination remained ps sole spiked bag malaysian countries metabolite resolve microcosms untreated distinctly arrhythmia overall relevance degradability enhance mortality extracellular common explanations stakeholders representatives initially statistically conditions neither protocols score parallel definite scanning aim hydrocarbon aquatic relative potent comparison year represent\n"
       ]
      }
     ],
     "prompt_number": 40
    },
    {
     "cell_type": "code",
     "collapsed": false,
     "input": [
      "top_words['word'].to_csv('wordcloud.csv', index=False)"
     ],
     "language": "python",
     "metadata": {},
     "outputs": [],
     "prompt_number": 39
    },
    {
     "cell_type": "code",
     "collapsed": false,
     "input": [],
     "language": "python",
     "metadata": {},
     "outputs": []
    }
   ],
   "metadata": {}
  }
 ]
}