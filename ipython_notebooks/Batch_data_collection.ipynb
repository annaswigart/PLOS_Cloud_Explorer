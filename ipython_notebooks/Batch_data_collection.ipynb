{
 "metadata": {
  "gist_id": "11133500",
  "name": "",
  "signature": "sha256:969f3bc5dbe48f33b1b65dc221a5a7781d453ac0fc5bef9b2c16e026f495d3cd"
 },
 "nbformat": 3,
 "nbformat_minor": 0,
 "worksheets": [
  {
   "cells": [
    {
     "cell_type": "heading",
     "level": 2,
     "metadata": {},
     "source": [
      "Batch Data Collection"
     ]
    },
    {
     "cell_type": "markdown",
     "metadata": {},
     "source": [
      "This notebook will download all 100k+ articles with abstracts from the PLOS api.\n",
      "\n",
      "nbviewer to share: http://nbviewer.ipython.org/gist/anonymous/11133500"
     ]
    },
    {
     "cell_type": "heading",
     "level": 3,
     "metadata": {},
     "source": [
      "Imports"
     ]
    },
    {
     "cell_type": "code",
     "collapsed": false,
     "input": [
      "import pandas as pd\n",
      "import numpy as np \n",
      "import settings\n",
      "import requests\n",
      "import urllib\n",
      "import time\n",
      "from retrying import retry\n",
      "import os"
     ],
     "language": "python",
     "metadata": {},
     "outputs": [],
     "prompt_number": 32
    },
    {
     "cell_type": "heading",
     "level": 3,
     "metadata": {},
     "source": [
      "API Call Function"
     ]
    },
    {
     "cell_type": "code",
     "collapsed": false,
     "input": [
      "#adapted from Raymond's notebook\n",
      "\n",
      "def plos_search(q,start=0,rows=100,fl=None, extras=None):\n",
      "\n",
      "    BASE_URL = 'http://api.plos.org/search'\n",
      "    DEFAULT_FL = ('abstract','author',\n",
      "                  'id','journal','publication_date',\n",
      "                  'score','title_display', 'subject','subject_level')\n",
      "        #removed elements: eissn, article_type\n",
      "    \n",
      "    # fl indicates fields to return\n",
      "    # http://wiki.apache.org/solr/CommonQueryParameters#fl\n",
      "    \n",
      "    if fl is None:\n",
      "        fl_ = \",\".join(DEFAULT_FL)\n",
      "    else:\n",
      "        fl_ = \",\".join(fl)\n",
      "        \n",
      "    query = {'q':q,\n",
      "             'start':start,\n",
      "             'rows':rows,\n",
      "             'api_key':settings.PLOS_KEY,\n",
      "             'wt':'json',\n",
      "             'fl':fl_,\n",
      "             'fq': 'doc_type:full AND !article_type_facet:\"Issue Image\"'}\n",
      "    \n",
      "    if extras is not None:\n",
      "        query.update(extras)\n",
      "        \n",
      "    query_url = BASE_URL + \"?\" +urllib.urlencode(query)\n",
      "    \n",
      "    r = requests.get(query_url)\n",
      "    return r"
     ],
     "language": "python",
     "metadata": {},
     "outputs": [],
     "prompt_number": 2
    },
    {
     "cell_type": "heading",
     "level": 3,
     "metadata": {},
     "source": [
      "Finding Parameters"
     ]
    },
    {
     "cell_type": "markdown",
     "metadata": {},
     "source": [
      "Need to make sure the calls do not exceed the following:\n",
      "\n",
      "7200 requests a day, 300 per hour, 10 per minute and allow 5 seconds for your search to return results.\n",
      "\n",
      "To be safe there will be a 15 second wait between each call:\n",
      "15 sec per call\n",
      "4 calls per minute\n",
      "240 calls per hour"
     ]
    },
    {
     "cell_type": "markdown",
     "metadata": {},
     "source": [
      "Call for all articles"
     ]
    },
    {
     "cell_type": "code",
     "collapsed": false,
     "input": [
      "r = plos_search(q='subject:\"Information technology\"')"
     ],
     "language": "python",
     "metadata": {},
     "outputs": [],
     "prompt_number": 27
    },
    {
     "cell_type": "markdown",
     "metadata": {},
     "source": [
      "Check the total number of articles with abstracts."
     ]
    },
    {
     "cell_type": "code",
     "collapsed": false,
     "input": [
      "tot_articles = r.json()['response']['numFound']\n",
      "tot_articles"
     ],
     "language": "python",
     "metadata": {},
     "outputs": [
      {
       "metadata": {},
       "output_type": "pyout",
       "prompt_number": 30,
       "text": [
        "1120"
       ]
      }
     ],
     "prompt_number": 30
    },
    {
     "cell_type": "markdown",
     "metadata": {},
     "source": [
      "With 118545 acticles total that means that we will have to perform 1,186 API requests at 100 articles per request.\n",
      "\n",
      "At 240 requests per hour it should take about 5 hours to get all the data needed."
     ]
    },
    {
     "cell_type": "heading",
     "level": 3,
     "metadata": {},
     "source": [
      "Looping Function"
     ]
    },
    {
     "cell_type": "markdown",
     "metadata": {},
     "source": [
      "This function will call the plos_search function every 15 seconds while incrementing the start number so that all of the articles can be pulled."
     ]
    },
    {
     "cell_type": "code",
     "collapsed": false,
     "input": [
      "@retry(wait='exponential_sleep', wait_exponential_multiplier=1000, wait_exponential_max=10000, stop='stop_after_attempt', stop_max_attempt_number=7)\n",
      "def data_request(end, start=0):\n",
      "    if os.path.exists('../data/abstract_df.pkl'):\n",
      "        df = pd.read_pickle('../data/abstract_df.pkl')\n",
      "        start = len(df)\n",
      "    current_end = end - start\n",
      "    loops = (current_end/100) + 1\n",
      "    for n in range(loops):\n",
      "        r = plos_search(q='subject:\"Information technology\"', start=start)\n",
      "        \n",
      "        #store data before next call\n",
      "        data = r.json()['response']['docs']\n",
      "        if start == 0:\n",
      "            abstract_df = pd.DataFrame(data)\n",
      "        else:\n",
      "            df = pd.read_pickle('../data/abstract_df.pkl')\n",
      "            abstract_df = df.append(pd.DataFrame(data))\n",
      "        \n",
      "        #increment the start for the next request\n",
      "        start+=100\n",
      "        \n",
      "        #every request pickle the dataframe\n",
      "        abstract_df.to_pickle('../data/abstract_df.pkl')\n",
      "        \n",
      "        #wait 15 seconds before the next loop\n",
      "        time.sleep(15)\n",
      "        \n",
      "    #pickle when finished\n",
      "    abstract_df.to_pickle('../data/abstract_df.pkl')\n",
      "    \n",
      "    return abstract_df\n",
      "        "
     ],
     "language": "python",
     "metadata": {},
     "outputs": [],
     "prompt_number": 34
    },
    {
     "cell_type": "markdown",
     "metadata": {},
     "source": [
      "Now we can run the function inputing the tot_articles as the end parameter.\n",
      "\n",
      "**Make sure that the 'abstract_df.pkl' does not exist in the directory before running**"
     ]
    },
    {
     "cell_type": "code",
     "collapsed": false,
     "input": [
      "abstract_df = data_request(end=tot_articles)"
     ],
     "language": "python",
     "metadata": {},
     "outputs": [],
     "prompt_number": 35
    },
    {
     "cell_type": "heading",
     "level": 3,
     "metadata": {},
     "source": [
      "Exploring Output"
     ]
    },
    {
     "cell_type": "code",
     "collapsed": false,
     "input": [
      "abstract_df = pd.read_pickle('abstract_df.pkl')"
     ],
     "language": "python",
     "metadata": {},
     "outputs": [],
     "prompt_number": 9
    },
    {
     "cell_type": "code",
     "collapsed": false,
     "input": [
      "len(list(abstract_df.author))"
     ],
     "language": "python",
     "metadata": {},
     "outputs": [
      {
       "metadata": {},
       "output_type": "pyout",
       "prompt_number": 13,
       "text": [
        "300"
       ]
      }
     ],
     "prompt_number": 13
    },
    {
     "cell_type": "code",
     "collapsed": false,
     "input": [
      "print list(abstract_df.subject)[0]"
     ],
     "language": "python",
     "metadata": {},
     "outputs": []
    },
    {
     "cell_type": "code",
     "collapsed": false,
     "input": [
      "abstract_df.tail()"
     ],
     "language": "python",
     "metadata": {},
     "outputs": [
      {
       "html": [
        "<div style=\"max-height:1000px;max-width:1500px;overflow:auto;\">\n",
        "<table border=\"1\" class=\"dataframe\">\n",
        "  <thead>\n",
        "    <tr style=\"text-align: right;\">\n",
        "      <th></th>\n",
        "      <th>abstract</th>\n",
        "      <th>author</th>\n",
        "      <th>id</th>\n",
        "      <th>journal</th>\n",
        "      <th>publication_date</th>\n",
        "      <th>score</th>\n",
        "      <th>subject</th>\n",
        "      <th>title_display</th>\n",
        "    </tr>\n",
        "  </thead>\n",
        "  <tbody>\n",
        "    <tr>\n",
        "      <th>95</th>\n",
        "      <td> [Background: Sperm from C57BL/6 mice are diffi...</td>\n",
        "      <td> [G Charles Ostermeier, Michael V Wiles, Jane S...</td>\n",
        "      <td> 10.1371/journal.pone.0002792</td>\n",
        "      <td> PLoS ONE</td>\n",
        "      <td> 2008-07-30T00:00:00Z</td>\n",
        "      <td> 1</td>\n",
        "      <td> [/Biology and life sciences/Biotechnology/Gene...</td>\n",
        "      <td> Conserving, Distributing and Managing Genetica...</td>\n",
        "    </tr>\n",
        "    <tr>\n",
        "      <th>96</th>\n",
        "      <td> [Background: This study was conducted to deter...</td>\n",
        "      <td> [Mahamadou S Sissoko, Abdoulaye Dabo, Hamidou ...</td>\n",
        "      <td> 10.1371/journal.pone.0006732</td>\n",
        "      <td> PLoS ONE</td>\n",
        "      <td> 2009-10-05T00:00:00Z</td>\n",
        "      <td> 1</td>\n",
        "      <td> [/Research and analysis methods/Research desig...</td>\n",
        "      <td> Efficacy of Artesunate + Sulfamethoxypyrazine/...</td>\n",
        "    </tr>\n",
        "    <tr>\n",
        "      <th>97</th>\n",
        "      <td> [Background: In southern China, a wild ectomyc...</td>\n",
        "      <td> [Mochan Li, Junfeng Liang, Yanchun Li, Bang Fe...</td>\n",
        "      <td> 10.1371/journal.pone.0010684</td>\n",
        "      <td> PLoS ONE</td>\n",
        "      <td> 2010-05-18T00:00:00Z</td>\n",
        "      <td> 1</td>\n",
        "      <td> [/Research and analysis methods/Molecular biol...</td>\n",
        "      <td> Genetic Diversity of Dahongjun, the Commercial...</td>\n",
        "    </tr>\n",
        "    <tr>\n",
        "      <th>98</th>\n",
        "      <td> [Background: To examine the corneal epithelial...</td>\n",
        "      <td> [I-Jong Wang, Ray Jui-Fang Tsai, Lung-Kun Yeh,...</td>\n",
        "      <td> 10.1371/journal.pone.0014537</td>\n",
        "      <td> PLoS ONE</td>\n",
        "      <td> 2011-01-14T00:00:00Z</td>\n",
        "      <td> 1</td>\n",
        "      <td> [/Biology and life sciences/Anatomy/Ocular sys...</td>\n",
        "      <td> Changes in Corneal Basal Epithelial Phenotypes...</td>\n",
        "    </tr>\n",
        "    <tr>\n",
        "      <th>99</th>\n",
        "      <td> [\\n        In order to further understand the ...</td>\n",
        "      <td> [Daniel Wiswede, Svenja Taubner, Thomas F M\u00fcnt...</td>\n",
        "      <td> 10.1371/journal.pone.0022599</td>\n",
        "      <td> PLoS ONE</td>\n",
        "      <td> 2011-07-21T00:00:00Z</td>\n",
        "      <td> 1</td>\n",
        "      <td> [/Biology and life sciences/Psychology/Behavio...</td>\n",
        "      <td> Neurophysiological Correlates of Laboratory-In...</td>\n",
        "    </tr>\n",
        "  </tbody>\n",
        "</table>\n",
        "<p>5 rows \u00d7 8 columns</p>\n",
        "</div>"
       ],
       "metadata": {},
       "output_type": "pyout",
       "prompt_number": 12,
       "text": [
        "                                             abstract  \\\n",
        "95  [Background: Sperm from C57BL/6 mice are diffi...   \n",
        "96  [Background: This study was conducted to deter...   \n",
        "97  [Background: In southern China, a wild ectomyc...   \n",
        "98  [Background: To examine the corneal epithelial...   \n",
        "99  [\\n        In order to further understand the ...   \n",
        "\n",
        "                                               author  \\\n",
        "95  [G Charles Ostermeier, Michael V Wiles, Jane S...   \n",
        "96  [Mahamadou S Sissoko, Abdoulaye Dabo, Hamidou ...   \n",
        "97  [Mochan Li, Junfeng Liang, Yanchun Li, Bang Fe...   \n",
        "98  [I-Jong Wang, Ray Jui-Fang Tsai, Lung-Kun Yeh,...   \n",
        "99  [Daniel Wiswede, Svenja Taubner, Thomas F M\u00fcnt...   \n",
        "\n",
        "                              id   journal      publication_date  score  \\\n",
        "95  10.1371/journal.pone.0002792  PLoS ONE  2008-07-30T00:00:00Z      1   \n",
        "96  10.1371/journal.pone.0006732  PLoS ONE  2009-10-05T00:00:00Z      1   \n",
        "97  10.1371/journal.pone.0010684  PLoS ONE  2010-05-18T00:00:00Z      1   \n",
        "98  10.1371/journal.pone.0014537  PLoS ONE  2011-01-14T00:00:00Z      1   \n",
        "99  10.1371/journal.pone.0022599  PLoS ONE  2011-07-21T00:00:00Z      1   \n",
        "\n",
        "                                              subject  \\\n",
        "95  [/Biology and life sciences/Biotechnology/Gene...   \n",
        "96  [/Research and analysis methods/Research desig...   \n",
        "97  [/Research and analysis methods/Molecular biol...   \n",
        "98  [/Biology and life sciences/Anatomy/Ocular sys...   \n",
        "99  [/Biology and life sciences/Psychology/Behavio...   \n",
        "\n",
        "                                        title_display  \n",
        "95  Conserving, Distributing and Managing Genetica...  \n",
        "96  Efficacy of Artesunate + Sulfamethoxypyrazine/...  \n",
        "97  Genetic Diversity of Dahongjun, the Commercial...  \n",
        "98  Changes in Corneal Basal Epithelial Phenotypes...  \n",
        "99  Neurophysiological Correlates of Laboratory-In...  \n",
        "\n",
        "[5 rows x 8 columns]"
       ]
      }
     ],
     "prompt_number": 12
    },
    {
     "cell_type": "heading",
     "level": 3,
     "metadata": {},
     "source": [
      "Cleaning Output"
     ]
    },
    {
     "cell_type": "markdown",
     "metadata": {},
     "source": [
      "####Testing retry decorator\n",
      "\n",
      "This is making sure that the retry decorator works"
     ]
    },
    {
     "cell_type": "code",
     "collapsed": false,
     "input": [
      "import random\n",
      "\n",
      "@retry\n",
      "def do_something_unreliable():\n",
      "    if random.randint(0, 2) > 1:\n",
      "        raise IOError(\"Broken sauce, everything is hosed!!!111one\")\n",
      "    else:\n",
      "        return \"Awesome sauce!\"\n",
      "\n",
      "print do_something_unreliable()"
     ],
     "language": "python",
     "metadata": {},
     "outputs": [
      {
       "output_type": "stream",
       "stream": "stdout",
       "text": [
        "Awesome sauce!\n"
       ]
      }
     ],
     "prompt_number": 26
    },
    {
     "cell_type": "code",
     "collapsed": false,
     "input": [],
     "language": "python",
     "metadata": {},
     "outputs": []
    }
   ],
   "metadata": {}
  }
 ]
}