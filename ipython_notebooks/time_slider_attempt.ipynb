{
 "metadata": {
  "name": "",
  "signature": "sha256:4c6ea896042c8fb8d95b7af0df41dee6279fed3507d7f7f44874f6bf87beb555"
 },
 "nbformat": 3,
 "nbformat_minor": 0,
 "worksheets": [
  {
   "cells": [
    {
     "cell_type": "code",
     "collapsed": false,
     "input": [
      "from IPython.display import display, Image, HTML, clear_output\n",
      "from IPython.html import widgets"
     ],
     "language": "python",
     "metadata": {},
     "outputs": []
    },
    {
     "cell_type": "code",
     "collapsed": false,
     "input": [
      "dir(widgets)"
     ],
     "language": "python",
     "metadata": {},
     "outputs": []
    },
    {
     "cell_type": "code",
     "collapsed": false,
     "input": [
      "from jinja2 import Template\n",
      "import uuid\n",
      "\n",
      "def square(r,g,b,a):\n",
      "\n",
      "    html_template = \"\"\"\n",
      "    <style>\n",
      "\n",
      "    #{{div_id}} {\n",
      "        background-color: rgba({{r}},{{g}},{{b}},{{a}});\n",
      "        height:100px;\n",
      "        width:100px;\n",
      "    }\n",
      "\n",
      "    </style>\n",
      "\n",
      "    <div id=\"{{div_id}}\"> foobar </div>\"\"\"\n",
      "    \n",
      "    div_id=\"i\" + str(uuid.uuid4())\n",
      "\n",
      "    html_src = Template(html_template).render(r=r, g=g, b=b, a=a, div_id=div_id)\n",
      "    display(HTML(html_src))\n",
      "        \n",
      "square(255,0,255,1)"
     ],
     "language": "python",
     "metadata": {},
     "outputs": []
    },
    {
     "cell_type": "code",
     "collapsed": false,
     "input": [
      "widgets.interact(square,\n",
      "                 r=widgets.IntSliderWidget(min=0,max=255,step=1,value=0),\n",
      "                 g=widgets.IntSliderWidget(min=0,max=255,step=1,value=0),\n",
      "                 b=widgets.IntSliderWidget(min=0,max=255,step=1,value=0),\n",
      "                 a=widgets.FloatSliderWidget(min=0,max=1,value=1)\n",
      "                )"
     ],
     "language": "python",
     "metadata": {},
     "outputs": []
    }
   ],
   "metadata": {}
  }
 ]
}